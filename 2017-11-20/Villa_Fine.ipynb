{
 "cells": [
  {
   "cell_type": "code",
   "execution_count": null,
   "metadata": {},
   "outputs": [],
   "source": []
  },
  {
   "cell_type": "code",
   "execution_count": null,
   "metadata": {},
   "outputs": [],
   "source": [
    "from Elementidicostruzione_Travi_Porticato2 import *\n",
    "from Elementidicostruzione_Porta import *\n",
    "from Elementidicostruzione_Finestra import *\n",
    "from Elementidicostruzione_Scala_Esterna15 import *\n",
    "#from Elementidicostruzione_Arco import *\n",
    "from Elementidicostruzione_Comignolo import *\n",
    "from Elementidicostruzione_Grate7 import *\n",
    "from Elementidistrutturainterna2 import *\n",
    "from Funzioni_Globali6 import *"
   ]
  },
  {
   "cell_type": "markdown",
   "metadata": {},
   "source": [
    "<h1> Costruzione della struttura principale della villa </h1>"
   ]
  },
  {
   "cell_type": "code",
   "execution_count": 2,
   "metadata": {},
   "outputs": [],
   "source": [
    "#inizio costruzione villa composta da porticato, 4 stanze e una stanza posteriore per l'ingresso \n",
    "#Atrio\n",
    "\n",
    "Atrio = stanza(16,10,15)\n",
    "Cubo = CUBOID([12,9,5])\n",
    "Cubo = T(1)(2)(Cubo)\n",
    "Atrio = DIFFERENCE([Atrio,Cubo])\n",
    "\n",
    "#Camere\n",
    "Camera_Anteriore = stanza(12,10,15)\n",
    "Camera_Anteriore2 = T(1)(28)(Camera_Anteriore)\n",
    "Camera_Anteriore = STRUCT([Camera_Anteriore,Camera_Anteriore2])\n",
    "\n",
    "Camere_Piccole = stanza(5,10,15)\n",
    "Camere_Piccole = T(3)(15)(Camere_Piccole)\n",
    "Costruzione = STRUCT([Camera_Anteriore,Camere_Piccole])\n",
    "Camere_Piccola2 = T(1)(35)(Camere_Piccole)\n",
    "Costruzione = STRUCT([Costruzione,Camere_Piccola2])\n",
    "\n",
    "Camere_Medie = stanza(9,10,15)\n",
    "Camere_Medie = T([1,3])([5,15])(Camere_Medie)\n",
    "Camere_Media2 = T(1)(21.5)(Camere_Medie)\n",
    "Camere_Medie = STRUCT([Camere_Medie,Camere_Media2])\n",
    "Costruzione = STRUCT([Costruzione,Camere_Medie])\n"
   ]
  },
  {
   "cell_type": "code",
   "execution_count": 3,
   "metadata": {},
   "outputs": [],
   "source": [
    "Camera_Grande = stanza(12.5,10,15)\n",
    "Cubo = CUBOID([7.5,10,15])\n",
    "Cubo = T([1,3])([2.25,3])(Cubo)\n",
    "Camera_Grande = DIFFERENCE([Camera_Grande,Cubo])\n",
    "Scale_Interne = scale_int(4,0.4,1.8)\n",
    "#Scale_Interne = T(2)(-4.0)(Scale_interne)\n",
    "#Scale_Interne = T(2)(4.0)(Scale_Interne)\n",
    "Scale_Interne = T(2)(-4.0)(Scale_Interne)\n",
    "Scale_Interne = R([1,3])(PI)(Scale_Interne)\n",
    "Scale_Interne = T(3)(6)(Scale_Interne)\n",
    "Scale_Interne1 = R([1,3])((3*PI)/2)(Scale_Interne)\n",
    "Camera_Grande = STRUCT([Camera_Grande,Scale_Interne1])\n",
    "Scale_Interne2 = R([1,3])(PI/2)(Scale_Interne)\n",
    "Scale_Interne2 = T([1,3])([12.7,4.2])(Scale_Interne2)\n",
    "Camera_Grande = STRUCT([Camera_Grande,Scale_Interne2])\n",
    "#VIEW(Camera_Grande)\n",
    "Camera_Grande = T([1,3])([14,15])(Camera_Grande)\n",
    "Costruzione = STRUCT([Costruzione,Camera_Grande])"
   ]
  },
  {
   "cell_type": "code",
   "execution_count": 4,
   "metadata": {},
   "outputs": [],
   "source": [
    "Atrio = T(1)(12)(Atrio)\n",
    "Foro_Grate = CUBOID([0.5,1,1])\n",
    "Foro_Grate1 = R([1,2])(PI/2)(Foro_Grate)\n",
    "Foro_Grate1 = T([1,2,3])([17,8,14])(Foro_Grate)\n",
    "\n",
    "Foro_Grate2 = T([1,2,3])([24,5,14])(Foro_Grate)\n",
    "Foro_Grate3 = R([1,2])(PI/2)(Foro_Grate)\n",
    "Foro_Grate3 = T([1,2,3])([16,3,14])(Foro_Grate3)\n",
    "\n",
    "Fori = STRUCT([Foro_Grate1,Foro_Grate2,Foro_Grate3])\n",
    "Atrio = DIFFERENCE([Atrio,Fori])\n",
    "Costruzione = STRUCT([Costruzione,Atrio])\n",
    "\n",
    "\n",
    "\n",
    "\n",
    "Foro_Finestra = CUBOID([1.5,3.8,0.5])\n",
    "Foro_Finestra = T([1,2])([2,2])(Foro_Finestra)\n",
    "Foro_Finestra2 = T(1)(6)(Foro_Finestra)\n",
    "Foro_Finestra = STRUCT([Foro_Finestra,Foro_Finestra2])\n",
    "Foro_Finestra2 = T(1)(27)(Foro_Finestra)\n",
    "Foro_Finestra = STRUCT([Foro_Finestra,Foro_Finestra2])\n",
    "Costruzione = DIFFERENCE([Costruzione,Foro_Finestra])\n",
    "\n",
    "\n",
    "\n",
    "\n",
    "\n",
    "Foro_Finestrelle = CUBOID([1.5,1.5,1.5])\n",
    "Foro_Finestrelle = T(2)(2)(Foro_Finestrelle)\n",
    "Foro_Finestrelle = STRUCT(NN(3)([T(3)(7.9),Foro_Finestrelle]))\n",
    "Foro_Finestrelle2 = T([2,3])([3,-2])(Foro_Finestrelle)\n",
    "Foro_Finestrelle3 = T([2,3])([6,3.5])(Foro_Finestrelle)\n",
    "Foro_Finestrelle = STRUCT([Foro_Finestrelle,Foro_Finestrelle2,Foro_Finestrelle3])\n",
    "#VIEW(DIFFERENCE([Costruzione,Foro_Finestrelle]))\n",
    "\n",
    "\n",
    "\n",
    "Foro_Finestrelle2 = R([1,3])((3*PI)/2)(Foro_Finestrelle)\n",
    "Foro_Finestrelle2 = T([1,3])([-15.5,30])(Foro_Finestrelle2)\n",
    "Foro_Finestrelle3 = T(1)(40)(Foro_Finestrelle2)\n",
    "Foro_Finestrelle2 = STRUCT([Foro_Finestrelle2,Foro_Finestrelle3])\n",
    "\n",
    "\n",
    "Costruzione = STRUCT([Costruzione,Foro_Finestrelle2])\n",
    "Costruzione = DIFFERENCE([Costruzione,Foro_Finestrelle2])"
   ]
  },
  {
   "cell_type": "code",
   "execution_count": null,
   "metadata": {},
   "outputs": [],
   "source": []
  },
  {
   "cell_type": "code",
   "execution_count": 5,
   "metadata": {},
   "outputs": [],
   "source": [
    "Costruzione = forofinestrelle_laterali(Costruzione)"
   ]
  },
  {
   "cell_type": "code",
   "execution_count": 6,
   "metadata": {},
   "outputs": [],
   "source": [
    "Costruzione = STRUCT([Costruzione,Camera_Grande])\n",
    "Cubo_Foro = CUBOID([35,13,3])\n",
    "Cubo_Foro = T([1,3])([3.5,22])(Cubo_Foro)\n",
    "Cubo_Foro = T(2)(-4)(Cubo_Foro)\n",
    "Costruzione = DIFFERENCE([Costruzione,Cubo_Foro])"
   ]
  },
  {
   "cell_type": "markdown",
   "metadata": {},
   "source": []
  },
  {
   "cell_type": "code",
   "execution_count": 7,
   "metadata": {},
   "outputs": [],
   "source": [
    "Porta_Foro = CUBOID([30,3,2])\n",
    "#Porta_Foro = R([1,3])(PI)(Porta_Foro)\n",
    "\n",
    "Porta_Foro = T([1,3])([1,6.5])(Porta_Foro)\n",
    "#VIEW(STRUCT([Atrio,Porta_Foro]))\n",
    "\n",
    "#VIEW(STRUCT([Atrio,Porta_Foro]))\n",
    "#Atrio = DIFFERENCE([Atrio,Porta_Foro])\n",
    "#VIEW(Atrio)\n",
    "Porta_Foro_2 = R([1,3])(PI/2)(Porta_Foro)\n",
    "Porta_Foro_2 = T([1,3])([27,7])(Porta_Foro_2)\n",
    "#VIEW(STRUCT([Atrio,Porta_Foro_2]))\n",
    "Porta_Foro = STRUCT([Porta_Foro,Porta_Foro_2])\n",
    "Porta_Foro_3 = CUBOID([1,4,2])\n",
    "Porta_Foro_3 = R([1,3])(PI/2)(Porta_Foro_3)\n",
    "Porta_Foro_3 = T([1,3])([40.15,12.50])(Porta_Foro_3)\n",
    "Porta_Foro = STRUCT([Porta_Foro,Porta_Foro_3])\n",
    "Costruzione = STRUCT([Costruzione,Atrio])\n",
    "Costruzione = DIFFERENCE([Costruzione,Porta_Foro])"
   ]
  },
  {
   "cell_type": "code",
   "execution_count": 8,
   "metadata": {},
   "outputs": [],
   "source": [
    "Camera_Posteriore = CUBOID([8,13.8,10])\n",
    "Cam_Buco = CUBOID([7,14,10])\n",
    "Cam_Buco = T([1,3])([0.5,-1])(Cam_Buco)\n",
    "#Camera_Posteriore = DIFFERENCE([Camera_Posteriore,Pavimento])\n",
    "#Porta_Finestra =\n",
    "Camera_Posteriore = DIFFERENCE([Camera_Posteriore,Cam_Buco])\n",
    "Pavimento = CUBOID([7.8,0.25,9.8])\n",
    "Camera_Posteriore = STRUCT([Camera_Posteriore,Pavimento])\n",
    "Porta_Finestra = CUBOID([2,4,6])\n",
    "#Bene\n",
    "Porta_Finestra = T([1,2,3])([3,5.8,7.5])(Porta_Finestra)\n",
    "Camera_Posteriore = DIFFERENCE([Camera_Posteriore,Porta_Finestra])\n",
    "Finestra_Sopra_Porta = CUBOID([2,2,6])\n",
    "Finestra_Sopra_Porta = T([1,2,3])([3,10.8,7.5])(Finestra_Sopra_Porta)\n",
    "Camera_Posteriore = DIFFERENCE([Camera_Posteriore,Finestra_Sopra_Porta])\n",
    "Foro_Inferiore_Camera = CUBOID([2,3,0.6])\n",
    "#Bene\n",
    "Foro_Inferiore_Camera = R([1,3])(PI/2)(Foro_Inferiore_Camera)\n",
    "Foro_Inferiore_Camera = T([1,2,3])([0.5,0.3,7])(Foro_Inferiore_Camera)\n",
    "Camera_Posteriore = DIFFERENCE([Camera_Posteriore,Foro_Inferiore_Camera])\n",
    "Foro_Inferiore_Camera = T(1)(7.6)(Foro_Inferiore_Camera)\n",
    "Camera_Posteriore = DIFFERENCE([Camera_Posteriore,Foro_Inferiore_Camera])\n",
    "Foro_Inferiore_Camera = T(1)(7.6)(Foro_Inferiore_Camera)\n",
    "Camera_Posteriore = DIFFERENCE([Camera_Posteriore,Foro_Inferiore_Camera])\n",
    "Finestra_Superiore_Camera_Posteriore = CUBOID([2,5,0.6])\n",
    "Finestra_Superiore_Camera_Posteriore = R([1,3])(PI/2)(Finestra_Superiore_Camera_Posteriore)\n",
    "Finestra_Superiore_Camera_Posteriore = T([1,2,3])([0.5,7.8,7])(Finestra_Superiore_Camera_Posteriore)\n",
    "Camera_Posteriore = DIFFERENCE([Camera_Posteriore,Finestra_Superiore_Camera_Posteriore])\n",
    "Finestra_Superiore_Camera_Posteriore = T(1)(7.6)(Finestra_Superiore_Camera_Posteriore)\n",
    "Camera_Posteriore = DIFFERENCE([Camera_Posteriore,Finestra_Superiore_Camera_Posteriore])\n",
    "Camera_Posteriore = T([1,2,3])([16,-3.8,29])(Camera_Posteriore)\n",
    "#VIEW(STRUCT([Costruzione,Camera_Grande]))\n",
    "Costruzione = STRUCT([Costruzione,Camera_Posteriore])"
   ]
  },
  {
   "cell_type": "code",
   "execution_count": 9,
   "metadata": {},
   "outputs": [],
   "source": [
    "Porticato = STRUCT(NN(3)([T(1)(4),CourtWall1()]))\n",
    "Porticato = R([2,3])((3*PI)/2)(Porticato)\n",
    "hCol = 9\n",
    "MyColumn  = COMP([MKPOL,UKPOL,ColumnP])([0.5,hCol])\n",
    "MyColumn = R([2,3])((3*PI)/2)(MyColumn)\n",
    "#MyColumn = TEXTURE('\\windows\\system32\\Github\\Font_Pareti_Ombreggiatura.jpg')(MyColumn)\n",
    "#MyColumn = T([1,3])([11.35,-0.5])(MyColumn)\n",
    "MyColumn = T([1,3])([11.35,0.001])(MyColumn)\n",
    "#MyColumn = TEXTURE('windows\\system32\\Github\\Font_Pareti_Ombreggiatura.jpg')(MyColumn)\n",
    "MyColumn2 = T(1)(-4)(MyColumn)\n",
    "MyColumn3 = T(1)(-4)(MyColumn2)\n",
    "MyColumn4 = T(1)(4)(MyColumn)\n",
    "#VIEW(STRUCT([Porticato,MyColumn,MyColumn2,MyColumn3,MyColumn4]))\n",
    "Porticato_Finale = STRUCT([Porticato,MyColumn,MyColumn2,MyColumn3,MyColumn4])\n",
    "#VIEW(Porticato_Finale)\n",
    "Porticato_Finale = T([1,3])([11,0.1])(Porticato_Finale)\n",
    "Costruzione = STRUCT([Costruzione,Porticato_Finale])"
   ]
  },
  {
   "cell_type": "code",
   "execution_count": 10,
   "metadata": {},
   "outputs": [
    {
     "data": {
      "text/plain": [
       "<pyplasm.xgepy.Hpc; proxy of <Swig Object of type 'std::shared_ptr< Hpc > *' at 0x0000000014FDC7B0> >"
      ]
     },
     "execution_count": 10,
     "metadata": {},
     "output_type": "execute_result"
    }
   ],
   "source": [
    "VIEW(Costruzione)"
   ]
  },
  {
   "cell_type": "markdown",
   "metadata": {},
   "source": [
    "![16.PNG](files/Immagini/16.PNG)"
   ]
  },
  {
   "cell_type": "markdown",
   "metadata": {},
   "source": [
    "![18.PNG](files/Immagini/:18.PNG)"
   ]
  },
  {
   "cell_type": "markdown",
   "metadata": {},
   "source": [
    "![19.PNG](files/Immagini/19.PNG)"
   ]
  },
  {
   "cell_type": "markdown",
   "metadata": {},
   "source": [
    "![20.PNG](files/Immagini/:20.PNG)"
   ]
  },
  {
   "cell_type": "markdown",
   "metadata": {},
   "source": [
    "![21.PNG](files/Immagini/21.PNG)"
   ]
  },
  {
   "cell_type": "markdown",
   "metadata": {},
   "source": [
    "![22.PNG](files/Immagini/22.PNG)"
   ]
  },
  {
   "cell_type": "markdown",
   "metadata": {},
   "source": [
    "![17.PNG](files/Immagini/17.PNG)"
   ]
  },
  {
   "cell_type": "markdown",
   "metadata": {},
   "source": []
  },
  {
   "cell_type": "code",
   "execution_count": 11,
   "metadata": {},
   "outputs": [
    {
     "data": {
      "text/plain": [
       "<pyplasm.xgepy.Hpc; proxy of <Swig Object of type 'std::shared_ptr< Hpc > *' at 0x0000000014FDC7B0> >"
      ]
     },
     "execution_count": 11,
     "metadata": {},
     "output_type": "execute_result"
    }
   ],
   "source": [
    "VIEW(Costruzione)"
   ]
  },
  {
   "cell_type": "markdown",
   "metadata": {},
   "source": [
    "<h1> Definizione funzioni archi </h1>"
   ]
  },
  {
   "cell_type": "code",
   "execution_count": 12,
   "metadata": {},
   "outputs": [],
   "source": [
    "def bottomArv(d):\n",
    "    return BEZIER(S1)([[0,0],[0,2*d/3],[d,2*d/3],[d,0]])\n",
    "\n",
    "def topArc (d) :\n",
    "    return BEZIER (S1)([[0,2*d/3],[d,2*d/3]])\n",
    "def arc2D (d) :\n",
    "    return BEZIER(S2)([bottomArv(d),topArc(d)])\n",
    "\n",
    "def arc3D (d) :\n",
    "    def arc3D1(w):\n",
    "        return COMP([T(2)(w),R([2,3])(PI/2)])(PROD([MAP(arc2D(d))(PROD([INTERVALS(1)(8),INTERVALS(1)(1)])),QUOTE([w])]))\n",
    "    return arc3D1\n",
    "def Interarc (d1,d2):\n",
    "    def Interarc1(w):\n",
    "        return CUBOID([1,1,1])\n",
    "    return Interarc1\n",
    "\n",
    "def Xarc(d1,d2):\n",
    "    def Xarc1(w):\n",
    "        return RIGHT([RIGHT([Interarc(d1,d2)(w),arc3D(d2)(w)]),Interarc(d1,d2)(w)])\n",
    "    return Xarc1\n",
    "\n",
    "def CurvedArc():\n",
    "    sx = (1/SizeArc)* arcAngle\n",
    "    sz = sx * (r2-2)\n",
    "    return COMP([cylMap,MKPOL,UKPOL,T(2)(r2 - 0.75),S([1,3])([sx,sz])])(TheArc)\n",
    "\t\n",
    "def Column(argomenti):\n",
    "    w,h = argomenti\n",
    "    basis = CUBOID([w,w,w])\n",
    "    trunk = CYLINDER ([w/2*0.85, 7])(8)\n",
    "    capitel = CUBOID([w,w,w/2])\n",
    "    return TOP([TOP([trunk,basis]),capitel])\n",
    "\n",
    "\n",
    "def CourtWall():\n",
    "    w =0.7\n",
    "    TripleHole = TOP([STRUCT([Column([w,2]),T(1)(2+w),Column([w,2])]),Xarc(2,2)(1)])\n",
    "    #VIEW(TripleHole)\n",
    "\n",
    "        #LeftWall = PROD([COMP([QUOTE,N(n1)])(d1/n1),CUBOID([1,h])])\n",
    "        #RightWall = PROD([COMP([QUOTE,N(n2)])(d2/n2),CUBOID([1,h])])\n",
    "        #return op([LeftWall,op([TripleHole,RightWall])])\n",
    "        #return LeftWall OP TripleHole OP RightWall\n",
    "    return TripleHole\n",
    "\n",
    "def ColumnP(argomenti):\n",
    "    w,h = argomenti\n",
    "    basis = CUBOID([w,w,w/3])\n",
    "    trunk = CYLINDER ([w/1.30, h - w])(5)\n",
    "    capitel = CUBOID([w,w,w/3])\n",
    "    return TOP([TOP([trunk,basis]),capitel])\n",
    "\n"
   ]
  },
  {
   "cell_type": "code",
   "execution_count": 13,
   "metadata": {},
   "outputs": [
    {
     "data": {
      "text/plain": [
       "<pyplasm.xgepy.Hpc; proxy of <Swig Object of type 'std::shared_ptr< Hpc > *' at 0x0000000014FDC600> >"
      ]
     },
     "execution_count": 13,
     "metadata": {},
     "output_type": "execute_result"
    }
   ],
   "source": [
    "Arco_Singolo = CourtWall()\n",
    "Arco_Singolo = R([2,3])((3*PI)/2)(Arco_Singolo)\n",
    "Arco_Singolo = R([1,3])(PI/2)(Arco_Singolo)\n",
    "\n",
    "Arco_Singolo = T(3)(22)(Arco_Singolo)\n",
    "Arco_Singolo = T(1)(5)(Arco_Singolo)\n",
    "Arco_2 = T(1)(9)(Arco_Singolo)\n",
    "Arco_3 = T(1)(12.5)(Arco_2)\n",
    "Arco_4 = T(1)(8.75)(Arco_3)\n",
    "VIEW(STRUCT([Costruzione,Arco_Singolo,Arco_2,Arco_3,Arco_4]))\n"
   ]
  },
  {
   "cell_type": "code",
   "execution_count": 14,
   "metadata": {},
   "outputs": [],
   "source": [
    "Costruzione = STRUCT([Costruzione,Arco_Singolo,Arco_2,Arco_3,Arco_4])\n",
    "Costruzione = TEXTURE('\\windows\\system32\\Github\\Sfondo.jpg')(Costruzione)"
   ]
  },
  {
   "cell_type": "markdown",
   "metadata": {},
   "source": []
  },
  {
   "cell_type": "code",
   "execution_count": 15,
   "metadata": {},
   "outputs": [
    {
     "data": {
      "text/plain": [
       "<pyplasm.xgepy.Hpc; proxy of <Swig Object of type 'std::shared_ptr< Hpc > *' at 0x000000002495B360> >"
      ]
     },
     "execution_count": 15,
     "metadata": {},
     "output_type": "execute_result"
    }
   ],
   "source": [
    "VIEW(Costruzione)"
   ]
  },
  {
   "cell_type": "markdown",
   "metadata": {},
   "source": [
    "![1.PNG](files/Immagini/1.PNG)"
   ]
  },
  {
   "cell_type": "code",
   "execution_count": 16,
   "metadata": {},
   "outputs": [],
   "source": [
    "Sotterraneo = CUBOID([40,3.8,30])\n",
    "Apri_Sott = CUBOID([38,2.8,28])\n",
    "Apri_Sott = T([1,2,3])([1,0.5,1])(Apri_Sott)\n",
    "#VIEW(DIFFERENCE([Sotterraneo,Apri_Sott]))\n",
    "Sotterraneo = DIFFERENCE([Sotterraneo,Apri_Sott])"
   ]
  },
  {
   "cell_type": "code",
   "execution_count": 17,
   "metadata": {},
   "outputs": [],
   "source": [
    "#archi del sotterraneo\n",
    "def CourtWall(d1,d2):\n",
    "    def CourtWall1(n1,n2):\n",
    "        w = 0.7\n",
    "        TripleHole = Xarc(10,10)(1)\n",
    "        h = SIZE(3)(TripleHole)\n",
    "        op = ALIGN([[1,MAX,MIN],[2,MIN,MIN]])\n",
    "        LeftWall = PROD([COMP([QUOTE,N(n1)])(d1/n1),CUBOID([1,h])])\n",
    "        RightWall = PROD([COMP([QUOTE,N(n2)])(d2/n2),CUBOID([1,h])])\n",
    "        return op([LeftWall,op([TripleHole,RightWall])])\n",
    "        #return LeftWall OP TripleHole OP RightWall\n",
    "    return CourtWall1\n",
    "\n",
    "def Columni(argomenti):\n",
    "    w,h = argomenti\n",
    "    basis = CUBOID([w,w,w])\n",
    "    trunk = CYLINDER ([w/2*0.85, 4])(8)\n",
    "    capitel = CUBOID([w,w,w/2])\n",
    "    return TOP([TOP([trunk,basis]),capitel])\n",
    "#VIEW(CourtWall(3,3)(3,3))\n"
   ]
  },
  {
   "cell_type": "code",
   "execution_count": 18,
   "metadata": {},
   "outputs": [],
   "source": [
    "def Interarc2 (d1,d2):\n",
    "    def Interarc1(w):\n",
    "        return CUBOID([0,0,0])\n",
    "    return Interarc1\n",
    "\n",
    "def Xarc(d1,d2):\n",
    "    def Xarc1(w):\n",
    "        return RIGHT([RIGHT([Interarc2(d1,d2)(w),arc3D(d2)(w)]),Interarc2(d1,d2)(w)])\n",
    "    return Xarc1"
   ]
  },
  {
   "cell_type": "code",
   "execution_count": 19,
   "metadata": {},
   "outputs": [],
   "source": [
    "def CourtWall(d1,d2):\n",
    "    def CourtWall1(n1,n2):\n",
    "        w = 0.7\n",
    "        TripleHole = Xarc(5,5)(1)\n",
    "        VIEW(TripleHole)\n",
    "        h = SIZE(3)(TripleHole)\n",
    "        op = ALIGN([[1,MAX,MIN],[2,MIN,MIN]])\n",
    "        LeftWall = PROD([COMP([QUOTE,N(n1)])(d1/n1),CUBOID([1,h])])\n",
    "        RightWall = PROD([COMP([QUOTE,N(n2)])(d2/n2),CUBOID([1,h])])\n",
    "        return op([LeftWall,op([TripleHole,RightWall])])\n",
    "        #return LeftWall OP TripleHole OP RightWall\n",
    "    return CourtWall1\n",
    "\n",
    "def Columni(argomenti):\n",
    "    w,h = argomenti\n",
    "    basis = CUBOID([w,w,w])\n",
    "    trunk = CYLINDER ([w/2*0.85, 4])(8)\n",
    "    capitel = CUBOID([w,w,w/2])\n",
    "    return TOP([TOP([trunk,basis]),capitel])"
   ]
  },
  {
   "cell_type": "code",
   "execution_count": 20,
   "metadata": {},
   "outputs": [],
   "source": [
    "def rivestimento_sotterraneo():\n",
    "    Court = CourtWall(5.5,5.5)(1,1)\n",
    "    Court = R([2,3])((3*PI)/2)(Court)\n",
    "    Court = STRUCT([Court,T(1)(11)(Court),T(1)(22)(Court)])\n",
    "    Court = TEXTURE('\\windows\\system32\\Github\\Muro.jpg')(Court)\n",
    "    VIEW(Court)\n",
    "    Court = T([1,2,3])([1,-3.5,8])(Court)\n",
    "    #Sotterraneo = STRUCT([Sotterraneo,Court])\n",
    "    Court2 = T(3)(6)(Court)\n",
    "    Court3 = T(3)(7.5)(Court2)\n",
    "    #Sotterraneo = STRUCT([Sotterraneo,Court2,Court3])\n",
    "    Sotterraneo_Copertura = STRUCT([Court,Court2,Court3]) \n",
    "    return Sotterraneo_Copertura"
   ]
  },
  {
   "cell_type": "code",
   "execution_count": 21,
   "metadata": {},
   "outputs": [],
   "source": [
    "def Interarc2 (d1,d2):\n",
    "    def Interarc1(w):\n",
    "        return CUBOID([0,0,0])\n",
    "    return Interarc1\n",
    "\n",
    "def Xarc(d1,d2):\n",
    "    def Xarc1(w):\n",
    "        return RIGHT([RIGHT([Interarc2(d1,d2)(w),arc3D(d2)(w)]),Interarc2(d1,d2)(w)])\n",
    "    return Xarc1"
   ]
  },
  {
   "cell_type": "code",
   "execution_count": 22,
   "metadata": {},
   "outputs": [],
   "source": [
    "def CourtWall(d1,d2):\n",
    "    def CourtWall1(n1,n2):\n",
    "        w = 0.7\n",
    "        TripleHole = Xarc(5,5)(1)\n",
    "        VIEW(TripleHole)\n",
    "        h = SIZE(3)(TripleHole)\n",
    "        op = ALIGN([[1,MAX,MIN],[2,MIN,MIN]])\n",
    "        LeftWall = PROD([COMP([QUOTE,N(n1)])(d1/n1),CUBOID([1,h])])\n",
    "        RightWall = PROD([COMP([QUOTE,N(n2)])(d2/n2),CUBOID([1,h])])\n",
    "        return op([LeftWall,op([TripleHole,RightWall])])\n",
    "        #return LeftWall OP TripleHole OP RightWall\n",
    "    return CourtWall1\n",
    "\n",
    "def Columni(argomenti):\n",
    "    w,h = argomenti\n",
    "    basis = CUBOID([w,w,w])\n",
    "    trunk = CYLINDER ([w/2*0.85, 4])(8)\n",
    "    capitel = CUBOID([w,w,w/2])\n",
    "    return TOP([TOP([trunk,basis]),capitel])"
   ]
  },
  {
   "cell_type": "code",
   "execution_count": 23,
   "metadata": {},
   "outputs": [],
   "source": [
    "Buco = CUBOID([4,10,4])\n",
    "Buco = T([1,2,3])([14,2,15])(Buco)\n",
    "Buco2 = T(1)(8)(Buco)\n",
    "Buco = STRUCT([Buco,Buco2])\n",
    "#VIEW(DIFFERENCE([Sotterraneo,Buco]))\n",
    "Sotterraneo = DIFFERENCE([Sotterraneo,Buco])\n",
    "Sotterraneo = T(2)(-3.79)(Sotterraneo)\n",
    "#VIEW(STRUCT([Costruzione,Sotterraneo]))"
   ]
  },
  {
   "cell_type": "code",
   "execution_count": 24,
   "metadata": {},
   "outputs": [],
   "source": [
    "Grate_Sotterraneo = grate()\n",
    "Grate_Sotterraneo = T([1,2])([2.5,-2.5])(Grate_Sotterraneo)\n",
    "Foro_Grate = CUBOID([1,1.5,2])\n",
    "Foro_Grate = T([1,2])([2.5,-2.5])(Foro_Grate)\n",
    "Sotterraneo = DIFFERENCE([Sotterraneo,Foro_Grate])\n",
    "#VIEW(Sotterraneo)\n",
    "#VIEW(STRUCT([Sotterraneo,Grate_Sotterraneo]))\n",
    "Sotterraneo = STRUCT([Sotterraneo,Grate_Sotterraneo])\n",
    "#Sotterraneo = COLOR([0.9,0.8,0.7])(Sotterraneo)"
   ]
  },
  {
   "cell_type": "code",
   "execution_count": 25,
   "metadata": {},
   "outputs": [],
   "source": [
    "Sotterraneo = TEXTURE('\\windows\\system32\\Github\\Sfondo.jpg')(Sotterraneo)"
   ]
  },
  {
   "cell_type": "code",
   "execution_count": 26,
   "metadata": {},
   "outputs": [],
   "source": [
    "Archi_Sotterranei = rivestimento_sotterraneo()   "
   ]
  },
  {
   "cell_type": "code",
   "execution_count": 27,
   "metadata": {},
   "outputs": [],
   "source": [
    "Pavimento = CUBOID([8,1,10])"
   ]
  },
  {
   "cell_type": "markdown",
   "metadata": {},
   "source": [
    "![3.PNG](files/Immagini/3.PNG)"
   ]
  },
  {
   "cell_type": "markdown",
   "metadata": {},
   "source": [
    "![2.PNG](files/Immagini/2.PNG)"
   ]
  },
  {
   "cell_type": "code",
   "execution_count": 28,
   "metadata": {},
   "outputs": [],
   "source": [
    "Sotterraneo = STRUCT([Sotterraneo,Archi_Sotterranei])"
   ]
  },
  {
   "cell_type": "code",
   "execution_count": 29,
   "metadata": {
    "scrolled": true
   },
   "outputs": [
    {
     "data": {
      "text/plain": [
       "<pyplasm.xgepy.Hpc; proxy of <Swig Object of type 'std::shared_ptr< Hpc > *' at 0x0000000024977870> >"
      ]
     },
     "execution_count": 29,
     "metadata": {},
     "output_type": "execute_result"
    }
   ],
   "source": [
    "VIEW(STRUCT([Costruzione,Sotterraneo]))"
   ]
  },
  {
   "cell_type": "markdown",
   "metadata": {},
   "source": [
    "![23.PNG](files/Immagini/23.PNG)"
   ]
  },
  {
   "cell_type": "markdown",
   "metadata": {},
   "source": [
    "![24.PNG](files/Immagini/24.PNG)"
   ]
  },
  {
   "cell_type": "markdown",
   "metadata": {},
   "source": [
    "![25.PNG](files/Immagini/25.PNG)"
   ]
  },
  {
   "cell_type": "markdown",
   "metadata": {},
   "source": []
  },
  {
   "cell_type": "markdown",
   "metadata": {},
   "source": []
  },
  {
   "cell_type": "code",
   "execution_count": 30,
   "metadata": {},
   "outputs": [],
   "source": [
    "Costruzione = STRUCT([Costruzione,Sotterraneo])"
   ]
  },
  {
   "cell_type": "code",
   "execution_count": 31,
   "metadata": {},
   "outputs": [],
   "source": [
    "Secondo_Piano = CUBOID([40,4.2,30])\n",
    "Diff= CUBOID([38,4,29])\n",
    "Diff = T([1,2,3])([1,0.5,0.5])(Diff)\n",
    "Secondo_Piano = DIFFERENCE([Secondo_Piano,Diff])\n",
    "#VIEW(Secondo_Piano)\n",
    "\n",
    "Foro_Finestrelle = CUBOID([2,1.5,1.5])\n",
    "Foro_Finestrelle = T(2)(2)(Foro_Finestrelle)\n",
    "Foro_Finestrelle = STRUCT(NN(3)([T(3)(8),Foro_Finestrelle]))\n",
    "Secondo_Piano = DIFFERENCE([Secondo_Piano,Foro_Finestrelle])\n",
    "Foro_Finestrelle2 = T(1)(38)(Foro_Finestrelle)\n",
    "Secondo_Piano = DIFFERENCE([Secondo_Piano,Foro_Finestrelle2])\n",
    "\n",
    "Fori_Scale = CUBOID([4,20,4])\n",
    "Fori_Scale = T([1,3])([14,15])(Fori_Scale)\n",
    "Fori_Scale2 = T(1)(8)(Fori_Scale)\n",
    "Fori_Scale = STRUCT([Fori_Scale,Fori_Scale2])\n",
    "Secondo_Piano = DIFFERENCE([Secondo_Piano,Fori_Scale])\n",
    "\n",
    "Pavimento_Marmo = CUBOID([40,0.2,30])\n",
    "Pavimento_Marmo = TEXTURE('\\windows\\system32\\Github\\marmopavimento.jpg')(Pavimento_Marmo)\n",
    "Buco = CUBOID([4,20,4])\n",
    "Buco = T([1,3])([14,15])(Buco)\n",
    "Pavimento_Marmo = DIFFERENCE([Pavimento_Marmo,Buco])\n",
    "Pavimento_Marmo = T(2)(1)(Pavimento_Marmo)\n",
    "\n",
    "#VIEW(STRUCT([Secondo_Piano,Pavimento_Marmo]))\n",
    "\n",
    "def CourtWall(d1,d2):\n",
    "    def CourtWall1(n1,n2):\n",
    "        w = 0.7\n",
    "        TripleHole = Xarc(5,5)(1)\n",
    "        #VIEW(TripleHole)\n",
    "        h = SIZE(3)(TripleHole)\n",
    "        op = ALIGN([[1,MAX,MIN],[2,MIN,MIN]])\n",
    "        LeftWall = PROD([COMP([QUOTE,N(n1)])(d1/n1),CUBOID([1,h])])\n",
    "        RightWall = PROD([COMP([QUOTE,N(n2)])(d2/n2),CUBOID([1,h])])\n",
    "        return op([LeftWall,op([TripleHole,RightWall])])\n",
    "        #return LeftWall OP TripleHole OP RightWall\n",
    "    return CourtWall1\n"
   ]
  },
  {
   "cell_type": "code",
   "execution_count": 32,
   "metadata": {},
   "outputs": [],
   "source": [
    "Court = CourtWall(5.3,5.3)(2,2)\n",
    "Court = R([1,3])((3*PI)/2)(Court)\n",
    "Court = R([1,2])(PI/2)(Court)\n",
    "Court = STRUCT([Court,T(3)(12)(Court)])\n",
    "Court = T([1,2,3])([10,-1,9.5])(Court)\n",
    "Court = T([1,2,3])([1,-3.5,8])(Court)\n",
    "Court2 = T(1)(17)(Court)\n",
    "Fori = STRUCT([Court,Court2])\n",
    "Fori = T(2)(5)(Fori)\n",
    "Secondo_Piano = STRUCT([Secondo_Piano,Fori])\n",
    "#Secondo_Piano = COLOR([0.9,0.8,0.7])(Secondo_Piano)\n",
    "#VIEW(Secondo_Piano)"
   ]
  },
  {
   "cell_type": "code",
   "execution_count": 33,
   "metadata": {},
   "outputs": [
    {
     "data": {
      "text/plain": [
       "<pyplasm.xgepy.Hpc; proxy of <Swig Object of type 'std::shared_ptr< Hpc > *' at 0x0000000024977840> >"
      ]
     },
     "execution_count": 33,
     "metadata": {},
     "output_type": "execute_result"
    }
   ],
   "source": [
    "Secondo_Piano = TEXTURE('\\windows\\system32\\Github\\Sfondo.jpg')(Secondo_Piano)\n",
    "Finestrella = finestrella()\n",
    "\n",
    "Finestrella = STRUCT(NN(3)([T(1)(8),Finestrella]))\n",
    "\n",
    "Finestrella = R([1,3])(PI/2)(Finestrella)\n",
    "Finestrella = T(2)(2)(Finestrella)\n",
    "\n",
    "Secondo_Piano = STRUCT([Secondo_Piano,Finestrella])\n",
    "Finestrella2 = R([1,3])(PI)(Finestrella)\n",
    "Finestrella2 = T([1,3])([40,33.5])(Finestrella2)\n",
    "\n",
    "\n",
    "Secondo_Piano = STRUCT([Secondo_Piano,Finestrella2])\n",
    "#Secondo_Piano = T(2)(10)(Secondo_Piano)\n",
    "\n",
    "VIEW(Secondo_Piano)\n",
    "VIEW(STRUCT([Costruzione,Secondo_Piano]))"
   ]
  },
  {
   "cell_type": "code",
   "execution_count": 34,
   "metadata": {},
   "outputs": [],
   "source": [
    "Secondo_Piano = T(2)(10)(Secondo_Piano)"
   ]
  },
  {
   "cell_type": "code",
   "execution_count": 35,
   "metadata": {},
   "outputs": [],
   "source": [
    "#Secondo_Piano = TEXTURE('\\windows\\system32\\Github\\Sfondo.jpg')(Secondo_Piano)"
   ]
  },
  {
   "cell_type": "code",
   "execution_count": 36,
   "metadata": {},
   "outputs": [
    {
     "data": {
      "text/plain": [
       "<pyplasm.xgepy.Hpc; proxy of <Swig Object of type 'std::shared_ptr< Hpc > *' at 0x0000000024977900> >"
      ]
     },
     "execution_count": 36,
     "metadata": {},
     "output_type": "execute_result"
    }
   ],
   "source": [
    "VIEW(STRUCT([Costruzione,Secondo_Piano]))"
   ]
  },
  {
   "cell_type": "markdown",
   "metadata": {},
   "source": [
    "<h2> Secondo piano </h2>"
   ]
  },
  {
   "cell_type": "markdown",
   "metadata": {},
   "source": [
    "![35.PNG](files/Immagini/35.PNG)"
   ]
  },
  {
   "cell_type": "markdown",
   "metadata": {},
   "source": []
  },
  {
   "cell_type": "markdown",
   "metadata": {},
   "source": [
    "![26.PNG](files/Immagini/26.PNG)"
   ]
  },
  {
   "cell_type": "code",
   "execution_count": 37,
   "metadata": {},
   "outputs": [],
   "source": [
    "Pavimento_Marmo = CUBOID([40,0.2,30])\n",
    "Buco = CUBOID([4,20,4])\n",
    "Buco = T([1,3])([14,15])(Buco)\n",
    "Buco2 = T(1)(8)(Buco)\n",
    "Buco = STRUCT([Buco,Buco2])\n",
    "Pavimento_Marmo = DIFFERENCE([Pavimento_Marmo,Buco])\n",
    "VIEW(Pavimento_Marmo)\n",
    "Pavimento_Marmo = T(2)(-0.1)(Pavimento_Marmo)\n",
    "Pavimento_Marmo = TEXTURE('\\windows\\system32\\Github\\marmopavimento.jpg')(Pavimento_Marmo)"
   ]
  },
  {
   "cell_type": "code",
   "execution_count": 38,
   "metadata": {},
   "outputs": [],
   "source": [
    "Costruzione = STRUCT([Costruzione,Pavimento_Marmo])"
   ]
  },
  {
   "cell_type": "code",
   "execution_count": 39,
   "metadata": {},
   "outputs": [
    {
     "data": {
      "text/plain": [
       "<pyplasm.xgepy.Hpc; proxy of <Swig Object of type 'std::shared_ptr< Hpc > *' at 0x000000002495B600> >"
      ]
     },
     "execution_count": 39,
     "metadata": {},
     "output_type": "execute_result"
    }
   ],
   "source": [
    "#pav\n",
    "Pav = CUBOID([8,0.1,10])\n",
    "Pav = T([1,2,3])([16,-0.3,28])(Pav)\n",
    "#\n",
    "Pav = TEXTURE('\\windows\\system32\\Github\\marmopavimento.jpg')(Pav)\n",
    "Costruzione = STRUCT([Costruzione,Pav])\n",
    "VIEW(Costruzione)"
   ]
  },
  {
   "cell_type": "markdown",
   "metadata": {},
   "source": [
    "![4.PNG](files/Immagini/4.PNG)"
   ]
  },
  {
   "cell_type": "code",
   "execution_count": 40,
   "metadata": {},
   "outputs": [
    {
     "data": {
      "text/plain": [
       "<pyplasm.xgepy.Hpc; proxy of <Swig Object of type 'std::shared_ptr< Hpc > *' at 0x000000002495B600> >"
      ]
     },
     "execution_count": 40,
     "metadata": {},
     "output_type": "execute_result"
    }
   ],
   "source": [
    "VIEW(Costruzione)"
   ]
  },
  {
   "cell_type": "markdown",
   "metadata": {},
   "source": [
    "<h1> Dettagli </h1>"
   ]
  },
  {
   "cell_type": "code",
   "execution_count": 41,
   "metadata": {},
   "outputs": [],
   "source": [
    "Sotto_Finestra = CUBOID([1.5,1.5,0.5])\n",
    "Sotto_Finestra = T(1)(0.15)(Sotto_Finestra)\n",
    "S_F = CUBOID([1.8,0.5,0.5])\n",
    "Sotto_Finestra = STRUCT([Sotto_Finestra,S_F])\n",
    "S_F_1 = CUBOID([1.8,0.1,0.5])\n",
    "S_F_1 = T(2)(1.5)(S_F_1)\n",
    "Sotto_Finestra = STRUCT([Sotto_Finestra,S_F_1])\n",
    "#VIEW(Sotto_Finestra)"
   ]
  },
  {
   "cell_type": "code",
   "execution_count": 42,
   "metadata": {},
   "outputs": [],
   "source": [
    "Sotto_Finestra = TEXTURE('\\windows\\system32\\Github\\Muro.jpg')(Sotto_Finestra)"
   ]
  },
  {
   "cell_type": "code",
   "execution_count": 43,
   "metadata": {},
   "outputs": [],
   "source": [
    "Sotto_Finestra = T(3)(-0.2)(Sotto_Finestra)\n",
    "Sotto_Finestra = T(1)(2)(Sotto_Finestra)\n",
    "Sotto_Finestra2 = T(1)(6)(Sotto_Finestra)\n",
    "Sotto_Finestra = STRUCT([Sotto_Finestra,Sotto_Finestra2])\n",
    "Costruzione = STRUCT([Costruzione,Sotto_Finestra])\n",
    "Sotto_Finestra = T(1)(27)(Sotto_Finestra)\n",
    "Costruzione = STRUCT([Costruzione,Sotto_Finestra])\n",
    "Base = CUBOID([0.75,1.5,0.5])\n",
    "Base = T(1)(0.08)(Base)\n",
    "Sopra_Base = CUBOID([0.95,0.5,0.50])\n",
    "Sopra_Base = T(2)(1.5)(Sopra_Base)\n",
    "#d = 0.25\n",
    "#Dec = ondina(d)\n",
    "#Sopra_Base =  STRUCT([Sopra_Base,Dec])\n",
    "Sotto_Base = CUBOID([0.95,0.5,0.50])\n",
    "Colonna = CUBOID([0.65,6.5,0.5])\n",
    "Colonna = T([1,2])([0.15,2])(Colonna)\n",
    "Base = STRUCT([Base,Sopra_Base,Sotto_Base,Colonna])\n",
    "Cubetto = CUBOID([0.65,0.65,0.5])\n",
    "Cubetto = T([1,2])([0.1,0.1])(Cubetto)\n",
    "Striscetta = CUBOID([0.85,0.1,0.5])\n",
    "Striscetta2 = T(2)(0.65)(Striscetta)\n",
    "Cubo_Superiore = STRUCT([Cubetto,Striscetta,Striscetta2])\n",
    "Cubo_Superiore = T([1,2])([0.05,8])(Cubo_Superiore)\n",
    "Base = STRUCT([Base,Cubo_Superiore])\n",
    "Base = T(3)(-0.5)(Base)\n",
    "Base2 = T(1)(5)(Base)\n",
    "Base3 = T(1)(7)(Base2)\n",
    "Base = STRUCT([Base,Base2,Base3])\n",
    "Base2 = T(1)(27)(Base)\n",
    "Base = STRUCT([Base,Base2])\n",
    "Base = TEXTURE('\\windows\\system32\\Github\\Mure_Ant_Quattro.jpg')(Base)\n",
    "Base_Inferiore = CUBOID([14,1.5,0.1])\n",
    "Base_Inferiore = T(3)(-0.05)(Base_Inferiore)\n",
    "Base_Inferiore = TEXTURE('\\windows\\system32\\Github\\Muro.jpg')(Base_Inferiore)\n",
    "Base_Inferiore2 = T(1)(26)(Base_Inferiore)\n",
    "Costruzione = STRUCT([Costruzione,Base,Base_Inferiore,Base_Inferiore2])\n"
   ]
  },
  {
   "cell_type": "code",
   "execution_count": 44,
   "metadata": {},
   "outputs": [],
   "source": [
    "Base = CUBOID([0.75,1.5,0.5])\n",
    "Base = T(1)(0.08)(Base)\n",
    "Sopra_Base = CUBOID([0.95,0.5,0.50])\n",
    "Sopra_Base = T(2)(1.5)(Sopra_Base)\n",
    "#d = 0.25\n",
    "#Dec = ondina(d)\n",
    "#Sopra_Base =  STRUCT([Sopra_Base,Dec])\n",
    "Sotto_Base = CUBOID([0.95,0.5,0.50])\n",
    "Colonna = CUBOID([0.65,6.5,0.5])\n",
    "Colonna = T([1,2])([0.15,2])(Colonna)\n",
    "Base = STRUCT([Base,Sopra_Base,Sotto_Base,Colonna])\n",
    "Cubetto = CUBOID([0.65,0.65,0.5])\n",
    "Cubetto = T([1,2])([0.1,0.1])(Cubetto)\n",
    "Striscetta = CUBOID([0.85,0.1,0.5])\n",
    "Striscetta2 = T(2)(0.65)(Striscetta)\n",
    "Cubo_Superiore = STRUCT([Cubetto,Striscetta,Striscetta2])\n",
    "Cubo_Superiore = T([1,2])([0.05,8])(Cubo_Superiore)\n",
    "Base = STRUCT([Base,Cubo_Superiore])\n",
    "Base = T(3)(-0.5)(Base)\n",
    "Base2 = T(1)(5)(Base)\n",
    "Base3 = T(1)(7)(Base2)\n",
    "#Base = STRUCT([Base,Base2,Base3])\n",
    "Base2 = T(1)(27)(Base)\n",
    "#Base = STRUCT([Base,Base2])\n",
    "Base = TEXTURE('\\windows\\system32\\Github\\Mure_Ant_Quattro.jpg')(Base)\n",
    "Base_Inferiore = CUBOID([14,1.5,0.1])\n",
    "Base_Inferiore = T(3)(-0.05)(Base_Inferiore)\n",
    "Base_Inferiore = TEXTURE('\\windows\\system32\\Github\\Muro.jpg')(Base_Inferiore)\n",
    "Base_Inferiore2 = T(1)(26)(Base_Inferiore)\n",
    "#Costruzione = STRUCT([Costruzione,Base,Base_Inferiore,Base_Inferiore2])\n",
    "VIEW(Base)\n",
    "dominioA = PROD([PROD([INTERVALS(1)(30),INTERVALS(1)(1)]),QUOTE([1])])\n",
    "\n",
    "def ondina(d):\n",
    "    davanti = BEZIER(S1)([[0,0.1,0],[0,2*d/3,0],[d,2*d/3,0],[d,0.1,0]])\n",
    "    dietro = BEZIER(S1)([[0,0,0],[0,2*d/3,0.1],[d,2*d/3,0.1],[d,0,0]])\n",
    "    unione2D = BEZIER(S2)([dietro,davanti])\n",
    "    ultimo = BEZIER(S1)([[0,0.07,0],[0.07,2*d/3,0.07],[d-0.07,2*d/3,0.07],[d,0.07,0]])\n",
    "    unione3D = BEZIER(S3)([unione2D,ultimo])\n",
    "    return MAP(unione3D)(dominioA)\n",
    "\n",
    "d = 0.25\n",
    "VIEW(ondina(d))\n",
    "\n",
    "Dettaglio = ondina(d)\n",
    "Dettaglio = TEXTURE('\\windows\\system32\\Github\\Mure_Ant_Quattro.jpg')(Dettaglio)\n",
    "Dettaglio = S([1,3])([1,1.5])(Dettaglio)\n",
    "Dettaglio = STRUCT(NN(3)([T(1)(0.20),Dettaglio]))\n",
    "#VIEW(STRUCT([Base,T([2,3])([8.50,0.10])(Dettaglio)]))\n",
    "Dettaglio = STRUCT([Base,T([2,3])([8.50,0.05])(Dettaglio),T([2,3])([8.00,0.05])(Dettaglio)])\n"
   ]
  },
  {
   "cell_type": "code",
   "execution_count": 45,
   "metadata": {},
   "outputs": [
    {
     "data": {
      "text/plain": [
       "<pyplasm.xgepy.Hpc; proxy of <Swig Object of type 'std::shared_ptr< Hpc > *' at 0x000000002495BDB0> >"
      ]
     },
     "execution_count": 45,
     "metadata": {},
     "output_type": "execute_result"
    }
   ],
   "source": [
    "VIEW(Dettaglio)"
   ]
  },
  {
   "cell_type": "code",
   "execution_count": 46,
   "metadata": {},
   "outputs": [],
   "source": [
    "Base = Dettaglio"
   ]
  },
  {
   "cell_type": "markdown",
   "metadata": {},
   "source": [
    "![43.PNG](files/Immagini/43.PNG)"
   ]
  },
  {
   "cell_type": "markdown",
   "metadata": {},
   "source": [
    "![42.PNG](files/Immagini/42.PNG)"
   ]
  },
  {
   "cell_type": "markdown",
   "metadata": {},
   "source": [
    "![5.PNG](files/Immagini/5.PNG)"
   ]
  },
  {
   "cell_type": "markdown",
   "metadata": {},
   "source": [
    "![6.PNG](files/Immagini/6.PNG)"
   ]
  },
  {
   "cell_type": "markdown",
   "metadata": {},
   "source": [
    "![7.PNG](files/Immagini/7.PNG)"
   ]
  },
  {
   "cell_type": "code",
   "execution_count": 47,
   "metadata": {},
   "outputs": [],
   "source": [
    "Sbarra = CUBOID([14,0.5,0.5])\n",
    "Sbarra =TEXTURE('\\windows\\system32\\Github\\colonna.jpg')(Sbarra)\n",
    "Sbarra = T(2)(1.5)(Sbarra)\n",
    "Sbarra = T(3)(-0.5)(Sbarra)\n",
    "Sbarra_2 = T(1)(26)(Sbarra)\n",
    "Sbarra = STRUCT([Sbarra,Sbarra_2])\n",
    "Sbarra_Sup = T(2)(7)(Sbarra)\n",
    "\n",
    "Costruzione = STRUCT([Costruzione,Sbarra,Sbarra_Sup])"
   ]
  },
  {
   "cell_type": "code",
   "execution_count": 48,
   "metadata": {},
   "outputs": [],
   "source": [
    "Sbarra_Inferiore = CUBOID([18,0.75,0.75])\n",
    "Sbarra_Inferiore = T([2,3])([-0.75,-0.5])(Sbarra_Inferiore)\n",
    "Sbarra_Inferiore = TEXTURE('\\windows\\system32\\Github\\colonna.jpg')(Sbarra_Inferiore)\n",
    "Costruzione = STRUCT([Costruzione,Sbarra_Inferiore])\n",
    "Sbarra_Inferiore = T(1)(22)(Sbarra_Inferiore)\n",
    "Sbarra_Inferiore = TEXTURE('\\windows\\system32\\Github\\colonna.jpg')(Sbarra_Inferiore)\n",
    "Costruzione = STRUCT([Costruzione,Sbarra_Inferiore])\n",
    "Muretto = CUBOID([4,1.5,0.5])\n",
    "Muro_Sup = CUBOID([4,0.1,0.6])\n",
    "Muro_Sup = T(2)(1.4)(Muro_Sup)\n",
    "Muro_Sup = STRUCT(NN(3)([T(2)(0.06),Muro_Sup]))\n"
   ]
  },
  {
   "cell_type": "markdown",
   "metadata": {},
   "source": [
    "![45.PNG](files/Immagini/45.PNG)"
   ]
  },
  {
   "cell_type": "code",
   "execution_count": 49,
   "metadata": {},
   "outputs": [
    {
     "data": {
      "text/plain": [
       "<pyplasm.xgepy.Hpc; proxy of <Swig Object of type 'std::shared_ptr< Hpc > *' at 0x00000000249E8EA0> >"
      ]
     },
     "execution_count": 49,
     "metadata": {},
     "output_type": "execute_result"
    }
   ],
   "source": [
    "Finestrella = finestrella()\n",
    "Finestrella1 = T(1)(4.8)(Finestrella)\n",
    "Finestrella = STRUCT(NN(2)([T(1)(7.85),Finestrella1]))\n",
    "Finestrella1 = R([1,3])(PI/2)(Finestrella1)\n",
    "Finestrella = R([1,3])(PI/2)(Finestrella)\n",
    "Finestrella1 = T(2)(2)(Finestrella1)\n",
    "Finestrella = T(2)(2)(Finestrella)\n",
    "Finestrella = STRUCT([Finestrella,Finestrella1])\n",
    "Finestrelle2 = T([2,3])([3,2])(Finestrella)\n",
    "Finestrelle3 = T([2,3])([6,-3.5])(Finestrella)\n",
    "VIEW(STRUCT([Costruzione,Finestrella1,Finestrella,Finestrelle2,Finestrelle3]))"
   ]
  },
  {
   "cell_type": "markdown",
   "metadata": {},
   "source": [
    "![27.PNG](files/Immagini/27.PNG)"
   ]
  },
  {
   "cell_type": "markdown",
   "metadata": {},
   "source": [
    "![27.PNG](files/Immagini/27.PNG)"
   ]
  },
  {
   "cell_type": "markdown",
   "metadata": {},
   "source": []
  },
  {
   "cell_type": "code",
   "execution_count": 50,
   "metadata": {},
   "outputs": [],
   "source": [
    "Costruzione = STRUCT([Costruzione,Finestrella1,Finestrella,Finestrelle2,Finestrelle3])\n",
    "Finestre2 = STRUCT([Finestrella1,Finestrella,Finestrelle2,Finestrelle3])"
   ]
  },
  {
   "cell_type": "code",
   "execution_count": 51,
   "metadata": {},
   "outputs": [],
   "source": [
    "Fin = STRUCT([Finestrelle2,Finestrelle3])\n",
    "Fin = T(1)(40)(Fin)\n",
    "Mix = STRUCT([Finestrella1,Finestrella])\n",
    "Mix = T([1,3])([-40,-26.75])(Mix)\n",
    "Mix = R([1,3])(PI)(Mix)\n"
   ]
  },
  {
   "cell_type": "code",
   "execution_count": 52,
   "metadata": {},
   "outputs": [
    {
     "data": {
      "text/plain": [
       "<pyplasm.xgepy.Hpc; proxy of <Swig Object of type 'std::shared_ptr< Hpc > *' at 0x0000000024A013F0> >"
      ]
     },
     "execution_count": 52,
     "metadata": {},
     "output_type": "execute_result"
    }
   ],
   "source": [
    "Tettoia = MKPOL([\n",
    "    [[0,0,0],[0,0,0.25],[0,1.25,2],[0,0,3.75],[0,0,4],[0,1.5,2]],\n",
    "    [[1,2,3,6],[3,4,5,6]],\n",
    "    [[1]]\n",
    "])\n",
    "SottoTrave = TEXTURE('\\windows\\system32\\Github\\Muro.jpg')(CUBOID([2.4,0.1,0.1]))\n",
    "\n",
    "\n",
    "TettoiaL= T([1,3])([-2.5,9.5])(STRUCT([\n",
    "    TEXTURE('\\windows\\system32\\Github\\Muro.jpg')(OFFSET([2.5,0,0])(Tettoia)),\n",
    "    T([1,3])([0.1,0.26])(SottoTrave),\n",
    "    T([1,2,3])([0.1,0.55,1.05])(SottoTrave),\n",
    "    T([1,2,3])([0.1,1.15,1.95])(SottoTrave),\n",
    "    T([1,2,3])([0.1,0.55,2.85])(SottoTrave),\n",
    "    T([1,3])([0.1,3.64])(SottoTrave),\n",
    "]))\n",
    "\n",
    "TettoiaL = T([1,2,3])([42.2,5,2])(TettoiaL)\n",
    "VIEW(TettoiaL)\n"
   ]
  },
  {
   "cell_type": "markdown",
   "metadata": {},
   "source": [
    "![8.PNG](files/Immagini/8.PNG)"
   ]
  },
  {
   "cell_type": "markdown",
   "metadata": {},
   "source": [
    "![8.PNG](files/Immagini/8.PNG)"
   ]
  },
  {
   "cell_type": "markdown",
   "metadata": {},
   "source": []
  },
  {
   "cell_type": "code",
   "execution_count": 53,
   "metadata": {},
   "outputs": [],
   "source": [
    "Porta = CUBOID([1,4,0.75])\n",
    "#VIEW(Porta)\n",
    "Quadrettini = CUBOID([0.70,0.50,0.15])\n",
    "#VIEW(Quadrettini)\n",
    "Quadrettini = STRUCT(NN(3)([T(2)(0.75),Quadrettini]))\n",
    "#VIEW(Quadrettini)\n",
    "Quadrettini = T(1)(0.15)(Quadrettini)\n",
    "#VIEW(DIFFERENCE([Porta,Quadrettini]))\n",
    "Porta_Completa = DIFFERENCE([Porta,Quadrettini])\n",
    "Porta_Completa = TEXTURE('\\windows\\system32\\Github\\Legno_Porta.jpg')(Porta_Completa)\n",
    "Anta2 = Porta_Completa\n",
    "#VIEW(Porta_Completa)\n",
    "Maniglia = CYLINDER([0.1,0.15])(12)\n",
    "Maniglia = T([1,2])([0.88,1.38])(Maniglia)\n",
    "Porta_Completa = STRUCT([Porta_Completa,Maniglia])\n",
    "#VIEW(Porta_Completa)\n",
    "Anta2 = T(1)(1)(Anta2)\n",
    "Maniglia = T(1)(0.25)(Maniglia)\n",
    "Anta2 = STRUCT([Anta2,Maniglia])\n",
    "Porta_Completa = STRUCT([Porta_Completa,Anta2])\n",
    "Porta_Completa = R([1,3])(PI/2)(Porta_Completa)\n",
    "Porta2 = R([1,3])(PI)(Porta_Completa)\n",
    "Porta2 = T([1,3])([2,1])(Porta2)\n",
    "#VIEW(STRUCT([Porta,Porta2]))\n",
    "#Porta = STRUCT([Porta,Porta2])\n",
    "#Porta = T([1,3])([18,14.25])(Porta)\n",
    "#VIEW(STRUCT([Costruzione,Porta]))"
   ]
  },
  {
   "cell_type": "code",
   "execution_count": 54,
   "metadata": {},
   "outputs": [],
   "source": [
    "Porta_Completa1 = T([1,3])([40.15,12.50])(Porta_Completa)"
   ]
  },
  {
   "cell_type": "code",
   "execution_count": 55,
   "metadata": {},
   "outputs": [
    {
     "data": {
      "text/plain": [
       "<pyplasm.xgepy.Hpc; proxy of <Swig Object of type 'std::shared_ptr< Hpc > *' at 0x0000000024A01F60> >"
      ]
     },
     "execution_count": 55,
     "metadata": {},
     "output_type": "execute_result"
    }
   ],
   "source": [
    "VIEW(Porta_Completa1)"
   ]
  },
  {
   "cell_type": "code",
   "execution_count": 56,
   "metadata": {},
   "outputs": [],
   "source": [
    "Costruzione = STRUCT([Costruzione,TettoiaL,Porta_Completa1])"
   ]
  },
  {
   "cell_type": "markdown",
   "metadata": {},
   "source": [
    "![30.PNG](files/Immagini/30.PNG)"
   ]
  },
  {
   "cell_type": "markdown",
   "metadata": {},
   "source": []
  },
  {
   "cell_type": "code",
   "execution_count": 57,
   "metadata": {},
   "outputs": [
    {
     "data": {
      "text/plain": [
       "<pyplasm.xgepy.Hpc; proxy of <Swig Object of type 'std::shared_ptr< Hpc > *' at 0x000000002498DC00> >"
      ]
     },
     "execution_count": 57,
     "metadata": {},
     "output_type": "execute_result"
    }
   ],
   "source": [
    "VIEW(Costruzione)"
   ]
  },
  {
   "cell_type": "markdown",
   "metadata": {},
   "source": [
    "![51.PNG](files/Immagini/51.PNG)"
   ]
  },
  {
   "cell_type": "markdown",
   "metadata": {},
   "source": [
    "![29.PNG](files/Immagini/29.PNG)"
   ]
  },
  {
   "cell_type": "code",
   "execution_count": 58,
   "metadata": {},
   "outputs": [
    {
     "data": {
      "text/plain": [
       "<pyplasm.xgepy.Hpc; proxy of <Swig Object of type 'std::shared_ptr< Hpc > *' at 0x0000000024A01F30> >"
      ]
     },
     "execution_count": 58,
     "metadata": {},
     "output_type": "execute_result"
    }
   ],
   "source": [
    "Grate = grate_piccole()\n",
    "#Grata1 = R([1,2])(PI/2)(Grate)\n",
    "Grata1 = T([1,2,3])([17,8,14.5])(Grate)\n",
    "\n",
    "Grata2 = T([1,2,3])([24,5,14.5])(Grate)\n",
    "Grata3 = R([1,2])(PI/2)(Grate)\n",
    "Grata3 = T([1,2,3])([16,3,14.5])(Grata3)\n",
    "#VIEW(STRUCT([Costruzione,Grata1,Grata2,Grata3]))\n",
    "VIEW(STRUCT([Costruzione,Grata1,Grata2,Grata3]))"
   ]
  },
  {
   "cell_type": "code",
   "execution_count": 59,
   "metadata": {},
   "outputs": [],
   "source": [
    "Costruzione = STRUCT([Costruzione,Grata1,Grata2,Grata3])"
   ]
  },
  {
   "cell_type": "code",
   "execution_count": 60,
   "metadata": {},
   "outputs": [
    {
     "data": {
      "text/plain": [
       "<pyplasm.xgepy.Hpc; proxy of <Swig Object of type 'std::shared_ptr< Hpc > *' at 0x00000000249E8F90> >"
      ]
     },
     "execution_count": 60,
     "metadata": {},
     "output_type": "execute_result"
    }
   ],
   "source": [
    "Finestrella = finestrella()\n",
    "Finestrella = STRUCT(NN(2)([T(1)(7.85),Finestrella]))\n",
    "Finestrella = R([1,3])(PI/2)(Finestrella)\n",
    "Finestrella = T([1,2,3])([0,2,-7.65])(Finestrella)\n",
    "Finestrelle2 = T([1,2,3])([0.1,3,6])(Finestrella)\n",
    "Finestrelle3 = T([2,3])([6,3.5])(Finestrella)\n",
    "\n",
    "Finestre = STRUCT([Finestrella,Finestrelle2,Finestrelle3])\n",
    "Finestre = T(1)(40)(Finestre)\n",
    "\n",
    "Finestrelle2_I = R([1,3])((3*PI)/2)(Finestre)\n",
    "\n",
    "#Finestrelle2_I = T([1,3])([-7,70])(Finestrelle2_I)\n",
    "\n",
    "Finestrelle2_I = T([1,3])([0.1,70])(Finestrelle2_I)\n",
    "VIEW(STRUCT([Costruzione,Finestrelle2_I]))"
   ]
  },
  {
   "cell_type": "markdown",
   "metadata": {},
   "source": [
    "![33.PNG](files/Immagini/33.PNG)"
   ]
  },
  {
   "cell_type": "markdown",
   "metadata": {},
   "source": [
    "<h1> Dettagli grate atrio </h1>"
   ]
  },
  {
   "cell_type": "markdown",
   "metadata": {},
   "source": [
    "![33.PNG](files/Immagini/33.PNG)"
   ]
  },
  {
   "cell_type": "code",
   "execution_count": 61,
   "metadata": {},
   "outputs": [],
   "source": [
    "Costruzione = STRUCT([Costruzione,Finestrelle2_I])\n",
    "Finestrelle2_I_Dx = T(1)(24.1)(Finestrelle2_I)\n",
    "VIEW(STRUCT([Costruzione,Finestrelle2_I_Dx]))\n",
    "Costruzione = STRUCT([Costruzione,Finestrelle2_I_Dx])"
   ]
  },
  {
   "cell_type": "code",
   "execution_count": 62,
   "metadata": {},
   "outputs": [
    {
     "data": {
      "text/plain": [
       "<pyplasm.xgepy.Hpc; proxy of <Swig Object of type 'std::shared_ptr< Hpc > *' at 0x0000000024974F90> >"
      ]
     },
     "execution_count": 62,
     "metadata": {},
     "output_type": "execute_result"
    }
   ],
   "source": [
    "Finestra = finestra()\n",
    "\n",
    "window = CUBOID([1.5,3.8,2])\n",
    "window = T([1,2])([2.5,2.5])(window)\n",
    "\n",
    "Finestra = T([1,2])([2,2])(Finestra)\n",
    "Finestra2 = T(1)(6)(Finestra)\n",
    "Finestra = STRUCT([Finestra,Finestra2])\n",
    "#VIEW(STRUCT([Costruzione,Finestra]))\n",
    "Costruzione = STRUCT([Costruzione,Finestra])\n",
    "Finestra = T(1)(27)(Finestra)\n",
    "Costruzione = STRUCT([Costruzione,Finestra])\n",
    "VIEW(Costruzione)"
   ]
  },
  {
   "cell_type": "markdown",
   "metadata": {},
   "source": [
    "![50.PNG](files/Immagini/50.PNG)"
   ]
  },
  {
   "cell_type": "code",
   "execution_count": 63,
   "metadata": {},
   "outputs": [
    {
     "name": "stdout",
     "output_type": "stream",
     "text": [
      "Child 3\n"
     ]
    },
    {
     "data": {
      "text/plain": [
       "<pyplasm.xgepy.Hpc; proxy of <Swig Object of type 'std::shared_ptr< Hpc > *' at 0x0000000014FDC570> >"
      ]
     },
     "execution_count": 63,
     "metadata": {},
     "output_type": "execute_result"
    }
   ],
   "source": [
    "Porta_Finestra = porta_finestra()\n",
    "Finestrella_Posteriore = finestrella_posteriore()\n",
    "Finestrella_Posteriore = R([1,3])(PI)(Finestrella_Posteriore)\n",
    "Finestrella_Posteriore = T([1,2,3])([21,7,39])(Finestrella_Posteriore)\n",
    "VIEW(STRUCT([Costruzione,Finestrella_Posteriore]))"
   ]
  },
  {
   "cell_type": "code",
   "execution_count": 64,
   "metadata": {},
   "outputs": [
    {
     "data": {
      "text/plain": [
       "<pyplasm.xgepy.Hpc; proxy of <Swig Object of type 'std::shared_ptr< Hpc > *' at 0x00000000249F4D80> >"
      ]
     },
     "execution_count": 64,
     "metadata": {},
     "output_type": "execute_result"
    }
   ],
   "source": [
    "Porta_Finestra = R([1,3])(PI)(Porta_Finestra)\n",
    "Porta_Finestra = T([1,2,3])([21,2,39])(Porta_Finestra)\n",
    "VIEW(STRUCT([Costruzione,Porta_Finestra]))\n"
   ]
  },
  {
   "cell_type": "markdown",
   "metadata": {},
   "source": [
    "![14.PNG](files/Immagini/14.PNG)"
   ]
  },
  {
   "cell_type": "markdown",
   "metadata": {},
   "source": [
    "![13.PNG](files/Immagini/13.PNG)"
   ]
  },
  {
   "cell_type": "markdown",
   "metadata": {},
   "source": [
    "![12.PNG](files/Immagini/12.PNG)"
   ]
  },
  {
   "cell_type": "markdown",
   "metadata": {},
   "source": [
    "![11.PNG](files/Immagini/11.PNG)"
   ]
  },
  {
   "cell_type": "markdown",
   "metadata": {},
   "source": [
    "![9.PNG](files/Immagini/9.PNG)"
   ]
  },
  {
   "cell_type": "markdown",
   "metadata": {},
   "source": [
    "![10.PNG](files/Immagini/10.PNG)"
   ]
  },
  {
   "cell_type": "code",
   "execution_count": 65,
   "metadata": {},
   "outputs": [],
   "source": [
    "Costruzione = STRUCT([Costruzione,Finestrella_Posteriore])"
   ]
  },
  {
   "cell_type": "code",
   "execution_count": 66,
   "metadata": {},
   "outputs": [
    {
     "data": {
      "text/plain": [
       "<pyplasm.xgepy.Hpc; proxy of <Swig Object of type 'std::shared_ptr< Hpc > *' at 0x00000000249F4A50> >"
      ]
     },
     "execution_count": 66,
     "metadata": {},
     "output_type": "execute_result"
    }
   ],
   "source": [
    "Costruzione = STRUCT([Costruzione,Porta_Finestra])\n",
    "VIEW(Costruzione)\n",
    "VIEW(finestra_posteriore())\n",
    "Finestra_Posteriore = finestra_posteriore()\n",
    "Finestra_Posteriore = T([1,2,3])([-37.6,4,16])(Finestra_Posteriore)\n",
    "Finestra_Posteriore = R([1,3])((3*PI)/2)(Finestra_Posteriore)\n",
    "VIEW(STRUCT([Costruzione,Finestra_Posteriore]))\n",
    "Costruzione = STRUCT([Costruzione,Finestra_Posteriore])\n",
    "VIEW(Costruzione)"
   ]
  },
  {
   "cell_type": "code",
   "execution_count": 67,
   "metadata": {},
   "outputs": [],
   "source": [
    "Finestra_Posteriore1 = finestra_posteriore()\n",
    "Finestra_Posteriore1 = R([1,3])(PI/2)(Finestra_Posteriore1)\n",
    "Finestra_Posteriore1 = T([1,2,3])([24,4,36.25])(Finestra_Posteriore1)\n",
    "VIEW(STRUCT([Costruzione,Finestra_Posteriore1]))\n",
    "Costruzione = STRUCT([Costruzione,Finestra_Posteriore1])\n"
   ]
  },
  {
   "cell_type": "code",
   "execution_count": 68,
   "metadata": {},
   "outputs": [
    {
     "data": {
      "text/plain": [
       "<pyplasm.xgepy.Hpc; proxy of <Swig Object of type 'std::shared_ptr< Hpc > *' at 0x00000000249E4B40> >"
      ]
     },
     "execution_count": 68,
     "metadata": {},
     "output_type": "execute_result"
    }
   ],
   "source": [
    "Scale_Post = CUBOID([16,0.4,5])\n",
    "Scale_Post2 = CUBOID([14,0.4,5])\n",
    "Scale_Post2 = T([1,2])([1,0.4])(Scale_Post2)\n",
    "Scale_Post3 = CUBOID([12,0.4,5])\n",
    "Scale_Post3 = T([1,2])([2,0.8])(Scale_Post3)\n",
    "Scale_Post4 = CUBOID([10,0.4,5])\n",
    "Scale_Post4 = T([1,2])([3,1.2])(Scale_Post4)\n",
    "Scale_Post5 = CUBOID([9,0.4,5])\n",
    "Scale_Post5 = T([1,2])([3.5,1.6])(Scale_Post5)\n",
    "\n",
    "Scale_Posteriore = STRUCT([Scale_Post,Scale_Post2,Scale_Post3,Scale_Post4,Scale_Post5])\n",
    "Scale_Posteriore = TEXTURE('\\windows\\system32\\Github\\Muro.jpg')(Scale_Posteriore)\n",
    "\n",
    "Ringhiera = CUBOID([0.05,3,0.05])\n",
    "#Ringhiera2 = T(1)(0.25)(Ringhiera)\n",
    "#Ringhiera = STRUCT([Ringhiera,Ringhiera2])\n",
    "Ringhiera = STRUCT(NN(5)([T([1,2])([0.80,0.4]),Ringhiera]))\n",
    "\n",
    "Corrimano = CUBOID([0.2,4.25,0.2])\n",
    "Corrimano = R([1,2])((2*PI)/3)(Corrimano)\n",
    "Corrimano = T([1,2,3])([4.3,5.2,-0.10])(Corrimano)\n",
    "\n",
    "VIEW(STRUCT([Ringhiera,Corrimano]))"
   ]
  },
  {
   "cell_type": "code",
   "execution_count": 69,
   "metadata": {},
   "outputs": [
    {
     "data": {
      "text/plain": [
       "<pyplasm.xgepy.Hpc; proxy of <Swig Object of type 'std::shared_ptr< Hpc > *' at 0x00000000249F4A80> >"
      ]
     },
     "execution_count": 69,
     "metadata": {},
     "output_type": "execute_result"
    }
   ],
   "source": [
    "Scale_Post = CUBOID([16,0.4,5])\n",
    "Scale_Post2 = CUBOID([14,0.4,5])\n",
    "Scale_Post2 = T([1,2])([1,0.4])(Scale_Post2)\n",
    "Scale_Post3 = CUBOID([12,0.4,5])\n",
    "Scale_Post3 = T([1,2])([2,0.8])(Scale_Post3)\n",
    "Scale_Post4 = CUBOID([10,0.4,5])\n",
    "Scale_Post4 = T([1,2])([3,1.2])(Scale_Post4)\n",
    "Scale_Post5 = CUBOID([9,0.4,5])\n",
    "Scale_Post5 = T([1,2])([3.5,1.6])(Scale_Post5)\n",
    "\n",
    "Scale_Posteriore = STRUCT([Scale_Post,Scale_Post2,Scale_Post3,Scale_Post4,Scale_Post5])\n",
    "Scale_Posteriore = TEXTURE('\\windows\\system32\\Github\\Muro.jpg')(Scale_Posteriore)\n",
    "\n",
    "Ringhiera = CUBOID([0.05,3,0.05])\n",
    "#Ringhiera2 = T(1)(0.25)(Ringhiera)\n",
    "#Ringhiera = STRUCT([Ringhiera,Ringhiera2])\n",
    "Ringhiera = STRUCT(NN(5)([T([1,2])([0.80,0.4]),Ringhiera]))\n",
    "\n",
    "Corrimano = CUBOID([0.2,4.25,0.2])\n",
    "Corrimano = R([1,2])((2*PI)/3)(Corrimano)\n",
    "Corrimano = T([1,2,3])([4.3,5.2,-0.10])(Corrimano)\n",
    "\n",
    "VIEW(STRUCT([Ringhiera,Corrimano]))"
   ]
  },
  {
   "cell_type": "code",
   "execution_count": 70,
   "metadata": {},
   "outputs": [
    {
     "data": {
      "text/plain": [
       "<pyplasm.xgepy.Hpc; proxy of <Swig Object of type 'std::shared_ptr< Hpc > *' at 0x000000002498DC90> >"
      ]
     },
     "execution_count": 70,
     "metadata": {},
     "output_type": "execute_result"
    }
   ],
   "source": [
    "Ringhiera = STRUCT([Ringhiera,Corrimano])\n",
    "Ringhiera = TEXTURE('\\windows\\system32\\Github\\Legno.jpg')(Ringhiera)\n",
    "#Ringhiera = T(3)(1)(Ringhiera)\n",
    "Ringhiera2 = R([1,3])(PI)(Ringhiera)\n",
    "\n",
    "Ringhiera2 = T(1)(16)(Ringhiera2)\n",
    "Corrimano_Superiore = CUBOID([8,0.2,0.2])\n",
    "Corrimano_Superiore = T([1,2,3])([4,5.2,-0.1])(Corrimano_Superiore)\n",
    "Corrimano_Superiore = TEXTURE('\\windows\\system32\\Github\\Legno.jpg')(Corrimano_Superiore)\n",
    "VIEW(STRUCT([Ringhiera,Ringhiera2]))"
   ]
  },
  {
   "cell_type": "code",
   "execution_count": 71,
   "metadata": {},
   "outputs": [],
   "source": [
    "Ringhiera_Post_Dav = STRUCT([Ringhiera,Ringhiera2,Corrimano_Superiore])\n",
    "Ringhiera_Post = STRUCT([Ringhiera,Ringhiera2])\n",
    "#Ringhiera_Post = T(3)(5)(Ringhiera_Post)\n",
    "Ringhiera_Post_Dav = T(3)(5)(Ringhiera_Post_Dav)\n",
    "Scale_Posteriore = STRUCT([Scale_Posteriore,Ringhiera_Post,Ringhiera_Post_Dav])\n",
    "\n",
    "Scale_Posteriore = T([1,3])([12,39])(Scale_Posteriore)\n",
    "\n",
    "VIEW(Scale_Posteriore)\n",
    "\n",
    "Costruzione = STRUCT([Costruzione,Scale_Posteriore])"
   ]
  },
  {
   "cell_type": "markdown",
   "metadata": {},
   "source": []
  },
  {
   "cell_type": "code",
   "execution_count": 72,
   "metadata": {},
   "outputs": [
    {
     "data": {
      "text/plain": [
       "<pyplasm.xgepy.Hpc; proxy of <Swig Object of type 'std::shared_ptr< Hpc > *' at 0x00000000249F9AE0> >"
      ]
     },
     "execution_count": 72,
     "metadata": {},
     "output_type": "execute_result"
    }
   ],
   "source": [
    "VIEW(Costruzione)"
   ]
  },
  {
   "cell_type": "markdown",
   "metadata": {},
   "source": [
    "![34.PNG]files/Immagini/34.PNG)"
   ]
  },
  {
   "cell_type": "code",
   "execution_count": 73,
   "metadata": {},
   "outputs": [
    {
     "data": {
      "text/plain": [
       "<pyplasm.xgepy.Hpc; proxy of <Swig Object of type 'std::shared_ptr< Hpc > *' at 0x0000000024A01960> >"
      ]
     },
     "execution_count": 73,
     "metadata": {},
     "output_type": "execute_result"
    }
   ],
   "source": [
    "Porta = porta()\n",
    "Porta2 = R([1,3])(PI)(Porta)\n",
    "Porta2 = T([1,3])([2,1])(Porta2)\n",
    "#VIEW(STRUCT([Porta,Porta2]))\n",
    "Porta = STRUCT([Porta,Porta2])\n",
    "Porta = T([1,3])([18.5,14.25])(Porta)\n",
    "#Porta_Completa = T([1,3])([14,14])(Varco)\n",
    "#Atrio = DIFFERENCE([Atrio,Porta_Completa])\n",
    "Costruzione = STRUCT([Costruzione,Porta])\n",
    "VIEW(Costruzione)\n"
   ]
  },
  {
   "cell_type": "code",
   "execution_count": 74,
   "metadata": {},
   "outputs": [
    {
     "data": {
      "text/plain": [
       "<pyplasm.xgepy.Hpc; proxy of <Swig Object of type 'std::shared_ptr< Hpc > *' at 0x00000000249F9D80> >"
      ]
     },
     "execution_count": 74,
     "metadata": {},
     "output_type": "execute_result"
    }
   ],
   "source": [
    "#Porta_Muro1 = R([1,2])(PI/2)(Porta_Muro1)\n",
    "Porta_Muro1 = R([1,3])(PI/2)(Porta)\n",
    "#Porta_Muro1 = T([1,3])([7.8,2])(Porta_Muro1)\n",
    "Porta_Muro1 = T([1,3])([12,-8])(Porta_Muro1)\n",
    "#VIEW(STRUCT([Atrio,Porta_Muro1]))\n",
    "#Atrio = STRUCT([Atrio,Porta_Muro1])\n",
    "Porta_Muro1 = T([1,3])([14.25,0])(Porta_Muro1)\n",
    "Porta_Muro2 = T([1,3])([0.0,-4])(Porta_Muro1)\n",
    "Costruzione = STRUCT([Costruzione,Porta_Muro2])\n",
    "Porta_Muro1 = T([1,3])([16.5,-4])(Porta_Muro1)\n",
    "VIEW(STRUCT([Costruzione,Porta_Muro1]))\n",
    "Costruzione = STRUCT([Costruzione,Porta_Muro1])\n",
    "\n",
    "VIEW(Costruzione)"
   ]
  },
  {
   "cell_type": "code",
   "execution_count": 75,
   "metadata": {},
   "outputs": [],
   "source": [
    "# Con MKPOL facciamo il triangolo al quale aggiungeremo la profondità con OFFSET:\n",
    "triangoloTettoO = MKPOL([\n",
    "    [[0,0,-0.5],[0,0,23],[0,5,11.25]],\n",
    "    [[1,2,3]],\n",
    "    [[1]]\n",
    "])\n",
    "\n",
    "triangoloTettoOLinea = MKPOL([\n",
    "    [[0,0,-0.5],[0,0,0],[0,4.5,11.25],[0,0,22.5],[0,0,23],[0,5,11.25]],\n",
    "    [[1,2,3,6],[3,4,5,6]],\n",
    "    [[1],[2]]\n",
    "])\n",
    "\n",
    "tettoOrizzontale = T([1,2])([-0.5,12])(STRUCT([\n",
    "    COLOR([0.6,0.4,0.3])(T(1)(-0.01)(triangoloTettoO)),\n",
    "    COLOR([0.6,0.4,0.3])(T(1)(-0.02)(triangoloTettoOLinea)),\n",
    "    COLOR([0.6,0.4,0.3])(OFFSET([47,0,0])(triangoloTettoO)),\n",
    "    COLOR([0.6,0.4,0.3])(T(1)(47.01)(triangoloTettoO)),\n",
    "    COLOR([0.6,0.4,0.3])(T(1)(47.02)(triangoloTettoOLinea))\n",
    "]))\n",
    "\n",
    "VIEW(tettoOrizzontale)\n",
    "tettoOrizzontale = S([1,3])([0.85,1.35])(tettoOrizzontale)"
   ]
  },
  {
   "cell_type": "code",
   "execution_count": 76,
   "metadata": {},
   "outputs": [
    {
     "data": {
      "text/plain": [
       "<pyplasm.xgepy.Hpc; proxy of <Swig Object of type 'std::shared_ptr< Hpc > *' at 0x00000000249FC720> >"
      ]
     },
     "execution_count": 76,
     "metadata": {},
     "output_type": "execute_result"
    }
   ],
   "source": [
    "triangoloTettoFGrande = MKPOL([\n",
    "    [[0,0,0],[23,0,0],[11.5,4,0]],\n",
    "    [[1,2,3]],\n",
    "    [[1]]\n",
    "])\n",
    "\n",
    "triangoloTettoFPiccolo = MKPOL([\n",
    "    [[0.5,0,0],[22.5,0,0],[11.5,3.5,0]],\n",
    "    [[1,2,3]],\n",
    "    [[1]]\n",
    "])\n",
    "\n",
    "triangoloTettoFLinea = MKPOL([\n",
    "    [[0,0,0],[0.5,0,0],[11.5,3.5,0],[22.5,0,0],[23,0,0],[11.5,4,0]],\n",
    "    [[1,2,3,6],[3,4,5,6]],\n",
    "    [[1,2]]\n",
    "])\n",
    "\n",
    "tettoFrontale1 = T([1,2,3])([8.5,12.01,-0.6])(STRUCT([\n",
    "     COLOR([0.6,0.4,0.3])(T(3)(10.01)(triangoloTettoFPiccolo)),\n",
    "     COLOR([0.6,0.4,0.3])(OFFSET([0,0,10])(triangoloTettoFGrande)),\n",
    "    COLOR([0.6,0.4,0.3])(OFFSET([0,0,0.1])(T(3)(10.01)(triangoloTettoFLinea)))\n",
    "]))\n",
    "\n",
    "VIEW(STRUCT([tettoFrontale1,tettoOrizzontale]))"
   ]
  },
  {
   "cell_type": "code",
   "execution_count": 77,
   "metadata": {},
   "outputs": [],
   "source": [
    "triangoloTettoRetroLinea = MKPOL([\n",
    "    [[0,0,0],[0.5,0,0],[5.5,2.5,0],[10.5,0,0],[11,0,0],[5.5,3,0]],\n",
    "    [[1,2,3,6],[3,4,5,6]],\n",
    "    [[1]]\n",
    "])\n",
    "\n",
    "triangoloTettoRetro = MKPOL([\n",
    "    [[0,0,0],[11,0,0],[5.5,3,0]],\n",
    "    [[1,2,3]],\n",
    "    [[1]]\n",
    "])\n",
    "\n",
    "tettoRetro1 = T([1,2,3])([14.5,12,14.5])(STRUCT([\n",
    "    COLOR([0.6,0.4,0.3])(OFFSET([0,0,11])(triangoloTettoRetro)),\n",
    "    COLOR([0.6,0.4,0.3])(T(3)(-0.01)(triangoloTettoRetro)),\n",
    "   COLOR([0.6,0.4,0.3])(T(3)(-0.05)((OFFSET([0,0,0.05]))(triangoloTettoRetroLinea)))\n",
    "]))\n",
    "tettoRetro1 = S(3)(1.55)(tettoRetro1)\n",
    "VIEW(STRUCT([tettoFrontale1,tettoOrizzontale,tettoRetro1]))\n",
    "tettoOrizzontale = STRUCT([tettoFrontale1,tettoOrizzontale,tettoRetro1])"
   ]
  },
  {
   "cell_type": "markdown",
   "metadata": {},
   "source": [
    "![39.PNG](files/Immagini/39.PNG)"
   ]
  },
  {
   "cell_type": "code",
   "execution_count": 78,
   "metadata": {},
   "outputs": [],
   "source": [
    "Camino = comignolo()"
   ]
  },
  {
   "cell_type": "code",
   "execution_count": 79,
   "metadata": {},
   "outputs": [],
   "source": [
    "Camino = S([1,2,3])([0.5,0.5,0.5])(Camino)"
   ]
  },
  {
   "cell_type": "code",
   "execution_count": 80,
   "metadata": {},
   "outputs": [],
   "source": [
    "Camino = T([2,3])([12,1.5])(Camino)"
   ]
  },
  {
   "cell_type": "code",
   "execution_count": 81,
   "metadata": {},
   "outputs": [],
   "source": [
    "Camino2 = T(1)(36)(Camino)"
   ]
  },
  {
   "cell_type": "code",
   "execution_count": 82,
   "metadata": {},
   "outputs": [],
   "source": [
    "Camino = STRUCT([Camino,Camino2])"
   ]
  },
  {
   "cell_type": "code",
   "execution_count": 83,
   "metadata": {},
   "outputs": [],
   "source": [
    "Camino3 = T(3)(28)(Camino)"
   ]
  },
  {
   "cell_type": "code",
   "execution_count": 84,
   "metadata": {},
   "outputs": [
    {
     "data": {
      "text/plain": [
       "<pyplasm.xgepy.Hpc; proxy of <Swig Object of type 'std::shared_ptr< Hpc > *' at 0x00000000249FCBA0> >"
      ]
     },
     "execution_count": 84,
     "metadata": {},
     "output_type": "execute_result"
    }
   ],
   "source": [
    "VIEW(STRUCT([tettoOrizzontale,Camino,Camino3]))"
   ]
  },
  {
   "cell_type": "markdown",
   "metadata": {},
   "source": [
    "![51.PNG](files/Immagini/51.PNG)"
   ]
  },
  {
   "cell_type": "code",
   "execution_count": 85,
   "metadata": {},
   "outputs": [],
   "source": [
    "tettoOrizzontale = STRUCT([tettoOrizzontale,Camino,Camino3])\n"
   ]
  },
  {
   "cell_type": "markdown",
   "metadata": {},
   "source": [
    "![38.PNG](files/Immagini/38.PNG)"
   ]
  },
  {
   "cell_type": "markdown",
   "metadata": {},
   "source": []
  },
  {
   "cell_type": "code",
   "execution_count": 86,
   "metadata": {},
   "outputs": [],
   "source": [
    "#tettoOrizzontale = T(2)(3)(tettoOrizzontale\n",
    "tettoOrizzontale = T([1,2])([0.4,-2])(tettoOrizzontale)\n",
    "Costruzione = STRUCT([Costruzione,tettoOrizzontale])"
   ]
  },
  {
   "cell_type": "code",
   "execution_count": 87,
   "metadata": {},
   "outputs": [
    {
     "name": "stdout",
     "output_type": "stream",
     "text": [
      "Child 3\n",
      "Child 3\n"
     ]
    },
    {
     "data": {
      "text/plain": [
       "<pyplasm.xgepy.Hpc; proxy of <Swig Object of type 'std::shared_ptr< Hpc > *' at 0x00000000249E4450> >"
      ]
     },
     "execution_count": 87,
     "metadata": {},
     "output_type": "execute_result"
    }
   ],
   "source": [
    "Scala = scale_esterne()\n",
    "Scala = T([1,2,3])([18,-2,-6])(Scala)\n",
    "\n",
    "Costruzione = STRUCT([Costruzione,Scala])\n",
    "\n",
    "VIEW(Costruzione)"
   ]
  },
  {
   "cell_type": "code",
   "execution_count": 88,
   "metadata": {},
   "outputs": [
    {
     "data": {
      "text/plain": [
       "<pyplasm.xgepy.Hpc; proxy of <Swig Object of type 'std::shared_ptr< Hpc > *' at 0x00000000249E4450> >"
      ]
     },
     "execution_count": 88,
     "metadata": {},
     "output_type": "execute_result"
    }
   ],
   "source": [
    "VIEW(Costruzione)"
   ]
  },
  {
   "cell_type": "code",
   "execution_count": 89,
   "metadata": {},
   "outputs": [],
   "source": [
    "Prato = CUBOID([80,4,80])"
   ]
  },
  {
   "cell_type": "code",
   "execution_count": 90,
   "metadata": {},
   "outputs": [],
   "source": [
    "Prato = TEXTURE('\\windows\\system32\\Github\\Prato.jpg')(Prato)"
   ]
  },
  {
   "cell_type": "markdown",
   "metadata": {},
   "source": [
    "<h1> Prima versione della villa </h1>"
   ]
  },
  {
   "cell_type": "code",
   "execution_count": 91,
   "metadata": {},
   "outputs": [
    {
     "data": {
      "text/plain": [
       "<pyplasm.xgepy.Hpc; proxy of <Swig Object of type 'std::shared_ptr< Hpc > *' at 0x00000000249FE330> >"
      ]
     },
     "execution_count": 91,
     "metadata": {},
     "output_type": "execute_result"
    }
   ],
   "source": [
    "VIEW(STRUCT([Costruzione,T([1,2,3])([-17,-6.0,-15])(Prato)]))"
   ]
  },
  {
   "attachments": {},
   "cell_type": "markdown",
   "metadata": {},
   "source": [
    "![60.PNG](files/Immagini/60.PNG)"
   ]
  },
  {
   "attachments": {},
   "cell_type": "markdown",
   "metadata": {},
   "source": [
    "![61.PNG](files/Immagini/61.PNG)"
   ]
  },
  {
   "attachments": {},
   "cell_type": "markdown",
   "metadata": {},
   "source": [
    "![62.PNG](attachment:files/Immagini/62.PNG)"
   ]
  },
  {
   "attachments": {},
   "cell_type": "markdown",
   "metadata": {},
   "source": [
    "![63.PNG](files/Immagini/63.PNG)"
   ]
  },
  {
   "cell_type": "code",
   "execution_count": null,
   "metadata": {},
   "outputs": [],
   "source": []
  },
  {
   "cell_type": "markdown",
   "metadata": {},
   "source": [
    "<h1> Versione con rivestimento mattonato esterno </h1>"
   ]
  },
  {
   "cell_type": "code",
   "execution_count": 98,
   "metadata": {},
   "outputs": [],
   "source": [
    "#Rivestimento\n",
    "Rivestimento = CUBOID([0.3,10,30])\n",
    "Rivestimento = forofinestrelle_laterali(Rivestimento)\n",
    "Rivestimento = TEXTURE('\\windows\\system32\\Github\\Laterali.jpg')(Rivestimento)\n",
    "Rivestimento2 = T(1)(40)(Rivestimento)\n",
    "Rivestimento = STRUCT([Rivestimento,Rivestimento2])\n",
    "R_Post = CUBOID([16,10,0.3])\n",
    "#R_Post = TEXTURE('\\windows\\system32\\Github\\Laterali.jpg')(R_Post)\n",
    "R_Post = T(3)(30)(R_Post)\n",
    "#VIEW(STRUCT([Costruzione,Foro_Finestrelle2]))\n",
    "\n",
    "Foro_Finestrelle2 = T(3)(1)(Foro_Finestrelle2)\n",
    "#VIEW(STRUCT([Costruzione,Foro_Finestrelle2]))\n",
    "R_Post = DIFFERENCE([R_Post,Foro_Finestrelle2])\n",
    "R_Post = TEXTURE('\\windows\\system32\\Github\\Laterali.jpg')(R_Post)\n",
    "R_Post1 = T(1)(24.00)(R_Post)\n",
    "R_Post = STRUCT([R_Post,R_Post1])\n",
    "Camera_Posteriore = TEXTURE('\\windows\\system32\\Github\\Laterali.jpg')(Camera_Posteriore)\n",
    "Camera_Posteriore1 = S([1,3])([1.25,1])(Camera_Posteriore)\n",
    "#VIEW(STRUCT([Costruzione,Rivestimento,R_Post,T([1,3])([-5,0.15])(Camera_Posteriore1)]))*\n",
    "#Costruzione = STRUCT([Costruzione,Rivestimento,R_Post,T([1,3])([-5,0.15])(Camera_Posteriore1)])*"
   ]
  },
  {
   "cell_type": "code",
   "execution_count": 93,
   "metadata": {},
   "outputs": [],
   "source": [
    "VIEW(STRUCT([Costruzione,Rivestimento,R_Post,T([1,3])([0,0.15])(Camera_Posteriore)]))\n",
    "Costruzione = STRUCT([Costruzione,Rivestimento,R_Post,T([1,3])([0,0.15])(Camera_Posteriore)])"
   ]
  },
  {
   "cell_type": "code",
   "execution_count": 94,
   "metadata": {},
   "outputs": [
    {
     "data": {
      "text/plain": [
       "<pyplasm.xgepy.Hpc; proxy of <Swig Object of type 'std::shared_ptr< Hpc > *' at 0x00000000249FE570> >"
      ]
     },
     "execution_count": 94,
     "metadata": {},
     "output_type": "execute_result"
    }
   ],
   "source": [
    "VIEW(STRUCT([Costruzione,T([1,2,3])([-17,-6.0,-15])(Prato)]))"
   ]
  },
  {
   "attachments": {},
   "cell_type": "markdown",
   "metadata": {},
   "source": [
    "![71.PNG](files/Immagini/71.PNG)"
   ]
  },
  {
   "cell_type": "code",
   "execution_count": null,
   "metadata": {},
   "outputs": [],
   "source": []
  }
 ],
 "metadata": {
  "kernelspec": {
   "display_name": "Python 2",
   "language": "python",
   "name": "python2"
  },
  "language_info": {
   "codemirror_mode": {
    "name": "ipython",
    "version": 2
   },
   "file_extension": ".py",
   "mimetype": "text/x-python",
   "name": "python",
   "nbconvert_exporter": "python",
   "pygments_lexer": "ipython2",
   "version": "2.7.12"
  }
 },
 "nbformat": 4,
 "nbformat_minor": 2
}

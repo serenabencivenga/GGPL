{
 "cells": [
  {
   "cell_type": "code",
   "execution_count": 1,
   "metadata": {},
   "outputs": [
    {
     "name": "stdout",
     "output_type": "stream",
     "text": [
      "Evaluating fenvs.py..\n",
      "...fenvs.py imported in 0.0294186910301 seconds\n"
     ]
    },
    {
     "name": "stderr",
     "output_type": "stream",
     "text": [
      "c:\\programmi\\python27\\lib\\site-packages\\larlib\\larstruct.py:233: FutureWarning: comparison to `None` will result in an elementwise object comparison in the future.\n",
      "  self.body = [item for item in data if item != None]\n"
     ]
    }
   ],
   "source": [
    "from larlib import *\n",
    "from Elementidicostruzione_Colonna import *\n",
    "from Elementidicostruzione_Comignolo import *\n",
    "from Elementidicostruzione_Finestra import *\n",
    "from Elementidicostruzione_Porta import *\n",
    "from Elementidicostruzione_Grate1 import *\n",
    "from Elementidicostruzione_Travi_Porticato2 import *\n",
    "from Elementidicostruzione_Scala_Esterna1 import *"
   ]
  },
  {
   "cell_type": "code",
   "execution_count": 2,
   "metadata": {},
   "outputs": [],
   "source": [
    "from larlib import *\n"
   ]
  },
  {
   "cell_type": "code",
   "execution_count": 3,
   "metadata": {},
   "outputs": [
    {
     "name": "stdout",
     "output_type": "stream",
     "text": [
      "Child 3\n",
      "Child 3\n"
     ]
    },
    {
     "data": {
      "text/plain": [
       "<pyplasm.xgepy.Hpc; proxy of <Swig Object of type 'std::shared_ptr< Hpc > *' at 0x0000000016193870> >"
      ]
     },
     "execution_count": 3,
     "metadata": {},
     "output_type": "execute_result"
    }
   ],
   "source": [
    "Scala_Esterna = scale_esterne()\n",
    "VIEW(Scala_Esterna)"
   ]
  },
  {
   "cell_type": "markdown",
   "metadata": {},
   "source": [
    "![Scala_Esterna.PNG](files/Immagini/Scala_Esterna.PNG)"
   ]
  },
  {
   "cell_type": "code",
   "execution_count": 4,
   "metadata": {},
   "outputs": [],
   "source": [
    "Camino = comignolo()"
   ]
  },
  {
   "cell_type": "code",
   "execution_count": 5,
   "metadata": {},
   "outputs": [
    {
     "data": {
      "text/plain": [
       "<pyplasm.xgepy.Hpc; proxy of <Swig Object of type 'std::shared_ptr< Hpc > *' at 0x0000000016193CC0> >"
      ]
     },
     "execution_count": 5,
     "metadata": {},
     "output_type": "execute_result"
    }
   ],
   "source": [
    "VIEW(Camino)"
   ]
  },
  {
   "cell_type": "markdown",
   "metadata": {},
   "source": [
    "![Comignolo.PNG](files/Immagini/Camignolo.PNG)"
   ]
  },
  {
   "cell_type": "code",
   "execution_count": 6,
   "metadata": {},
   "outputs": [
    {
     "data": {
      "text/plain": [
       "<pyplasm.xgepy.Hpc; proxy of <Swig Object of type 'std::shared_ptr< Hpc > *' at 0x0000000016193F60> >"
      ]
     },
     "execution_count": 6,
     "metadata": {},
     "output_type": "execute_result"
    }
   ],
   "source": [
    "Finestra = finestra()\n",
    "VIEW(Finestra)\n"
   ]
  },
  {
   "cell_type": "markdown",
   "metadata": {},
   "source": [
    "![Finestra.PNG](files/Immagini/Finestra.PNG)"
   ]
  },
  {
   "cell_type": "code",
   "execution_count": 7,
   "metadata": {},
   "outputs": [
    {
     "data": {
      "text/plain": [
       "<pyplasm.xgepy.Hpc; proxy of <Swig Object of type 'std::shared_ptr< Hpc > *' at 0x0000000016193FC0> >"
      ]
     },
     "execution_count": 7,
     "metadata": {},
     "output_type": "execute_result"
    }
   ],
   "source": [
    "Porta = porta()\n",
    "VIEW(Porta)"
   ]
  },
  {
   "cell_type": "markdown",
   "metadata": {},
   "source": [
    "![Porta.PNG](files/Immagini/Porta.PNG)"
   ]
  },
  {
   "cell_type": "code",
   "execution_count": 8,
   "metadata": {},
   "outputs": [
    {
     "data": {
      "text/plain": [
       "<pyplasm.xgepy.Hpc; proxy of <Swig Object of type 'std::shared_ptr< Hpc > *' at 0x0000000016193E70> >"
      ]
     },
     "execution_count": 8,
     "metadata": {},
     "output_type": "execute_result"
    }
   ],
   "source": [
    "Grate = grate()\n",
    "VIEW(Grate)"
   ]
  },
  {
   "cell_type": "markdown",
   "metadata": {},
   "source": [
    "![Grate.PNG](files/Immagini/Grate.PNG)"
   ]
  },
  {
   "cell_type": "code",
   "execution_count": 9,
   "metadata": {},
   "outputs": [
    {
     "data": {
      "text/plain": [
       "<pyplasm.xgepy.Hpc; proxy of <Swig Object of type 'std::shared_ptr< Hpc > *' at 0x000000002E5360F0> >"
      ]
     },
     "execution_count": 9,
     "metadata": {},
     "output_type": "execute_result"
    }
   ],
   "source": [
    "#Travi di sostegno del tetto\n",
    "r0=24.00\n",
    "hCol = 12\n",
    "\n",
    "TrellisTop3D = COMP([T(2)(-0.25),S(2)(0.5),OFFSET([1,1,1]),Trellis])([hCol,r0 -1])\n",
    "TrellisTop3D = TEXTURE('\\windows\\system32\\Github\\Legno_Travi.jpg')(TrellisTop3D)\n",
    "VIEW(TrellisTop3D)"
   ]
  },
  {
   "cell_type": "markdown",
   "metadata": {},
   "source": [
    "![Travi.PNG](files/Immagini/Travi.PNG)"
   ]
  },
  {
   "cell_type": "code",
   "execution_count": 10,
   "metadata": {},
   "outputs": [
    {
     "data": {
      "text/plain": [
       "<pyplasm.xgepy.Hpc; proxy of <Swig Object of type 'std::shared_ptr< Hpc > *' at 0x000000002E536450> >"
      ]
     },
     "execution_count": 10,
     "metadata": {},
     "output_type": "execute_result"
    }
   ],
   "source": [
    "Porticato = STRUCT(NN(3)([T(1)(4),CourtWall()]))\n",
    "Porticato = R([2,3])((3*PI)/2)(Porticato)\n",
    "Porticato = TEXTURE('\\windows\\system32\\Github\\Font_Pareti.jpg')(Porticato)\n",
    "VIEW(Porticato)"
   ]
  },
  {
   "cell_type": "markdown",
   "metadata": {},
   "source": [
    "![Porticato.PNG](files/Immagini/Porticato.PNG)"
   ]
  },
  {
   "cell_type": "code",
   "execution_count": 11,
   "metadata": {},
   "outputs": [
    {
     "data": {
      "text/plain": [
       "<pyplasm.xgepy.Hpc; proxy of <Swig Object of type 'std::shared_ptr< Hpc > *' at 0x0000000016193BD0> >"
      ]
     },
     "execution_count": 11,
     "metadata": {},
     "output_type": "execute_result"
    }
   ],
   "source": [
    "hCol = 5.25\n",
    "\n",
    "MyColumn  = COMP([MKPOL,UKPOL,ColumnP])([0.5,hCol])\n",
    "MyColumn = R([2,3])((3*PI)/2)(MyColumn)\n",
    "#MyColumn = TEXTURE('\\windows\\system32\\Github\\Font_Pareti_Ombreggiatura.jpg')(MyColumn)\n",
    "#MyColumn = T([1,3])([11.35,-0.5])(MyColumn)\n",
    "MyColumn = T([1,3])([11.35,0.001])(MyColumn)\n",
    "#MyColumn = TEXTURE('windows\\system32\\Github\\Font_Pareti_Ombreggiatura.jpg')(MyColumn)\n",
    "MyColumn = TEXTURE('\\windows\\system32\\Github\\Font_Pareti.jpg')(MyColumn)\n",
    "MyColumn2 = T(1)(-4)(MyColumn)\n",
    "MyColumn3 = T(1)(-4)(MyColumn2)\n",
    "MyColumn4 = T(1)(4)(MyColumn)\n",
    "#VIEW(STRUCT([Porticato,MyColumn,MyColumn2,MyColumn3,MyColumn4]))\n",
    "Porticato_Finale = STRUCT([Porticato,MyColumn,MyColumn2,MyColumn3,MyColumn4])\n",
    "VIEW(Porticato_Finale)"
   ]
  },
  {
   "cell_type": "markdown",
   "metadata": {},
   "source": [
    "![Porticato_Finito2.PNG](files/Immagini/Porticato_Finito2.PNG)"
   ]
  },
  {
   "cell_type": "code",
   "execution_count": null,
   "metadata": {},
   "outputs": [],
   "source": []
  },
  {
   "cell_type": "code",
   "execution_count": null,
   "metadata": {},
   "outputs": [],
   "source": []
  },
  {
   "cell_type": "code",
   "execution_count": null,
   "metadata": {},
   "outputs": [],
   "source": []
  }
 ],
 "metadata": {
  "kernelspec": {
   "display_name": "Python 2",
   "language": "python",
   "name": "python2"
  },
  "language_info": {
   "codemirror_mode": {
    "name": "ipython",
    "version": 2
   },
   "file_extension": ".py",
   "mimetype": "text/x-python",
   "name": "python",
   "nbconvert_exporter": "python",
   "pygments_lexer": "ipython2",
   "version": "2.7.12"
  }
 },
 "nbformat": 4,
 "nbformat_minor": 2
}

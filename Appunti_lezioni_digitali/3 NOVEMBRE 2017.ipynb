{
 "cells": [
  {
   "cell_type": "markdown",
   "metadata": {},
   "source": [
    "03-11-2017\n",
    "Lezione"
   ]
  },
  {
   "cell_type": "code",
   "execution_count": null,
   "metadata": {},
   "outputs": [],
   "source": []
  },
  {
   "cell_type": "code",
   "execution_count": 2,
   "metadata": {},
   "outputs": [
    {
     "name": "stdout",
     "output_type": "stream",
     "text": [
      "Evaluating fenvs.py..\n",
      "...fenvs.py imported in "
     ]
    },
    {
     "name": "stderr",
     "output_type": "stream",
     "text": [
      "c:\\programmi\\python27\\lib\\site-packages\\larlib\\larstruct.py:233: FutureWarning: comparison to `None` will result in an elementwise object comparison in the future.\n",
      "  self.body = [item for item in data if item != None]\n"
     ]
    },
    {
     "name": "stdout",
     "output_type": "stream",
     "text": [
      "0.0318879805336 seconds\n"
     ]
    }
   ],
   "source": [
    "from larlib import *\n"
   ]
  },
  {
   "cell_type": "code",
   "execution_count": 4,
   "metadata": {},
   "outputs": [],
   "source": [
    "from scipy.spatial import Delaunay\n",
    "FV=Delaunay(array(V)).vertices"
   ]
  },
  {
   "cell_type": "code",
   "execution_count": 5,
   "metadata": {},
   "outputs": [
    {
     "data": {
      "text/plain": [
       "array([[ 64, 115,  13],\n",
       "       [ 52,  48,  90],\n",
       "       [ 48,  17,  90],\n",
       "       [ 49, 103,  21],\n",
       "       [ 38,  21,  31],\n",
       "       [ 38,  49,  21],\n",
       "       [126,  95, 115],\n",
       "       [ 64, 126, 115],\n",
       "       [ 57, 117,  71],\n",
       "       [ 48,  93,  40],\n",
       "       [ 52,  93,  48],\n",
       "       [  9,  47,  23],\n",
       "       [103,  72,  21],\n",
       "       [108, 117,  95],\n",
       "       [  2,  16,  59],\n",
       "       [127,  73,  71],\n",
       "       [108,  68, 127],\n",
       "       [  3,  89,  80],\n",
       "       [ 56,  81, 124],\n",
       "       [ 50, 118,  24],\n",
       "       [  7,  36, 124],\n",
       "       [ 36, 123,  67],\n",
       "       [ 36,  56, 124],\n",
       "       [ 56,  36,  67],\n",
       "       [ 36,   7,  57],\n",
       "       [ 54,  56,  67],\n",
       "       [107,  38,  31],\n",
       "       [ 38, 107,  60],\n",
       "       [ 29,  10,  86],\n",
       "       [ 29,  20,  10],\n",
       "       [117,  19,  95],\n",
       "       [ 95,  19, 115],\n",
       "       [122,  17,  12],\n",
       "       [ 17, 122,  90],\n",
       "       [ 93, 100,  40],\n",
       "       [100,  93,  45],\n",
       "       [ 11,  48,  78],\n",
       "       [ 11,  17,  48],\n",
       "       [120,  72,  28],\n",
       "       [ 72, 120,  20],\n",
       "       [ 28,  72,  37],\n",
       "       [ 72, 103,  37],\n",
       "       [ 72,  29,  21],\n",
       "       [ 29,  72,  20],\n",
       "       [108, 127,  71],\n",
       "       [117, 108,  71],\n",
       "       [  8,  85,  92],\n",
       "       [  8,  92,  66],\n",
       "       [ 85,   8,  13],\n",
       "       [  8,  64,  13],\n",
       "       [  0,  76, 100],\n",
       "       [  0, 100,  45],\n",
       "       [ 27,  30, 111],\n",
       "       [ 30,  27,  70],\n",
       "       [ 27,  58,  55],\n",
       "       [ 27,  55,  70],\n",
       "       [102,  35, 116],\n",
       "       [ 35, 102,  55],\n",
       "       [ 41,   9,  23],\n",
       "       [ 41,  23, 110],\n",
       "       [ 41, 122,  12],\n",
       "       [  9,  41,  12],\n",
       "       [ 18,  74,   1],\n",
       "       [ 74,  18,  99],\n",
       "       [ 74,  78,   1],\n",
       "       [ 74,  11,  78],\n",
       "       [  7,  19, 117],\n",
       "       [  7, 117,  57],\n",
       "       [113,  89,  32],\n",
       "       [ 89, 113,  80],\n",
       "       [ 82,   2,  59],\n",
       "       [  2,  82, 109],\n",
       "       [ 24,  53, 120],\n",
       "       [ 53,  24, 121],\n",
       "       [ 53,   2, 109],\n",
       "       [  2,  53, 121],\n",
       "       [ 20,  53,  10],\n",
       "       [120,  53,  20],\n",
       "       [ 16,   2, 121],\n",
       "       [ 42,  16, 121],\n",
       "       [113,  73,  80],\n",
       "       [ 73,  42,  80],\n",
       "       [ 73,  16,  42],\n",
       "       [ 16,  73, 127],\n",
       "       [ 68,  82,  59],\n",
       "       [ 82,  68,  51],\n",
       "       [ 68,  16, 127],\n",
       "       [ 16,  68,  59],\n",
       "       [ 75,   8,  66],\n",
       "       [ 51,  75,  66],\n",
       "       [  8,  75,  64],\n",
       "       [ 75, 126,  64],\n",
       "       [ 68,  75,  51],\n",
       "       [ 75,  68, 108],\n",
       "       [126,  75,  95],\n",
       "       [ 75, 108,  95],\n",
       "       [ 79,  98,  25],\n",
       "       [ 79,  25, 125],\n",
       "       [ 65,  61, 101],\n",
       "       [ 61,  65,   5],\n",
       "       [ 84,  61,  26],\n",
       "       [ 61,   5,  26],\n",
       "       [105,  65, 106],\n",
       "       [ 65, 105,   5],\n",
       "       [ 77,  44, 125],\n",
       "       [ 25,  77, 125],\n",
       "       [ 77,  84,  26],\n",
       "       [ 44,  77,  26],\n",
       "       [  5,  81,  26],\n",
       "       [105,  81,   5],\n",
       "       [ 55,  87,  70],\n",
       "       [102,  87,  55],\n",
       "       [ 87, 107,  14],\n",
       "       [107,  87,  60],\n",
       "       [ 30,  87,  14],\n",
       "       [ 87,  30,  70],\n",
       "       [ 91, 102, 116],\n",
       "       [ 91, 116,  37],\n",
       "       [ 91,  87, 102],\n",
       "       [ 87,  91,  60],\n",
       "       [103,  91,  37],\n",
       "       [ 91, 103,  49],\n",
       "       [ 91,  38,  60],\n",
       "       [ 38,  91,  49],\n",
       "       [ 50,  28,  37],\n",
       "       [116,  50,  37],\n",
       "       [ 50, 120,  28],\n",
       "       [ 50,  24, 120],\n",
       "       [ 76,  63, 119],\n",
       "       [  0,  63,  76],\n",
       "       [ 63, 111, 119],\n",
       "       [ 63,  27, 111],\n",
       "       [ 27,  63,  58],\n",
       "       [ 58,  63,   4],\n",
       "       [  6,  58,   4],\n",
       "       [  6,   4, 110],\n",
       "       [ 58,   6,  55],\n",
       "       [  6,  35,  55],\n",
       "       [112,  63,   0],\n",
       "       [ 63, 112,   4],\n",
       "       [112,  41, 110],\n",
       "       [  4, 112, 110],\n",
       "       [ 17,  39,  12],\n",
       "       [ 11,  39,  17],\n",
       "       [ 39,   9,  12],\n",
       "       [ 39,  47,   9],\n",
       "       [ 42,   3,  80],\n",
       "       [  3,  42,  22],\n",
       "       [ 34,  53, 109],\n",
       "       [ 53,  34,  10],\n",
       "       [ 10,  34,  86],\n",
       "       [ 34,  33,  86],\n",
       "       [  3,  94,  89],\n",
       "       [ 94,   3,  62],\n",
       "       [ 97,  18,  69],\n",
       "       [ 18,  97,  99],\n",
       "       [ 98,  97,  69],\n",
       "       [ 79,  97,  98],\n",
       "       [ 97,  94,  62],\n",
       "       [ 97,  62,  99],\n",
       "       [  7,  83,  19],\n",
       "       [ 83,   7, 124],\n",
       "       [ 83,  81, 105],\n",
       "       [ 81,  83, 124],\n",
       "       [ 19,  83, 115],\n",
       "       [ 83,  43, 115],\n",
       "       [ 43,  83, 106],\n",
       "       [ 83, 105, 106],\n",
       "       [ 23,  15, 110],\n",
       "       [ 15,   6, 110],\n",
       "       [ 15,  42, 121],\n",
       "       [ 42,  15,  22],\n",
       "       [ 47,  15,  23],\n",
       "       [ 15,  47,  22],\n",
       "       [ 96,   0,  45],\n",
       "       [ 96, 112,   0],\n",
       "       [ 41,  96, 122],\n",
       "       [112,  96,  41],\n",
       "       [ 93,  96,  45],\n",
       "       [ 96,  93,  52],\n",
       "       [122,  96,  90],\n",
       "       [ 96,  52,  90],\n",
       "       [104,   3,  22],\n",
       "       [  3, 104,  62],\n",
       "       [ 39, 104,  47],\n",
       "       [ 47, 104,  22],\n",
       "       [104,  74,  99],\n",
       "       [ 62, 104,  99],\n",
       "       [ 74, 104,  11],\n",
       "       [104,  39,  11],\n",
       "       [123,  73, 113],\n",
       "       [ 73, 123,  71],\n",
       "       [123, 113,  32],\n",
       "       [ 67, 123,  32],\n",
       "       [ 56,  44,  26],\n",
       "       [ 81,  56,  26],\n",
       "       [ 89,  46,  32],\n",
       "       [ 94,  46,  89],\n",
       "       [ 46,  97,  79],\n",
       "       [ 97,  46,  94],\n",
       "       [114,  88,  92],\n",
       "       [ 92,  88,  66],\n",
       "       [ 33,  88, 114],\n",
       "       [ 34,  88,  33],\n",
       "       [ 88,  82,  51],\n",
       "       [ 88,  51,  66],\n",
       "       [ 82,  88, 109],\n",
       "       [ 88,  34, 109],\n",
       "       [ 24, 118, 121],\n",
       "       [118,  15, 121],\n",
       "       [ 35, 118, 116],\n",
       "       [118,  50, 116],\n",
       "       [  6, 118,  35],\n",
       "       [ 15, 118,   6],\n",
       "       [123,  36,  71],\n",
       "       [ 36,  57,  71],\n",
       "       [ 54,  67,  32],\n",
       "       [ 46,  54,  32],\n",
       "       [ 44,  54, 125],\n",
       "       [ 56,  54,  44],\n",
       "       [ 54,  79, 125],\n",
       "       [ 54,  46,  79]])"
      ]
     },
     "execution_count": 5,
     "metadata": {},
     "output_type": "execute_result"
    }
   ],
   "source": [
    "FV\n"
   ]
  },
  {
   "cell_type": "markdown",
   "metadata": {},
   "source": [
    "QUESTA FUNZIONE MI PERMETTE DI DEFINIRE I VERTICI DEI TRIANGOLINI ALL'INTERNO DEL CERCHIO FIGURA 2 PAG 15"
   ]
  },
  {
   "cell_type": "code",
   "execution_count": 7,
   "metadata": {},
   "outputs": [
    {
     "data": {
      "text/plain": [
       "<pyplasm.xgepy.Hpc; proxy of <Swig Object of type 'std::shared_ptr< Hpc > *' at 0x00000000054C8CF0> >"
      ]
     },
     "execution_count": 7,
     "metadata": {},
     "output_type": "execute_result"
    }
   ],
   "source": [
    "from larlib import *; from random import random as rand\n",
    "points = [[2*PI*rand(),rand()] for k in range(1000)]\n",
    "V = [[SQRT(r)*COS(alpha),SQRT(r)*SIN(alpha)] for alpha,r in points]\n",
    "cells = [[k+1] for k,v in enumerate(V)]\n",
    "VIEW(MKPOL([V,cells,None]))\n",
    "from scipy.spatial import Delaunay\n",
    "FV = Delaunay(array(V)).vertices\n",
    "VIEW(EXPLODE(1.2,1.2,1)(MKPOLS((V,FV))))\n",
    "VIEW(SKELETON(1)(STRUCT(MKPOLS((V,FV)))))\n"
   ]
  },
  {
   "cell_type": "markdown",
   "metadata": {},
   "source": [
    "VIEW(EXPLODE(1.2,1.2,1)(MKPOLS((V,FV)))) I TRE VALORI SONO UTILIZZATI IN QUANTO IL VISUALIZZATORE (3D) HA BISOGNO DI QUEI VALORI PER DEFINIRE\n",
    "GLI SPAZI TRA I TRIANGOLONI"
   ]
  },
  {
   "cell_type": "markdown",
   "metadata": {},
   "source": [
    "VIEW(SKELETON(1)(STRUCT(MKPOLS((V,FV)))))\n",
    "QUALUNQUE FUNZIONE PER LA DEFINIZIONE DELLO SCHELETRO  HA BISOGNO DI UN SOLO ARGOMENTO\n",
    "PER FARLO USO STRUCT IN MODO DA COMPATTARE GLI ELEMENTI"
   ]
  },
  {
   "cell_type": "code",
   "execution_count": null,
   "metadata": {},
   "outputs": [],
   "source": []
  }
 ],
 "metadata": {
  "kernelspec": {
   "display_name": "Python 2",
   "language": "python",
   "name": "python2"
  },
  "language_info": {
   "codemirror_mode": {
    "name": "ipython",
    "version": 2
   },
   "file_extension": ".py",
   "mimetype": "text/x-python",
   "name": "python",
   "nbconvert_exporter": "python",
   "pygments_lexer": "ipython2",
   "version": "2.7.12"
  }
 },
 "nbformat": 4,
 "nbformat_minor": 2
}

{
 "cells": [
  {
   "cell_type": "markdown",
   "metadata": {},
   "source": [
    "# Spiegazione"
   ]
  },
  {
   "cell_type": "markdown",
   "metadata": {},
   "source": [
    "MAP([x,y]<---- funzioni geometrice)(Dom)\n",
    "x = lambda p : r + cos (p[0])  <---- funzione per mappare la funzione"
   ]
  },
  {
   "cell_type": "code",
   "execution_count": 2,
   "metadata": {},
   "outputs": [
    {
     "name": "stdout",
     "output_type": "stream",
     "text": [
      "Evaluating fenvs.py..\n",
      "...fenvs.py imported in 0.0221202415949 seconds\n"
     ]
    },
    {
     "name": "stderr",
     "output_type": "stream",
     "text": [
      "c:\\programmi\\python27\\lib\\site-packages\\larlib\\larstruct.py:233: FutureWarning: comparison to `None` will result in an elementwise object comparison in the future.\n",
      "  self.body = [item for item in data if item != None]\n"
     ]
    }
   ],
   "source": [
    "from larlib import *\n",
    "#from lista.py import *\n"
   ]
  },
  {
   "cell_type": "code",
   "execution_count": 40,
   "metadata": {},
   "outputs": [],
   "source": [
    "x = lambda p : cos(p[0])\n",
    "y = lambda p : sin(p[0])\n",
    "dom = INTERVALS(2*PI)(32)"
   ]
  },
  {
   "cell_type": "code",
   "execution_count": 41,
   "metadata": {},
   "outputs": [],
   "source": [
    "# 32 Rappresenta in quante parti voglio tagliarlo\n",
    "#Per fare un quarto di circonferenza scrivo PI/2"
   ]
  },
  {
   "cell_type": "code",
   "execution_count": 42,
   "metadata": {},
   "outputs": [
    {
     "data": {
      "text/plain": [
       "<pyplasm.xgepy.Hpc; proxy of <Swig Object of type 'std::shared_ptr< Hpc > *' at 0x0000000014D04900> >"
      ]
     },
     "execution_count": 42,
     "metadata": {},
     "output_type": "execute_result"
    }
   ],
   "source": [
    "MAP([x,y])(dom)"
   ]
  },
  {
   "cell_type": "code",
   "execution_count": 43,
   "metadata": {},
   "outputs": [
    {
     "data": {
      "text/plain": [
       "<pyplasm.xgepy.Hpc; proxy of <Swig Object of type 'std::shared_ptr< Hpc > *' at 0x0000000014D04DB0> >"
      ]
     },
     "execution_count": 43,
     "metadata": {},
     "output_type": "execute_result"
    }
   ],
   "source": [
    "VIEW(MAP([x,y])(dom))"
   ]
  },
  {
   "cell_type": "markdown",
   "metadata": {},
   "source": [
    "![2.1.PNG](files/Immagini/2.1.PNG)"
   ]
  },
  {
   "cell_type": "code",
   "execution_count": 44,
   "metadata": {},
   "outputs": [],
   "source": [
    "dom = T(1)(PI/4)(INTERVALS(PI/2)(32))"
   ]
  },
  {
   "cell_type": "code",
   "execution_count": 45,
   "metadata": {},
   "outputs": [
    {
     "data": {
      "text/plain": [
       "<pyplasm.xgepy.Hpc; proxy of <Swig Object of type 'std::shared_ptr< Hpc > *' at 0x0000000014D04C90> >"
      ]
     },
     "execution_count": 45,
     "metadata": {},
     "output_type": "execute_result"
    }
   ],
   "source": [
    "VIEW(MAP([x,y])(dom))"
   ]
  },
  {
   "cell_type": "markdown",
   "metadata": {},
   "source": [
    "![2.2.PNG](files/Immagini/2.2.PNG)"
   ]
  },
  {
   "cell_type": "code",
   "execution_count": null,
   "metadata": {},
   "outputs": [],
   "source": []
  },
  {
   "cell_type": "code",
   "execution_count": 46,
   "metadata": {},
   "outputs": [],
   "source": [
    "x = lambda (u,v) : v*cos(u)"
   ]
  },
  {
   "cell_type": "code",
   "execution_count": 47,
   "metadata": {},
   "outputs": [],
   "source": [
    "y = lambda (u,v) : v*sin(u)"
   ]
  },
  {
   "cell_type": "code",
   "execution_count": 48,
   "metadata": {},
   "outputs": [
    {
     "data": {
      "text/plain": [
       "<pyplasm.xgepy.Hpc; proxy of <Swig Object of type 'std::shared_ptr< Hpc > *' at 0x0000000014D04D80> >"
      ]
     },
     "execution_count": 48,
     "metadata": {},
     "output_type": "execute_result"
    }
   ],
   "source": [
    "dom = PROD([INTERVALS(2*PI)(32),INTERVALS(1)(32)])\n",
    "VIEW(MAP([x,y])(dom))"
   ]
  },
  {
   "cell_type": "markdown",
   "metadata": {},
   "source": [
    "![2.3.PNG](files/Immagini/2.3.PNG)"
   ]
  },
  {
   "cell_type": "code",
   "execution_count": 49,
   "metadata": {},
   "outputs": [
    {
     "data": {
      "text/plain": [
       "<pyplasm.xgepy.Hpc; proxy of <Swig Object of type 'std::shared_ptr< Hpc > *' at 0x0000000014D04EA0> >"
      ]
     },
     "execution_count": 49,
     "metadata": {},
     "output_type": "execute_result"
    }
   ],
   "source": [
    "dom = T(2)(0.5)(PROD([INTERVALS(2*PI)(32),INTERVALS(0.5)(32)]))\n",
    "VIEW(MAP([x,y])(dom))"
   ]
  },
  {
   "cell_type": "markdown",
   "metadata": {},
   "source": [
    "![2.4.PNG](files/Immagini/2.4.PNG)"
   ]
  },
  {
   "cell_type": "code",
   "execution_count": 50,
   "metadata": {},
   "outputs": [],
   "source": [
    "#Definiamo la funzione per l'anello"
   ]
  },
  {
   "cell_type": "code",
   "execution_count": 51,
   "metadata": {},
   "outputs": [],
   "source": [
    "def ring(r,R):\n",
    "    y = lambda (u,v): v*cos(u)\n",
    "    x = lambda (u,v): v*sin(u)\n",
    "    dom = T(2)(r)(PROD([INTERVALS(2*PI)(32),INTERVALS(R- r)(32)]))\n",
    "    return MAP ([x,y])(dom)"
   ]
  },
  {
   "cell_type": "code",
   "execution_count": 52,
   "metadata": {},
   "outputs": [
    {
     "data": {
      "text/plain": [
       "<pyplasm.xgepy.Hpc; proxy of <Swig Object of type 'std::shared_ptr< Hpc > *' at 0x0000000014D052D0> >"
      ]
     },
     "execution_count": 52,
     "metadata": {},
     "output_type": "execute_result"
    }
   ],
   "source": [
    "VIEW(ring(1,1.5))"
   ]
  },
  {
   "cell_type": "markdown",
   "metadata": {},
   "source": [
    "![2.5.PNG](files/Immagini/2.5.PNG)"
   ]
  },
  {
   "cell_type": "code",
   "execution_count": null,
   "metadata": {},
   "outputs": [],
   "source": []
  },
  {
   "cell_type": "code",
   "execution_count": 53,
   "metadata": {},
   "outputs": [],
   "source": [
    "#Spiegazione "
   ]
  },
  {
   "cell_type": "code",
   "execution_count": 54,
   "metadata": {},
   "outputs": [
    {
     "data": {
      "text/plain": [
       "<function pyplasm.fenvs.map_fn>"
      ]
     },
     "execution_count": 54,
     "metadata": {},
     "output_type": "execute_result"
    }
   ],
   "source": [
    "BEZIER(S1)([[0,0],[1,0],[0,1],[0,0]])"
   ]
  },
  {
   "cell_type": "code",
   "execution_count": 55,
   "metadata": {},
   "outputs": [
    {
     "data": {
      "text/plain": [
       "<pyplasm.xgepy.Hpc; proxy of <Swig Object of type 'std::shared_ptr< Hpc > *' at 0x0000000014D053C0> >"
      ]
     },
     "execution_count": 55,
     "metadata": {},
     "output_type": "execute_result"
    }
   ],
   "source": [
    "b = BEZIER(S1)([[0,0],[1,0],[0,1],[0,0]])\n",
    "VIEW(MAP(b)(INTERVALS(1)(32)))"
   ]
  },
  {
   "cell_type": "markdown",
   "metadata": {},
   "source": [
    "![2.6.PNG](files/Immagini/2.6.PNG)"
   ]
  },
  {
   "cell_type": "code",
   "execution_count": 56,
   "metadata": {},
   "outputs": [
    {
     "data": {
      "text/plain": [
       "<pyplasm.xgepy.Hpc; proxy of <Swig Object of type 'std::shared_ptr< Hpc > *' at 0x0000000014D055D0> >"
      ]
     },
     "execution_count": 56,
     "metadata": {},
     "output_type": "execute_result"
    }
   ],
   "source": [
    "b = BEZIER(S1)([[0,0],[1,0],[-10,-10],[0,1],[0,0]])\n",
    "VIEW(MAP(b)(INTERVALS(1)(32)))"
   ]
  },
  {
   "cell_type": "markdown",
   "metadata": {},
   "source": [
    "![2.7.PNG](files/Immagini/2.7.PNG)"
   ]
  },
  {
   "cell_type": "code",
   "execution_count": 57,
   "metadata": {},
   "outputs": [
    {
     "data": {
      "text/plain": [
       "<pyplasm.xgepy.Hpc; proxy of <Swig Object of type 'std::shared_ptr< Hpc > *' at 0x0000000014D05720> >"
      ]
     },
     "execution_count": 57,
     "metadata": {},
     "output_type": "execute_result"
    }
   ],
   "source": [
    "b = BEZIER(S1)([[0,0],[1,0],[-1,-1],[0,1],[0,0]])\n",
    "VIEW(MAP(b)(INTERVALS(1)(32)))"
   ]
  },
  {
   "cell_type": "markdown",
   "metadata": {},
   "source": [
    "![2.8.PNG](files/Immagini/2.8.PNG)"
   ]
  },
  {
   "cell_type": "code",
   "execution_count": 58,
   "metadata": {},
   "outputs": [
    {
     "data": {
      "text/plain": [
       "<pyplasm.xgepy.Hpc; proxy of <Swig Object of type 'std::shared_ptr< Hpc > *' at 0x0000000014D047B0> >"
      ]
     },
     "execution_count": 58,
     "metadata": {},
     "output_type": "execute_result"
    }
   ],
   "source": [
    "#Forma indefinita\n",
    "b1 = BEZIER(S1)([[0,0],[1,0],[-1,-1],[0,1],[0,0]])\n",
    "b2 = BEZIER(S1)([[0,0],[1,0],[-2,-2],[0,1],[0,0]])\n",
    "bb = BEZIER(S2)([b1,b2])\n",
    "#S1 e S2 sono definite di default\n",
    "dom = PROD([INTERVALS(1)(32),INTERVALS(1)(1)])\n",
    "VIEW(MAP(bb)(dom))\n",
    "VIEW(SKEL_1(MAP(bb)(dom)))"
   ]
  },
  {
   "cell_type": "markdown",
   "metadata": {},
   "source": [
    "![2.9.PNG](files/Immagini/2.9.PNG)\n",
    "![2.10.PNG](files/Immagini/2.10.PNG)"
   ]
  },
  {
   "cell_type": "code",
   "execution_count": 5,
   "metadata": {},
   "outputs": [],
   "source": [
    "dom = PROD([INTERVALS(1)(32),INTERVALS(1)(4)])"
   ]
  },
  {
   "cell_type": "code",
   "execution_count": 6,
   "metadata": {},
   "outputs": [
    {
     "data": {
      "text/plain": [
       "<pyplasm.xgepy.Hpc; proxy of <Swig Object of type 'std::shared_ptr< Hpc > *' at 0x00000000149C81B0> >"
      ]
     },
     "execution_count": 6,
     "metadata": {},
     "output_type": "execute_result"
    }
   ],
   "source": [
    "VIEW(SKEL_1(MAP(bb)(dom)))"
   ]
  },
  {
   "cell_type": "markdown",
   "metadata": {},
   "source": [
    "![2.11.PNG](files/Immagini/2.11.PNG)"
   ]
  },
  {
   "cell_type": "code",
   "execution_count": 7,
   "metadata": {},
   "outputs": [
    {
     "data": {
      "text/plain": [
       "<pyplasm.xgepy.Hpc; proxy of <Swig Object of type 'std::shared_ptr< Hpc > *' at 0x0000000004C21570> >"
      ]
     },
     "execution_count": 7,
     "metadata": {},
     "output_type": "execute_result"
    }
   ],
   "source": [
    "x = lambda (u,v) : 1.5 * cos(u)\n",
    "y = lambda (u,v) :1.5 * sin(u)\n",
    "b = BEZIER(S1)([[1,0.5],[1,1],[0.5,1]])\n",
    "bb =  BEZIER (S2)([b,CONS([x,y])])\n",
    "VIEW(SKEL_1(MAP(bb)(dom)))"
   ]
  },
  {
   "cell_type": "markdown",
   "metadata": {},
   "source": [
    "![2.12.PNG](files/Immagini/2.12.PNG)"
   ]
  },
  {
   "cell_type": "code",
   "execution_count": 8,
   "metadata": {},
   "outputs": [
    {
     "data": {
      "text/plain": [
       "<pyplasm.xgepy.Hpc; proxy of <Swig Object of type 'std::shared_ptr< Hpc > *' at 0x00000000149C8120> >"
      ]
     },
     "execution_count": 8,
     "metadata": {},
     "output_type": "execute_result"
    }
   ],
   "source": [
    "z = lambda (u,v):1\n",
    "b = BEZIER(S1)([[1,0.5,1],[1,1,2],[0.5,1,3]])\n",
    "bb = BEZIER(S2)([b,CONS([x,y,z])])\n",
    "VIEW(SKEL_1(MAP(bb)(dom)))"
   ]
  },
  {
   "cell_type": "markdown",
   "metadata": {},
   "source": [
    "![2.17.PNG](files/Immagini/2.17.PNG)"
   ]
  },
  {
   "cell_type": "code",
   "execution_count": 62,
   "metadata": {},
   "outputs": [
    {
     "data": {
      "text/plain": [
       "<pyplasm.xgepy.Hpc; proxy of <Swig Object of type 'std::shared_ptr< Hpc > *' at 0x0000000014D04330> >"
      ]
     },
     "execution_count": 62,
     "metadata": {},
     "output_type": "execute_result"
    }
   ],
   "source": [
    "x = lambda (u,v) : 1.5 * cos(u)\n",
    "y = lambda (u,v) :1.5 * sin(u)\n",
    "z =  lambda (u,v) :1\n",
    "b = BEZIER(S1)([[1,0.5,1],[1,1,2],[0.5,1,3]])\n",
    "bb =  BEZIER (S2)([b,CONS([x,y,z])])\n",
    "VIEW(SKEL_1(MAP(bb)(dom)))"
   ]
  },
  {
   "cell_type": "markdown",
   "metadata": {},
   "source": [
    "![2.13.PNG](files/Immagini/2.13.PNG)"
   ]
  },
  {
   "cell_type": "code",
   "execution_count": 63,
   "metadata": {
    "scrolled": true
   },
   "outputs": [],
   "source": [
    "x = lambda u : cos (u)\n",
    "y = lambda u : sin (u)\n",
    "z = lambda u : u\n",
    "#z = lambda [u] :  h*u/(2*PI)\n",
    "dom = INTERVALS(2*PI)(18)"
   ]
  },
  {
   "cell_type": "code",
   "execution_count": 64,
   "metadata": {},
   "outputs": [],
   "source": [
    "def spiral (r,h,n):\n",
    "    x = lambda (u, ) : r*cos (u)\n",
    "    y = lambda (u, ) : r*sin (u)\n",
    "    z = lambda (u, ) : h*u/(2*PI)\n",
    "    dom = INTERVALS(2*n*PI)(36*n)\n",
    "    return MAP(CONS([x,y,z]))(dom)"
   ]
  },
  {
   "cell_type": "code",
   "execution_count": 65,
   "metadata": {},
   "outputs": [],
   "source": [
    "#CONS serve per concatenare più elementi"
   ]
  },
  {
   "cell_type": "code",
   "execution_count": 66,
   "metadata": {},
   "outputs": [
    {
     "data": {
      "text/plain": [
       "<pyplasm.xgepy.Hpc; proxy of <Swig Object of type 'std::shared_ptr< Hpc > *' at 0x0000000014D078D0> >"
      ]
     },
     "execution_count": 66,
     "metadata": {},
     "output_type": "execute_result"
    }
   ],
   "source": [
    "VIEW(spiral(.5,.1,20))\n",
    "# 0.5 raggio 0.1 altezza tra le parti 20 numero di giri"
   ]
  },
  {
   "cell_type": "markdown",
   "metadata": {},
   "source": [
    "![2.14.PNG](files/Immagini/2.14.PNG)"
   ]
  },
  {
   "cell_type": "code",
   "execution_count": 67,
   "metadata": {},
   "outputs": [
    {
     "data": {
      "text/plain": [
       "<pyplasm.xgepy.Hpc; proxy of <Swig Object of type 'std::shared_ptr< Hpc > *' at 0x0000000014D003F0> >"
      ]
     },
     "execution_count": 67,
     "metadata": {},
     "output_type": "execute_result"
    }
   ],
   "source": [
    "def spiral(r,h):\n",
    "    x = lambda (u,v) : r*cos(u)\n",
    "    y = lambda (u,v) : r*sin(u)\n",
    "    z = lambda (u,v) : h*u/(2*PI)\n",
    "    return CONS([x,y,z])\n",
    "\n",
    "\n",
    "s1 = spiral(0.5,0.2)\n",
    "s2 = spiral(1,0.2)\n",
    "sup = BEZIER(S2)([s1,s2])\n",
    "\n",
    "dom =  lambda n :PROD([INTERVALS(2*n*PI)(36*n),INTERVALS(1)(1)])\n",
    "rampa = MAP(sup)(dom(10))\n",
    "VIEW(rampa)\n",
    "#Le linee sono dovuti dal fatto che abbiamo tutti rettangoli per la produzione della spirale"
   ]
  },
  {
   "cell_type": "markdown",
   "metadata": {},
   "source": [
    "![2.15.PNG](files/Immagini/2.15.PNG)"
   ]
  },
  {
   "cell_type": "code",
   "execution_count": 68,
   "metadata": {},
   "outputs": [],
   "source": [
    "###x = v*cos(u)"
   ]
  },
  {
   "cell_type": "raw",
   "metadata": {},
   "source": []
  },
  {
   "cell_type": "code",
   "execution_count": 69,
   "metadata": {},
   "outputs": [
    {
     "data": {
      "text/plain": [
       "<pyplasm.xgepy.Hpc; proxy of <Swig Object of type 'std::shared_ptr< Hpc > *' at 0x0000000014D05DE0> >"
      ]
     },
     "execution_count": 69,
     "metadata": {},
     "output_type": "execute_result"
    }
   ],
   "source": [
    "#Dominio suddiviso in tanti triangoli\n",
    "dom = larExtrude1(VOID, 200*[PI/10])\n",
    "dom = larExtrude1(dom,[1])\n",
    "hpc = MKPOL([dom[0],[[v1+1,v2+1,v3+1] for v1,v2,v3 in dom[1]],None])\n",
    "rampa = MAP(sup)(hpc)\n",
    "VIEW(rampa)\n",
    "\n"
   ]
  },
  {
   "cell_type": "markdown",
   "metadata": {},
   "source": [
    "![2.16.PNG](files/Immagini/2.16.PNG)"
   ]
  },
  {
   "cell_type": "code",
   "execution_count": 70,
   "metadata": {},
   "outputs": [],
   "source": [
    "#OFFSET ( Spostare un cubetto unitario)"
   ]
  },
  {
   "cell_type": "code",
   "execution_count": null,
   "metadata": {},
   "outputs": [],
   "source": []
  },
  {
   "cell_type": "code",
   "execution_count": null,
   "metadata": {},
   "outputs": [],
   "source": []
  }
 ],
 "metadata": {
  "kernelspec": {
   "display_name": "Python 2",
   "language": "python",
   "name": "python2"
  },
  "language_info": {
   "codemirror_mode": {
    "name": "ipython",
    "version": 2
   },
   "file_extension": ".py",
   "mimetype": "text/x-python",
   "name": "python",
   "nbconvert_exporter": "python",
   "pygments_lexer": "ipython2",
   "version": "2.7.12"
  }
 },
 "nbformat": 4,
 "nbformat_minor": 2
}

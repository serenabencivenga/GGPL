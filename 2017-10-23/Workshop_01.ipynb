{
 "cells": [
  {
   "cell_type": "markdown",
   "metadata": {},
   "source": [
    "# Workshop n ° 1\n",
    "Convert some Classic PlASM scripts from Chapter 1 and/or Chapter 2 of book Geometric Programming for Computer-Aided Design(GP4CAD)"
   ]
  },
  {
   "cell_type": "code",
   "execution_count": 5,
   "metadata": {},
   "outputs": [],
   "source": [
    "#Importo libreria larlib"
   ]
  },
  {
   "cell_type": "code",
   "execution_count": 6,
   "metadata": {},
   "outputs": [],
   "source": [
    "from larlib import *"
   ]
  },
  {
   "cell_type": "markdown",
   "metadata": {},
   "source": [
    "# Per iniziare"
   ]
  },
  {
   "cell_type": "raw",
   "metadata": {},
   "source": [
    "#Codice PLASM \n",
    "DEF mycube = CUBOID:<1,1,1> COLOR RED;\n",
    "mycybe;"
   ]
  },
  {
   "cell_type": "code",
   "execution_count": 7,
   "metadata": {},
   "outputs": [
    {
     "data": {
      "text/plain": [
       "<pyplasm.xgepy.Hpc; proxy of <Swig Object of type 'std::shared_ptr< Hpc > *' at 0x0000000014022E40> >"
      ]
     },
     "execution_count": 7,
     "metadata": {},
     "output_type": "execute_result"
    }
   ],
   "source": [
    "#PYPLASM \n",
    "Cubo2 = STRUCT([COLOR([0.9,0,0]),(CUBOID([1,1,1]))])\n",
    "VIEW(Cubo2)"
   ]
  },
  {
   "cell_type": "code",
   "execution_count": 8,
   "metadata": {},
   "outputs": [],
   "source": []
  },
  {
   "attachments": {},
   "cell_type": "markdown",
   "metadata": {},
   "source": [
    "![Script1.PNG](files/Immagini/Script1.PNG)"
   ]
  },
  {
   "cell_type": "markdown",
   "metadata": {},
   "source": [
    "# Script 1.5.3 (Table model)"
   ]
  },
  {
   "cell_type": "raw",
   "metadata": {},
   "source": [
    "#Plasm\n",
    "DEF Leg = CUBOID:< 0.1,0.1,0.7 >;\n",
    "DEF Plane = CUBOID:< 1, 1, 0.2>;\n",
    "DEF Table = STRUCT:<\n",
    "Leg, T:1:0.9, Leg, T:2:0.9, Leg, T:1:-0.9, Leg,\n",
    "T:<2,3>:<-0.9,0.7>, Plane >;\n",
    "DEF Table1 = STRUCT:<\n",
    "Leg, T:1:0.9:Leg, T:<1,2>:<0.9,0.9>:Leg, T:2:0.9:Leg,\n",
    "T:3:0.7:Plane >;\n",
    "VRML: Table:\u0001out.wrl\u0001;"
   ]
  },
  {
   "cell_type": "code",
   "execution_count": 9,
   "metadata": {},
   "outputs": [
    {
     "data": {
      "text/plain": [
       "<pyplasm.xgepy.Hpc; proxy of <Swig Object of type 'std::shared_ptr< Hpc > *' at 0x0000000014022F90> >"
      ]
     },
     "execution_count": 9,
     "metadata": {},
     "output_type": "execute_result"
    }
   ],
   "source": [
    "Leg = CUBOID([0.1,0.1,0.7])\n",
    "Plane = CUBOID([1,1,0.2])\n",
    "Table = STRUCT([Leg,T(1)(0.9),Leg, T(2)(0.9),Leg, T(1)(-0.9),Leg, T([2,3])([-0.9,0.7])(Plane)])\n",
    "Table1 = STRUCT([Leg,T(1)(0.9)(Leg),T([1,2])([0.9,0.9])(Leg),T(2)(0.9)(Leg),T(3)(0.7)(Plane)])\n",
    "VIEW(Table)\n",
    "VIEW(Table1)"
   ]
  },
  {
   "cell_type": "code",
   "execution_count": 10,
   "metadata": {},
   "outputs": [],
   "source": []
  },
  {
   "attachments": {},
   "cell_type": "markdown",
   "metadata": {},
   "source": [
    "![Script2.2.PNG](files/Immagini/Script2.2.PNG)"
   ]
  },
  {
   "attachments": {},
   "cell_type": "markdown",
   "metadata": {},
   "source": [
    "![Script2.PNG](files/Immagini/Script2.PNG)"
   ]
  },
  {
   "cell_type": "markdown",
   "metadata": {},
   "source": [
    "# Script 1.5.4 (1-skeleton)"
   ]
  },
  {
   "cell_type": "raw",
   "metadata": {},
   "source": [
    "# Plasm\n",
    "DEF out = @1:(CUBOID:<1,1,1> STRUCT SIMPLEX:3);\n",
    "VRML: out:\u0001out.wrl\u0001;"
   ]
  },
  {
   "cell_type": "code",
   "execution_count": 11,
   "metadata": {},
   "outputs": [
    {
     "data": {
      "text/plain": [
       "<pyplasm.xgepy.Hpc; proxy of <Swig Object of type 'std::shared_ptr< Hpc > *' at 0x0000000014022D80> >"
      ]
     },
     "execution_count": 11,
     "metadata": {},
     "output_type": "execute_result"
    }
   ],
   "source": [
    "Out = STRUCT([CUBOID([1,1,1]),SIMPLEX(3)])\n",
    "VIEW(SKELETON(1)(Out))"
   ]
  },
  {
   "cell_type": "code",
   "execution_count": 12,
   "metadata": {},
   "outputs": [],
   "source": []
  },
  {
   "attachments": {},
   "cell_type": "markdown",
   "metadata": {},
   "source": [
    "![Script3.PNG](files/Immagini/Script3.PNG)"
   ]
  },
  {
   "cell_type": "markdown",
   "metadata": {},
   "source": [
    "# Script 1.5.6 (Building facade)"
   ]
  },
  {
   "cell_type": "raw",
   "metadata": {},
   "source": [
    "#Plam\n",
    "DEF facade (n,m::IsIntPos) = STRUCT:<\n",
    "Q:xRithm * Q:yRithm,\n",
    "Q:xVoid * Q:yRithm,\n",
    "Q:xRithm * Q:yVoid ,\n",
    "@1:(Q:xVoid * Q:yVoid) >\n",
    "WHERE\n",
    "xRithm = ##:n:<5,-2,-5,-2> AR 5,\n",
    "yRithm = ##:m:<7,-5,-2> AR 7,\n",
    "xVoid = AA:-:xRithm,\n",
    "yVoid = AA:-:yRithm\n",
    "END; "
   ]
  },
  {
   "cell_type": "code",
   "execution_count": 13,
   "metadata": {},
   "outputs": [
    {
     "data": {
      "text/plain": [
       "<pyplasm.xgepy.Hpc; proxy of <Swig Object of type 'std::shared_ptr< Hpc > *' at 0x0000000014028240> >"
      ]
     },
     "execution_count": 13,
     "metadata": {},
     "output_type": "execute_result"
    }
   ],
   "source": [
    "def facede(n,m):\n",
    "    xRithm = [5,-2,-5,-2]*n\n",
    "    yRithm = [7,-5,-2]*m\n",
    "    xRithm.append(5)\n",
    "    yRithm.append(7)\n",
    "    xVoid=[-x for x in xRithm]\n",
    "    yVoid=[-y for y in yRithm]\n",
    "    return STRUCT([PROD([QUOTE(xRithm),QUOTE(yRithm)]),\n",
    "                   PROD([QUOTE(xVoid),QUOTE(yRithm)]),\n",
    "                   PROD([QUOTE(xRithm),QUOTE(yVoid)]),\n",
    "                   SKEL_1(PROD([QUOTE(xVoid),QUOTE(yVoid)]))])\n",
    "\n",
    "VIEW(facede(10,5))"
   ]
  },
  {
   "cell_type": "code",
   "execution_count": 14,
   "metadata": {},
   "outputs": [],
   "source": []
  },
  {
   "attachments": {},
   "cell_type": "markdown",
   "metadata": {},
   "source": [
    "![Script4.PNG](files/Immagini/Script4.PNG)"
   ]
  },
  {
   "cell_type": "markdown",
   "metadata": {},
   "source": [
    "# Script 1.5.1"
   ]
  },
  {
   "cell_type": "raw",
   "metadata": {},
   "source": [
    "#Plasm\n",
    "DEF L shape1 = MKPOL:< verts, cells, pols >\n",
    "WHERE\n",
    "verts = <<0,0>,<2,0>,<2,1>,<1,1>,<1,2>,<0,2>>,\n",
    "cells = <<1,2,3,4>,<4,5,6,1>>,\n",
    "pols = <<1>,<2>>\n",
    "END;\n",
    "DEF L shape2 = MKPOL:< verts, cells, pols >\n",
    "WHERE\n",
    "verts = <<0,0>,<2,0>,<2,1>,<1,1>,<1,2>,<0,2>>,\n",
    "cells = <<1,2,3,4>,<4,5,6,1>>,\n",
    "pols = <<1,2>>\n",
    "END;"
   ]
  },
  {
   "cell_type": "code",
   "execution_count": 15,
   "metadata": {},
   "outputs": [],
   "source": [
    "def L_shape1():\n",
    "    verts = [[0,0],[2,0],[2,1],[1,1],[1,2],[0,2]]\n",
    "    cells = [[1,2,3,4],[4,5,6,1]]\n",
    "    pols = [[1],[2]]\n",
    "    VIEW(MKPOL([verts,cells,pols]))\n",
    "    \n",
    "L_shape1()\n",
    "\n",
    "def L_shape2():\n",
    "    verts = [[0,0],[2,0],[2,1],[1,1],[1,2],[0,2]]\n",
    "    cells = [[1,2,3,4],[4,5,6,1]]\n",
    "    pols = [[1,2]]\n",
    "    VIEW(MKPOL([verts,cells,pols]))\n",
    "\n",
    "L_shape2()"
   ]
  },
  {
   "cell_type": "code",
   "execution_count": 16,
   "metadata": {},
   "outputs": [],
   "source": []
  },
  {
   "attachments": {},
   "cell_type": "markdown",
   "metadata": {},
   "source": [
    "![Script5.PNG](files/Immagini/Script5.PNG)"
   ]
  },
  {
   "attachments": {},
   "cell_type": "markdown",
   "metadata": {},
   "source": [
    "![Script5.1.PNG](files/Immagini/Script5.1.PNG)"
   ]
  },
  {
   "cell_type": "markdown",
   "metadata": {},
   "source": [
    "# Script 1.6.2 (Italy's Football Cup)"
   ]
  },
  {
   "cell_type": "raw",
   "metadata": {},
   "source": [
    "#Plasm\n",
    "DEF c1 = circle:1:<48,1> ACOLOR rgbacolor:<0,1,0,1>;\n",
    "DEF c2 = circle:0.7:<48,1> ACOLOR rgbacolor:<1,1,1,1>;\n",
    "DEF c3 = circle:0.4:<48,1> ACOLOR rgbacolor:<1,0,0,1>;\n",
    "DEF out = STRUCT:< c1, c2, c3 >;\n",
    "flash:out:100:\u0001/path/out.swf\u0001;"
   ]
  },
  {
   "cell_type": "code",
   "execution_count": 17,
   "metadata": {},
   "outputs": [
    {
     "data": {
      "text/plain": [
       "<pyplasm.xgepy.Hpc; proxy of <Swig Object of type 'std::shared_ptr< Hpc > *' at 0x0000000014028600> >"
      ]
     },
     "execution_count": 17,
     "metadata": {},
     "output_type": "execute_result"
    }
   ],
   "source": [
    "c1 = STRUCT([COLOR([0,1,0,1]),(CIRCLE(1)([48,1]))])\n",
    "c2 = STRUCT([COLOR([1,1,1,1]),(CIRCLE(0.7)([48,1]))])\n",
    "c3 = STRUCT([COLOR([1,0,0,1]),(CIRCLE(0.4)([48,1]))])\n",
    "out =STRUCT([c1,c2,c3])\n",
    "VIEW(out)"
   ]
  },
  {
   "cell_type": "code",
   "execution_count": 18,
   "metadata": {},
   "outputs": [],
   "source": []
  },
  {
   "attachments": {},
   "cell_type": "markdown",
   "metadata": {},
   "source": [
    "![Script6.PNG](files/Immagini/Script6.PNG)"
   ]
  },
  {
   "cell_type": "markdown",
   "metadata": {},
   "source": [
    "# Script 1.6.6"
   ]
  },
  {
   "cell_type": "raw",
   "metadata": {},
   "source": [
    "DEF Manhattan2D = MKPOL:< verts, cells, pols >\n",
    "WHERE\n",
    "verts = < <0,0>,<3,0>,<5,0>,<7,0>,<8,0>,<9.5,1>,<10,1.5>,<0,3>,<3,3>,<5,3>,\n",
    "<7,3>,<8,3>,<9.5,3>,<0,4>,<3,4>,<5,4>,<9.5,4>,<12,4>,<9.5,5>,<10,5>,\n",
    "<12,5>,<0,6>,<3,6>,<5,6>,<0,7>,<3,7>,<5,7>,<9.5,7>,<12,7>,<9.5,8>,\n",
    "<12,8>,<0,9>,<3,9>,<5,9>,<8,9>,<9,9>,<12,9>,<0,10>,<3,10>,<5,10>,\n",
    "<8,10>,<9,10>,<9.5,10>,<10,10>,<12,10>,<6,11>,<7,11>,<0,12>,<3,12>,<9,12>,\n",
    "<9.5,12>,<0,13>,<3,13>,<6,13>,<7,13>,<9,13>,<9.5,13>,<0,14>,<3,14>,<5,14>,\n",
    "<8,14>,<9,14>,<9.5,14>,<10,14>,<12,14>,<0,15>,<3,15>,<5,15>,<8,15>,<0,16>,\n",
    "<6,16>,<7,16>,<9,17>,<9.5,17>,<10,17>,<12,17>,<6,18>,<7,18>,<9,18>,<9.5,18>,\n",
    "<10,18>,<12,18>,<2,19>,<3,19>,<5,19>,<8,19>,<9,19>,<9.5,19>,<10,19>,<12,19>,\n",
    "<5,20>,<12,20>,<7,22>,<10,22>,<9,6>,<12,6>,<9,15>,<9.5,15>,<10,15>,<12,15> >,\n",
    "cells = < <1,2,9,8>,<3,4,11,10>,<5,6,13,12>,<14,15,23,22>, <16,17,19,24>,\n",
    "<7,18,21,20>,<25,26,33,32>,<27,95,28,35,34>,<95,96,29,28>, <30,31,37,36>,\n",
    "<38,39,49,48>,<40,41,47,46>,<41,61,55,47>,<55,61,60,54>, <54,60,40,46>,\n",
    "<42,43,51,50>,<44,45,65,64>,<52,53,59,58>,<56,57,63,62>, <66,67,84,83,70>,\n",
    "<68,69,72,71>,<69,86,78,72>,<78,86,85,77>,<71,77,85,68>, <97,98,74,73>,\n",
    "<99,100,76,75>,<79,80,88,87>,<81,82,90,89>, <91,92,94,93> >,\n",
    "pols = AA:LIST:(1..29)\n",
    "END;\n"
   ]
  },
  {
   "cell_type": "code",
   "execution_count": 19,
   "metadata": {},
   "outputs": [
    {
     "data": {
      "text/plain": [
       "<pyplasm.xgepy.Hpc; proxy of <Swig Object of type 'std::shared_ptr< Hpc > *' at 0x000000001414AED0> >"
      ]
     },
     "execution_count": 19,
     "metadata": {},
     "output_type": "execute_result"
    }
   ],
   "source": [
    "def Manhattan2D ():\n",
    "    verts = [ [0,0],[3,0],[5,0],[7,0],[8,0],[9.5,1],[10,1.5],[0,3],[3,3],[5,3],\n",
    "    [7,3],[8,3],[9.5,3],[0,4],[3,4],[5,4],[9.5,4],[12,4],[9.5,5],[10,5],\n",
    "    [12,5],[0,6],[3,6],[5,6],[0,7],[3,7],[5,7],[9.5,7],[12,7],[9.5,8],\n",
    "    [12,8],[0,9],[3,9],[5,9],[8,9],[9,9],[12,9],[0,10],[3,10],[5,10],\n",
    "    [8,10],[9,10],[9.5,10],[10,10],[12,10],[6,11],[7,11],[0,12],[3,12],[9,12],\n",
    "    [9.5,12],[0,13],[3,13],[6,13],[7,13],[9,13],[9.5,13],[0,14],[3,14],[5,14],\n",
    "    [8,14],[9,14],[9.5,14],[10,14],[12,14],[0,15],[3,15],[5,15],[8,15],[0,16],\n",
    "    [6,16],[7,16],[9,17],[9.5,17],[10,17],[12,17],[6,18],[7,18],[9,18],[9.5,18],\n",
    "    [10,18],[12,18],[2,19],[3,19],[5,19],[8,19],[9,19],[9.5,19],[10,19],[12,19],\n",
    "    [5,20],[12,20],[7,22],[10,22],[9,6],[12,6],[9,15],[9.5,15],[10,15],[12,15] ]\n",
    "    cells = [ [1,2,9,8],[3,4,11,10],[5,6,13,12],[14,15,23,22], [16,17,19,24],\n",
    "    [7,18,21,20],[25,26,33,32],[27,95,28,35,34],[95,96,29,28], [30,31,37,36],\n",
    "    [38,39,49,48],[40,41,47,46],[41,61,55,47],[55,61,60,54], [54,60,40,46],\n",
    "    [42,43,51,50],[44,45,65,64],[52,53,59,58],[56,57,63,62], [66,67,84,83,70],\n",
    "    [68,69,72,71],[69,86,78,72],[78,86,85,77],[71,77,85,68], [97,98,74,73],\n",
    "    [99,100,76,75],[79,80,88,87],[81,82,90,89], [91,92,94,93] ]\n",
    "    li = []\n",
    "    pols =(AA)(LIST)(li[1:29])\n",
    "    return MKPOL([verts,cells,pols])\n",
    "VIEW(Manhattan2D())"
   ]
  },
  {
   "cell_type": "code",
   "execution_count": 20,
   "metadata": {},
   "outputs": [],
   "source": []
  },
  {
   "attachments": {},
   "cell_type": "markdown",
   "metadata": {},
   "source": [
    "![Script7.PNG](files/Immagini/Script7.PNG)"
   ]
  },
  {
   "cell_type": "markdown",
   "metadata": {},
   "source": [
    "# Script 1.5.9 (Boolean example) "
   ]
  },
  {
   "cell_type": "raw",
   "metadata": {},
   "source": [
    "#Plasm\n",
    "DEF a = T:<1,2>:<-0.5,-0.5>:(CUBOID:<1,1,1>);\n",
    "DEF b = R:<1,2>:(PI/4):a;\n",
    "STRUCT:< a + b, T:1:2, a & b, T:1:2, a ∧ b, T:1:2, a - b >;"
   ]
  },
  {
   "cell_type": "code",
   "execution_count": 21,
   "metadata": {},
   "outputs": [
    {
     "data": {
      "text/plain": [
       "<pyplasm.xgepy.Hpc; proxy of <Swig Object of type 'std::shared_ptr< Hpc > *' at 0x000000001420F990> >"
      ]
     },
     "execution_count": 21,
     "metadata": {},
     "output_type": "execute_result"
    }
   ],
   "source": [
    "a = T([1,2])([-0.5,-0.5])(CUBOID([1,1,1]))\n",
    "b = R([1,2])(PI/4)(a)\n",
    "final=STRUCT([UNION([a,b]),T(1)(2),INTERSECTION([a,b]),T(1)(2),XOR([a,b]), T(1)(2), DIFFERENCE([a,b])])\n",
    "VIEW(final)"
   ]
  },
  {
   "cell_type": "code",
   "execution_count": null,
   "metadata": {},
   "outputs": [],
   "source": []
  },
  {
   "attachments": {},
   "cell_type": "markdown",
   "metadata": {},
   "source": [
    "![Script8.PNG](files/Immagini/Script8.PNG)"
   ]
  },
  {
   "cell_type": "markdown",
   "metadata": {},
   "source": [
    "# Script 1.6.3 (Assembly of colored cubes)"
   ]
  },
  {
   "cell_type": "raw",
   "metadata": {},
   "source": [
    "#Plasm\n",
    "DEF cube = CUBOID:<1,1,1>;\n",
    "DEF cube1 = cube COLOR CYAN;\n",
    "DEF cube2 = cube COLOR MAGENTA;\n",
    "DEF cube3 = cube COLOR YELLOW;\n",
    "DEF basis = (EMBED:1 ∼ CUBOID):<3,3>;\n",
    "DEF assembly = cube1 TOP cube2 TOP cube3;\n",
    "DEF out = basis TOP assembly;\n",
    "\n",
    "\n",
    "VRML:out:'out.wrl'; \n",
    "VRML:(@1:out):''out.wrl'';\n",
    "DEF out = basis TOP @1:assembly;\n",
    "VRML:out:'out.wrl'; \n",
    "DEF out = basis TOP ((SWEEP:< 0.2, 0.2, 0.2 > ~ @1):assembly COLOR RED);\n",
    "VRML:out:'out.wrl';\n",
    "DEF out = basis TOP ((OFFSET:< 0.1, 0.1, 0.1 > ~ @1):assembly COLOR RED); \n",
    "VRML:out:'out.wrl'; \n",
    "DEF out = basis TOP\n",
    "    ((STRUCT ~ [ID, OFFSET:< 0.1, 0.1, 0.1 > ~ @1]):assembly COLOR RED);\n",
    "VRML:out:'out.wrl';"
   ]
  },
  {
   "cell_type": "code",
   "execution_count": 1,
   "metadata": {},
   "outputs": [
    {
     "ename": "NameError",
     "evalue": "name 'CUBOID' is not defined",
     "output_type": "error",
     "traceback": [
      "\u001b[1;31m---------------------------------------------------------------------------\u001b[0m",
      "\u001b[1;31mNameError\u001b[0m                                 Traceback (most recent call last)",
      "\u001b[1;32m<ipython-input-1-1a7927540363>\u001b[0m in \u001b[0;36m<module>\u001b[1;34m()\u001b[0m\n\u001b[1;32m----> 1\u001b[1;33m \u001b[0mcube\u001b[0m \u001b[1;33m=\u001b[0m \u001b[0mCUBOID\u001b[0m\u001b[1;33m(\u001b[0m\u001b[1;33m[\u001b[0m\u001b[1;36m1\u001b[0m\u001b[1;33m,\u001b[0m\u001b[1;36m1\u001b[0m\u001b[1;33m,\u001b[0m\u001b[1;36m1\u001b[0m\u001b[1;33m]\u001b[0m\u001b[1;33m)\u001b[0m\u001b[1;33m\u001b[0m\u001b[0m\n\u001b[0m\u001b[0;32m      2\u001b[0m \u001b[0mcube1\u001b[0m \u001b[1;33m=\u001b[0m\u001b[0mCOLOR\u001b[0m\u001b[1;33m(\u001b[0m\u001b[0mCYAN\u001b[0m\u001b[1;33m)\u001b[0m\u001b[1;33m(\u001b[0m\u001b[0mcube\u001b[0m\u001b[1;33m)\u001b[0m\u001b[1;33m\u001b[0m\u001b[0m\n\u001b[0;32m      3\u001b[0m \u001b[0mcube2\u001b[0m \u001b[1;33m=\u001b[0m\u001b[0mCOLOR\u001b[0m\u001b[1;33m(\u001b[0m\u001b[0mMAGENTA\u001b[0m\u001b[1;33m)\u001b[0m\u001b[1;33m(\u001b[0m\u001b[0mcube\u001b[0m\u001b[1;33m)\u001b[0m\u001b[1;33m\u001b[0m\u001b[0m\n\u001b[0;32m      4\u001b[0m \u001b[0mcube3\u001b[0m \u001b[1;33m=\u001b[0m\u001b[0mCOLOR\u001b[0m\u001b[1;33m(\u001b[0m\u001b[0mYELLOW\u001b[0m\u001b[1;33m)\u001b[0m\u001b[1;33m(\u001b[0m\u001b[0mcube\u001b[0m\u001b[1;33m)\u001b[0m\u001b[1;33m\u001b[0m\u001b[0m\n\u001b[0;32m      5\u001b[0m \u001b[0mbasis\u001b[0m \u001b[1;33m=\u001b[0m \u001b[0mSTRUCT\u001b[0m\u001b[1;33m(\u001b[0m\u001b[1;33m[\u001b[0m\u001b[0mEMBED\u001b[0m\u001b[1;33m(\u001b[0m\u001b[1;36m1\u001b[0m\u001b[1;33m)\u001b[0m\u001b[1;33m,\u001b[0m\u001b[0mCUBOID\u001b[0m\u001b[1;33m(\u001b[0m\u001b[1;33m[\u001b[0m\u001b[1;36m3\u001b[0m\u001b[1;33m,\u001b[0m\u001b[1;36m3\u001b[0m\u001b[1;33m]\u001b[0m\u001b[1;33m)\u001b[0m\u001b[1;33m]\u001b[0m\u001b[1;33m)\u001b[0m\u001b[1;33m\u001b[0m\u001b[0m\n",
      "\u001b[1;31mNameError\u001b[0m: name 'CUBOID' is not defined"
     ]
    }
   ],
   "source": [
    "cube = CUBOID([1,1,1])\n",
    "cube1 =COLOR(CYAN)(cube)\n",
    "cube2 =COLOR(MAGENTA)(cube)\n",
    "cube3 =COLOR(YELLOW)(cube)\n",
    "basis = STRUCT([EMBED(1),CUBOID([3,3])])\n",
    "assembly = TOP([TOP([cube1,cube2]),cube3])\n",
    "out = TOP([basis,assembly])\n",
    "\n",
    "VIEW(out)\n",
    "VIEW(SKEL_1(out))\n",
    "out=TOP([basis,SKEL_1(assembly)])\n",
    "VIEW(out)\n",
    "out =TOP([basis,COLOR(RED)(SWEEP([0.2,0.2,0.2])(SKEL_1(assembly)))])\n",
    "VIEW(out)\n",
    "out = TOP([basis,COLOR(RED)(OFFSET([0.1,0.1,0.1])(SKEL_1(assembly)))])\n",
    "VIEW(out)\n",
    "out = TOP([basis,STRUCT([COLOR(RED)(OFFSET([0.1,0.1,0.1])(SKEL_1(assembly))),assembly])])\n",
    "VIEW(out)"
   ]
  },
  {
   "cell_type": "code",
   "execution_count": 24,
   "metadata": {},
   "outputs": [],
   "source": []
  },
  {
   "attachments": {},
   "cell_type": "markdown",
   "metadata": {},
   "source": [
    "![Script9.PNG](files/Immagini/Script9.PNG)"
   ]
  },
  {
   "attachments": {},
   "cell_type": "markdown",
   "metadata": {},
   "source": [
    "![Script%209.1.PNG](files/Immagini/Script%209.1.PNG)"
   ]
  },
  {
   "attachments": {},
   "cell_type": "markdown",
   "metadata": {},
   "source": [
    "![Script%209.2.PNG](files/Immagini/Script%209.2.PNG)"
   ]
  },
  {
   "attachments": {},
   "cell_type": "markdown",
   "metadata": {},
   "source": [
    "![Script%209.3.PNG](files/Immagini/Script%209.3.PNG)"
   ]
  },
  {
   "attachments": {},
   "cell_type": "markdown",
   "metadata": {},
   "source": [
    "![Script%209.4.PNG](files/Immagini/Script%209.4.PNG)"
   ]
  },
  {
   "attachments": {},
   "cell_type": "markdown",
   "metadata": {},
   "source": [
    "![Script%209.5.PNG](files/Immagini/Script%209.5.PNG)"
   ]
  },
  {
   "cell_type": "code",
   "execution_count": null,
   "metadata": {},
   "outputs": [],
   "source": []
  }
 ],
 "metadata": {
  "kernelspec": {
   "display_name": "Python 2",
   "language": "python",
   "name": "python2"
  },
  "language_info": {
   "codemirror_mode": {
    "name": "ipython",
    "version": 2
   },
   "file_extension": ".py",
   "mimetype": "text/x-python",
   "name": "python",
   "nbconvert_exporter": "python",
   "pygments_lexer": "ipython2",
   "version": "2.7.12"
  }
 },
 "nbformat": 4,
 "nbformat_minor": 2
}

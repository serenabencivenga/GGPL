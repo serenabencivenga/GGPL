{
 "cells": [
  {
   "cell_type": "code",
   "execution_count": 5,
   "metadata": {},
   "outputs": [],
   "source": [
    "from larlib import *"
   ]
  },
  {
   "cell_type": "code",
   "execution_count": 6,
   "metadata": {},
   "outputs": [
    {
     "name": "stdout",
     "output_type": "stream",
     "text": [
      "\n",
      "csrCreate(FV) =\n",
      "  (0, 0)\t1\n",
      "  (0, 1)\t1\n",
      "  (0, 3)\t1\n",
      "  (1, 1)\t1\n",
      "  (1, 2)\t1\n",
      "  (1, 4)\t1\n",
      "  (2, 1)\t1\n",
      "  (2, 3)\t1\n",
      "  (2, 4)\t1\n",
      "  (3, 2)\t1\n",
      "  (3, 4)\t1\n",
      "  (3, 5)\t1\n",
      "\n",
      ">>> csr2DenseMatrix\n",
      "\n",
      "FV = \n",
      "[[1 1 0 1 0 0]\n",
      " [0 1 1 0 1 0]\n",
      " [0 1 0 1 1 0]\n",
      " [0 0 1 0 1 1]]\n",
      "\n",
      "EV = \n",
      "[[1 1 0 0 0 0]\n",
      " [1 0 0 1 0 0]\n",
      " [0 1 1 0 0 0]\n",
      " [0 1 0 1 0 0]\n",
      " [0 1 0 0 1 0]\n",
      " [0 0 1 0 1 0]\n",
      " [0 0 1 0 0 1]\n",
      " [0 0 0 1 1 0]\n",
      " [0 0 0 0 1 1]]\n"
     ]
    }
   ],
   "source": [
    "V = [[0,0],[1,0],[2,0],[0,1],[1,1],[2,1]]\n",
    "FV = [[0, 1, 3], [1, 2, 4],[1, 3, 4], [2, 4, 5]]\n",
    "EV = [[0,1],[0,3],[1,2],[1,3],[1,4],[2,4],[2,5],[3,4],[4,5]]\n",
    "VIEW(STRUCT(MKPOLS((V,FV))))\n",
    "VIEW(EXPLODE(1.2,1.2,1)(MKPOLS((V,FV))))\n",
    "VIEW(STRUCT(MKPOLS((V,EV))))\n",
    "VIEW(EXPLODE(1.2,1.2,1)(MKPOLS((V,EV))))\n",
    "\n",
    "csrFV = csrCreate(FV)\n",
    "csrEV = csrCreate(EV)\n",
    "\n",
    "print \"\\ncsrCreate(FV) =\\n\", csrFV\n",
    "print \"\\n>>> csr2DenseMatrix\"\n",
    "print \"\\nFV = \\n\", csr2DenseMatrix(csrFV)\n",
    "print \"\\nEV = \\n\", csr2DenseMatrix(csrEV)"
   ]
  },
  {
   "cell_type": "markdown",
   "metadata": {},
   "source": [
    "![1.PNG](files/Immagini/1.PNG)\n",
    "![2.PNG](files/Immagini/2.PNG)\n",
    "![3.PNG](files/Immagini/3.PNG)\n",
    "![4.PNG](files/Immagini/4.PNG)"
   ]
  },
  {
   "cell_type": "code",
   "execution_count": 7,
   "metadata": {},
   "outputs": [],
   "source": [
    "def larSimplexFacets(simplices):\n",
    "    out = []\n",
    "    d = len(simplices[0])\n",
    "    for simplex in simplices:\n",
    "        out += [simplex[0:k]+ simplex[k+1:d]\n",
    "               for k in range(d)]\n",
    "        out = sorted(out)\n",
    "        return[facet for k, facet in enumerate(out[:-1])\n",
    "              if out[k] != out[k+1]] + [out[-1]]"
   ]
  },
  {
   "cell_type": "code",
   "execution_count": 8,
   "metadata": {},
   "outputs": [
    {
     "data": {
      "text/plain": [
       "[[]]"
      ]
     },
     "execution_count": 8,
     "metadata": {},
     "output_type": "execute_result"
    }
   ],
   "source": [
    "larSimplexFacets([[0]])"
   ]
  },
  {
   "cell_type": "code",
   "execution_count": 9,
   "metadata": {},
   "outputs": [
    {
     "data": {
      "text/plain": [
       "[[0], [1]]"
      ]
     },
     "execution_count": 9,
     "metadata": {},
     "output_type": "execute_result"
    }
   ],
   "source": [
    "larSimplexFacets([[0,1]])"
   ]
  },
  {
   "cell_type": "code",
   "execution_count": 10,
   "metadata": {},
   "outputs": [
    {
     "data": {
      "text/plain": [
       "[[0, 1], [0, 2], [1, 2]]"
      ]
     },
     "execution_count": 10,
     "metadata": {},
     "output_type": "execute_result"
    }
   ],
   "source": [
    "larSimplexFacets([[0,1,2]])"
   ]
  },
  {
   "cell_type": "code",
   "execution_count": 11,
   "metadata": {},
   "outputs": [
    {
     "data": {
      "text/plain": [
       "[[0, 1, 2], [0, 1, 3], [0, 2, 3], [1, 2, 3]]"
      ]
     },
     "execution_count": 11,
     "metadata": {},
     "output_type": "execute_result"
    }
   ],
   "source": [
    "larSimplexFacets([[0,1,2,3]])"
   ]
  },
  {
   "cell_type": "code",
   "execution_count": 12,
   "metadata": {},
   "outputs": [
    {
     "data": {
      "text/plain": [
       "[[0, 1, 2, 3], [0, 1, 2, 4], [0, 1, 3, 4], [0, 2, 3, 4], [1, 2, 3, 4]]"
      ]
     },
     "execution_count": 12,
     "metadata": {},
     "output_type": "execute_result"
    }
   ],
   "source": [
    "larSimplexFacets([[0,1,2,3,4]])"
   ]
  },
  {
   "cell_type": "code",
   "execution_count": 13,
   "metadata": {},
   "outputs": [],
   "source": [
    "V, CV = larSimplexGrid1([1,1,1])\n",
    "VIEW(EXPLODE(1.5,1.5,1.5)(MKPOLS((V,CV))))\n",
    "SK2 = (V,larSimplexFacets(CV))\n",
    "VIEW(EXPLODE(1.5,1.5,1.5)(MKPOLS(SK2)))\n",
    "SK1 = (V,larSimplexFacets(SK2[1]))\n",
    "VIEW(EXPLODE(1.5,1.5,1.5)(MKPOLS(SK1)))\n",
    "\n",
    "V,CV = larSimplexGrid1([5,5,2])"
   ]
  },
  {
   "cell_type": "markdown",
   "metadata": {},
   "source": [
    "![5.PNG](files/Immagini/5.PNG)\n",
    "![6.PNG](files/Immagini/6.PNG)\n",
    "![7.PNG](files/Immagini/7.PNG)"
   ]
  },
  {
   "cell_type": "code",
   "execution_count": 14,
   "metadata": {},
   "outputs": [],
   "source": [
    "def boundary(cells,facets):\n",
    "    csrCV = csrCreate(cells)\n",
    "    csrFV = csrCreate(facets)\n",
    "    csrFC = matrixProduct(csrFV,csrTranspose(csrCV))\n",
    "    facetLenghts = [csrCell.getnnz() for csrCell in csrCV]\n",
    "    return csrBoundaryFilter(csrFC,facetLengths)\n",
    "\n",
    "def coboundary(cells,facets):\n",
    "    Boundary = boundary(cells,facets)\n",
    "    return csrTranspose(Boundary)"
   ]
  },
  {
   "cell_type": "code",
   "execution_count": 22,
   "metadata": {},
   "outputs": [
    {
     "ename": "NameError",
     "evalue": "name 'boundaryCells_2' is not defined",
     "output_type": "error",
     "traceback": [
      "\u001b[1;31m---------------------------------------------------------------------------\u001b[0m",
      "\u001b[1;31mNameError\u001b[0m                                 Traceback (most recent call last)",
      "\u001b[1;32m<ipython-input-22-b291b5bf5867>\u001b[0m in \u001b[0;36m<module>\u001b[1;34m()\u001b[0m\n\u001b[0;32m      9\u001b[0m \u001b[1;32mdef\u001b[0m \u001b[0mswap\u001b[0m\u001b[1;33m(\u001b[0m\u001b[0ml\u001b[0m\u001b[1;33m)\u001b[0m\u001b[1;33m:\u001b[0m\u001b[1;33m\u001b[0m\u001b[0m\n\u001b[0;32m     10\u001b[0m     \u001b[1;32mreturn\u001b[0m \u001b[1;33m[\u001b[0m\u001b[0ml\u001b[0m\u001b[1;33m[\u001b[0m\u001b[1;36m1\u001b[0m\u001b[1;33m]\u001b[0m\u001b[1;33m,\u001b[0m\u001b[0ml\u001b[0m\u001b[1;33m[\u001b[0m\u001b[1;36m0\u001b[0m\u001b[1;33m]\u001b[0m\u001b[1;33m,\u001b[0m\u001b[0ml\u001b[0m\u001b[1;33m[\u001b[0m\u001b[1;36m2\u001b[0m\u001b[1;33m]\u001b[0m\u001b[1;33m]\u001b[0m\u001b[1;33m\u001b[0m\u001b[0m\n\u001b[1;32m---> 11\u001b[1;33m \u001b[0mboundaryFV\u001b[0m \u001b[1;33m=\u001b[0m \u001b[1;33m[\u001b[0m\u001b[0mFV\u001b[0m\u001b[1;33m[\u001b[0m\u001b[1;33m-\u001b[0m\u001b[0mk\u001b[0m\u001b[1;33m]\u001b[0m \u001b[1;32mif\u001b[0m \u001b[0mk\u001b[0m\u001b[1;33m<\u001b[0m\u001b[1;36m0\u001b[0m \u001b[1;32melse\u001b[0m \u001b[0mswap\u001b[0m\u001b[1;33m(\u001b[0m\u001b[0mFV\u001b[0m\u001b[1;33m[\u001b[0m\u001b[0mk\u001b[0m\u001b[1;33m]\u001b[0m\u001b[1;33m)\u001b[0m\u001b[1;32mfor\u001b[0m \u001b[0mk\u001b[0m \u001b[1;32min\u001b[0m \u001b[0mboundaryCells_2\u001b[0m\u001b[1;33m]\u001b[0m\u001b[1;33m\u001b[0m\u001b[0m\n\u001b[0m\u001b[0;32m     12\u001b[0m \u001b[0mboundary\u001b[0m \u001b[1;33m=\u001b[0m \u001b[1;33m(\u001b[0m\u001b[0mV\u001b[0m\u001b[1;33m.\u001b[0m\u001b[0mboundaryFV\u001b[0m\u001b[1;33m)\u001b[0m\u001b[1;33m\u001b[0m\u001b[0m\n\u001b[0;32m     13\u001b[0m \u001b[0mVIEW\u001b[0m\u001b[1;33m(\u001b[0m\u001b[0mEXPLODE\u001b[0m\u001b[1;33m(\u001b[0m\u001b[1;36m1.5\u001b[0m\u001b[1;33m,\u001b[0m\u001b[1;36m1.5\u001b[0m\u001b[1;33m,\u001b[0m\u001b[1;36m1.5\u001b[0m\u001b[1;33m)\u001b[0m\u001b[1;33m(\u001b[0m\u001b[0mMKPOLS\u001b[0m\u001b[1;33m(\u001b[0m\u001b[0mboundary\u001b[0m\u001b[1;33m)\u001b[0m\u001b[1;33m)\u001b[0m\u001b[1;33m)\u001b[0m\u001b[1;33m\u001b[0m\u001b[0m\n",
      "\u001b[1;31mNameError\u001b[0m: name 'boundaryCells_2' is not defined"
     ]
    }
   ],
   "source": [
    "V,CV = larSimplexGrid1([4,4,4])\n",
    "VIEW(EXPLODE(1.5,1.5,1.5)(MKPOLS((V,CV))))\n",
    "\n",
    "FV = larSimplexFacets(CV)\n",
    "EV = larSimplexFacets(FV)\n",
    "VIEW(EXPLODE(1.5,1.5,1.5)(MKPOLS((V,FV))))\n",
    "csrSignedBoundaryMat = signedBoundary (V,CV,FV)\n",
    "boundaryCells_2 = signedBoundaryCells(V,CV,FV)\n",
    "def swap(l):\n",
    "    return [l[1],l[0],l[2]]\n",
    "\n",
    "boundaryFV = [FV[-k] if k<0 else swap(FV[k])for k in boundaryCells_2]\n",
    "boundary = (V.boundaryFV)\n",
    "VIEW(EXPLODE(1.5,1.5,1.5)(MKPOLS(boundary)))"
   ]
  },
  {
   "cell_type": "markdown",
   "metadata": {},
   "source": [
    "![8.PNG](files/Immagini/8.PNG)"
   ]
  },
  {
   "cell_type": "markdown",
   "metadata": {},
   "source": [
    "![9.PNG](files/Immagini/9.PNG)"
   ]
  },
  {
   "cell_type": "code",
   "execution_count": 16,
   "metadata": {},
   "outputs": [
    {
     "data": {
      "text/plain": [
       "<pyplasm.xgepy.Hpc; proxy of <Swig Object of type 'std::shared_ptr< Hpc > *' at 0x0000000014451B10> >"
      ]
     },
     "execution_count": 16,
     "metadata": {},
     "output_type": "execute_result"
    }
   ],
   "source": [
    "V = [[0,0],[1,0],[2,0],[0,1],[1,1],[2,1],[0,2],[1,2],[2,2]]\n",
    "FV = [[0,1,3],[1,2,4],[2,4,5],[3,4,6],[4,6,7],[5,7,8]]\n",
    "model = larExtrude1((V,FV),4*[1,2,-3])\n",
    "VIEW(EXPLODE(1,1,1.2)(MKPOLS(model)))"
   ]
  },
  {
   "cell_type": "markdown",
   "metadata": {},
   "source": [
    "![10.PNG](files/Immagini/10.PNG)"
   ]
  },
  {
   "cell_type": "code",
   "execution_count": 17,
   "metadata": {},
   "outputs": [],
   "source": [
    "VOID = V0,CV0 = [[]],[[0]]\n",
    "\n",
    "def larSimplexGrid1(shape):\n",
    "    model = VOID\n",
    "    for item in shape:\n",
    "        model = larExtrude1(model,item*[1])\n",
    "    return model"
   ]
  },
  {
   "cell_type": "code",
   "execution_count": 18,
   "metadata": {},
   "outputs": [
    {
     "data": {
      "text/plain": [
       "<pyplasm.xgepy.Hpc; proxy of <Swig Object of type 'std::shared_ptr< Hpc > *' at 0x0000000014451B40> >"
      ]
     },
     "execution_count": 18,
     "metadata": {},
     "output_type": "execute_result"
    }
   ],
   "source": [
    "VIEW(EXPLODE(1.5,1.5,1.5)(MKPOLS(larCuboids([3,2,1]))))\n",
    "VIEW(EXPLODE(1.5,1.5,1.5)(MKPOLS(larCuboids([3,2,1]))))\n"
   ]
  },
  {
   "cell_type": "markdown",
   "metadata": {},
   "source": [
    "![11.PNG](files/Immagini/11.PNG)\n",
    "![12.PNG](files/Immagini/12.PNG)"
   ]
  },
  {
   "cell_type": "code",
   "execution_count": 19,
   "metadata": {},
   "outputs": [],
   "source": [
    "def gridSkeletons(shape):\n",
    "    gridMap = larGridSkeleton(shape)\n",
    "    skeletonIds = range ( len(shape)+1)\n",
    "    skeletons = [ gridMap(id) for id in skeletonIds]\n",
    "    return skeletons"
   ]
  },
  {
   "cell_type": "code",
   "execution_count": 20,
   "metadata": {},
   "outputs": [
    {
     "name": "stdout",
     "output_type": "stream",
     "text": [
      "\n",
      "gridSkeletons([3]) = \n",
      "[[[0], [1], [2], [3]], [[0, 1], [1, 2], [2, 3]]]\n",
      "\n",
      "gridSkeletons([3,2]) = \n",
      "[[[0], [1], [2], [3], [4], [5], [6], [7], [8], [9], [10], [11]], [[0, 1], [1, 2], [3, 4], [4, 5], [6, 7], [7, 8], [9, 10], [10, 11], [0, 3], [1, 4], [2, 5], [3, 6], [4, 7], [5, 8], [6, 9], [7, 10], [8, 11]], [[0, 1, 3, 4], [1, 2, 4, 5], [3, 4, 6, 7], [4, 5, 7, 8], [6, 7, 9, 10], [7, 8, 10, 11]]]\n",
      "\n",
      "gridSkeletons([3,2,1]) = \n",
      "[[[0], [1], [2], [3], [4], [5], [6], [7], [8], [9], [10], [11], [12], [13], [14], [15], [16], [17], [18], [19], [20], [21], [22], [23]], [[0, 1], [2, 3], [4, 5], [6, 7], [8, 9], [10, 11], [12, 13], [14, 15], [16, 17], [18, 19], [20, 21], [22, 23], [0, 2], [1, 3], [2, 4], [3, 5], [6, 8], [7, 9], [8, 10], [9, 11], [12, 14], [13, 15], [14, 16], [15, 17], [18, 20], [19, 21], [20, 22], [21, 23], [0, 6], [1, 7], [2, 8], [3, 9], [4, 10], [5, 11], [6, 12], [7, 13], [8, 14], [9, 15], [10, 16], [11, 17], [12, 18], [13, 19], [14, 20], [15, 21], [16, 22], [17, 23]], [[0, 1, 2, 3], [2, 3, 4, 5], [6, 7, 8, 9], [8, 9, 10, 11], [12, 13, 14, 15], [14, 15, 16, 17], [18, 19, 20, 21], [20, 21, 22, 23], [0, 1, 6, 7], [2, 3, 8, 9], [4, 5, 10, 11], [6, 7, 12, 13], [8, 9, 14, 15], [10, 11, 16, 17], [12, 13, 18, 19], [14, 15, 20, 21], [16, 17, 22, 23], [0, 2, 6, 8], [1, 3, 7, 9], [2, 4, 8, 10], [3, 5, 9, 11], [6, 8, 12, 14], [7, 9, 13, 15], [8, 10, 14, 16], [9, 11, 15, 17], [12, 14, 18, 20], [13, 15, 19, 21], [14, 16, 20, 22], [15, 17, 21, 23]], [[0, 1, 2, 3, 6, 7, 8, 9], [2, 3, 4, 5, 8, 9, 10, 11], [6, 7, 8, 9, 12, 13, 14, 15], [8, 9, 10, 11, 14, 15, 16, 17], [12, 13, 14, 15, 18, 19, 20, 21], [14, 15, 16, 17, 20, 21, 22, 23]]]\n"
     ]
    }
   ],
   "source": [
    "print \"\\ngridSkeletons([3]) = \\n\",gridSkeletons([3])\n",
    "print \"\\ngridSkeletons([3,2]) = \\n\",gridSkeletons([3,2])\n",
    "print \"\\ngridSkeletons([3,2,1]) = \\n\",gridSkeletons([3,2,1])"
   ]
  },
  {
   "cell_type": "code",
   "execution_count": null,
   "metadata": {},
   "outputs": [],
   "source": []
  }
 ],
 "metadata": {
  "kernelspec": {
   "display_name": "Python 2",
   "language": "python",
   "name": "python2"
  },
  "language_info": {
   "codemirror_mode": {
    "name": "ipython",
    "version": 2
   },
   "file_extension": ".py",
   "mimetype": "text/x-python",
   "name": "python",
   "nbconvert_exporter": "python",
   "pygments_lexer": "ipython2",
   "version": "2.7.12"
  }
 },
 "nbformat": 4,
 "nbformat_minor": 2
}

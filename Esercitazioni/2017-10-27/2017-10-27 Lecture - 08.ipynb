{
 "cells": [
  {
   "cell_type": "code",
   "execution_count": 1,
   "metadata": {},
   "outputs": [
    {
     "name": "stdout",
     "output_type": "stream",
     "text": [
      "Evaluating fenvs.py..\n",
      "...fenvs.py imported in 0.024710690463 seconds\n"
     ]
    },
    {
     "name": "stderr",
     "output_type": "stream",
     "text": [
      "c:\\programmi\\python27\\lib\\site-packages\\larlib\\larstruct.py:233: FutureWarning: comparison to `None` will result in an elementwise object comparison in the future.\n",
      "  self.body = [item for item in data if item != None]\n"
     ]
    }
   ],
   "source": [
    "from larlib import *"
   ]
  },
  {
   "cell_type": "code",
   "execution_count": 2,
   "metadata": {},
   "outputs": [
    {
     "data": {
      "text/plain": [
       "<pyplasm.xgepy.Hpc; proxy of <Swig Object of type 'std::shared_ptr< Hpc > *' at 0x00000000147FA810> >"
      ]
     },
     "execution_count": 2,
     "metadata": {},
     "output_type": "execute_result"
    }
   ],
   "source": [
    "pts = [[0,0],[0.5,0],[0,0.5],[0.5,0.5],[1,0.5],[1.5,0.5],[1.5,1],[0.25,1]]\n",
    "P = AA(MK)(pts)\n",
    "S = AA(JOIN)([P[0:4],P[4:7],P[7]])\n",
    "H = JOIN(S)\n",
    "VIEW(STRUCT(AA(SKELETON(1))(S)))\n",
    "VIEW(H)"
   ]
  },
  {
   "cell_type": "raw",
   "metadata": {},
   "source": [
    "![1.PNG](files/Immagini/1.PNG)"
   ]
  },
  {
   "cell_type": "markdown",
   "metadata": {},
   "source": [
    "![1.PNG](files/Immagini/1.PNG)"
   ]
  },
  {
   "cell_type": "markdown",
   "metadata": {},
   "source": [
    "![2.PNG](files/Immagini/2.PNG)"
   ]
  },
  {
   "cell_type": "code",
   "execution_count": 5,
   "metadata": {},
   "outputs": [
    {
     "data": {
      "text/plain": [
       "<pyplasm.xgepy.Hpc; proxy of <Swig Object of type 'std::shared_ptr< Hpc > *' at 0x000000001481C450> >"
      ]
     },
     "execution_count": 5,
     "metadata": {},
     "output_type": "execute_result"
    }
   ],
   "source": [
    "s0,s1,s2,s3 = [SIMPLEX(d) for d in range(4)]\n",
    "VIEW(s1)\n",
    "VIEW(s2)\n",
    "VIEW(s3)"
   ]
  },
  {
   "cell_type": "markdown",
   "metadata": {},
   "source": [
    "![3.PNG](files/Immagini/3.PNG)"
   ]
  },
  {
   "cell_type": "code",
   "execution_count": 6,
   "metadata": {},
   "outputs": [
    {
     "data": {
      "text/plain": [
       "<pyplasm.xgepy.Hpc; proxy of <Swig Object of type 'std::shared_ptr< Hpc > *' at 0x000000001481C120> >"
      ]
     },
     "execution_count": 6,
     "metadata": {},
     "output_type": "execute_result"
    }
   ],
   "source": [
    "points = [[1,1,1],[0,1,1],[1,0,0],[1,1,0]]\n",
    "tetra = JOIN(AA(MK)(points))\n",
    "VIEW(tetra)"
   ]
  },
  {
   "cell_type": "markdown",
   "metadata": {},
   "source": [
    "![4.PNG](files/Immagini/4.PNG)"
   ]
  },
  {
   "cell_type": "code",
   "execution_count": 8,
   "metadata": {},
   "outputs": [
    {
     "data": {
      "text/plain": [
       "<pyplasm.xgepy.Hpc; proxy of <Swig Object of type 'std::shared_ptr< Hpc > *' at 0x00000000148E7630> >"
      ]
     },
     "execution_count": 8,
     "metadata": {},
     "output_type": "execute_result"
    }
   ],
   "source": [
    "V,CV = larSimplexGrid1([5,5,5])\n",
    "FV = larSimplexFacets(CV)\n",
    "EV = larSimplexFacets(FV)\n",
    "VIEW(EXPLODE(1.5,1.5,1.5)(MKPOLS((V,CV))))"
   ]
  },
  {
   "cell_type": "markdown",
   "metadata": {},
   "source": [
    "![5.PNG](files/Immagini/5.PNG)"
   ]
  },
  {
   "cell_type": "code",
   "execution_count": 10,
   "metadata": {},
   "outputs": [
    {
     "data": {
      "text/plain": [
       "<pyplasm.xgepy.Hpc; proxy of <Swig Object of type 'std::shared_ptr< Hpc > *' at 0x00000000140833F0> >"
      ]
     },
     "execution_count": 10,
     "metadata": {},
     "output_type": "execute_result"
    }
   ],
   "source": [
    "VIEW(EXPLODE(1.5,1.5,1.5)(MKPOLS((V,FV))))"
   ]
  },
  {
   "cell_type": "markdown",
   "metadata": {},
   "source": [
    "![6.PNG](files/Immagini/6.PNG)"
   ]
  },
  {
   "cell_type": "code",
   "execution_count": 12,
   "metadata": {},
   "outputs": [
    {
     "data": {
      "text/plain": [
       "<pyplasm.xgepy.Hpc; proxy of <Swig Object of type 'std::shared_ptr< Hpc > *' at 0x00000000148F5F90> >"
      ]
     },
     "execution_count": 12,
     "metadata": {},
     "output_type": "execute_result"
    }
   ],
   "source": [
    "VIEW(EXPLODE(1.5,1.5,1.5)(MKPOLS((V,EV))))"
   ]
  },
  {
   "cell_type": "markdown",
   "metadata": {},
   "source": [
    "![7.PNG](files/Immagini/7.PNG)"
   ]
  },
  {
   "cell_type": "code",
   "execution_count": 13,
   "metadata": {},
   "outputs": [
    {
     "data": {
      "text/plain": [
       "<pyplasm.xgepy.Hpc; proxy of <Swig Object of type 'std::shared_ptr< Hpc > *' at 0x000000001497E540> >"
      ]
     },
     "execution_count": 13,
     "metadata": {},
     "output_type": "execute_result"
    }
   ],
   "source": [
    "BV = [FV[t] for t in boundaryCells(CV,FV)]\n",
    "VIEW(EXPLODE(1.5,1.5,1.5)(MKPOLS((V,BV))))"
   ]
  },
  {
   "cell_type": "markdown",
   "metadata": {},
   "source": [
    "![8.PNG](files/Immagini/8.PNG)"
   ]
  },
  {
   "cell_type": "code",
   "execution_count": 15,
   "metadata": {},
   "outputs": [
    {
     "data": {
      "text/plain": [
       "<pyplasm.xgepy.Hpc; proxy of <Swig Object of type 'std::shared_ptr< Hpc > *' at 0x000000001497E120> >"
      ]
     },
     "execution_count": 15,
     "metadata": {},
     "output_type": "execute_result"
    }
   ],
   "source": [
    "from random import random as rand\n",
    "points = [[2*PI*rand(),rand()]for k in range(1000)]\n",
    "V = [[SQRT(r)*COS(alpha),SQRT(r)*SIN(alpha)]for alpha, r in points]\n",
    "cells = [[k+1] for k,v in enumerate(V)]\n",
    "VIEW (MKPOL([V,cells,None]))\n",
    "from scipy.spatial import Delaunay\n",
    "FV = Delaunay(array(V)).vertices\n",
    "VIEW(EXPLODE(1.2,1.2,1)(MKPOLS((V,FV))))\n",
    "VIEW(SKELETON(1)(STRUCT(MKPOLS((V,FV)))))"
   ]
  },
  {
   "cell_type": "markdown",
   "metadata": {},
   "source": [
    "![9.PNG](files/Immagini/9.PNG)"
   ]
  },
  {
   "cell_type": "code",
   "execution_count": 18,
   "metadata": {},
   "outputs": [
    {
     "data": {
      "text/plain": [
       "<pyplasm.xgepy.Hpc; proxy of <Swig Object of type 'std::shared_ptr< Hpc > *' at 0x0000000038BBC0F0> >"
      ]
     },
     "execution_count": 18,
     "metadata": {},
     "output_type": "execute_result"
    }
   ],
   "source": [
    "points = [[ 2*rand()-1,2*rand()-1,2*rand()-1]for k in range(30000)]\n",
    "V = [p for p in points if VECTNORM(p) <= 1]\n",
    "VIEW(STRUCT(MKPOLS((V,AA(LIST)(range(len(V)))))))\n",
    "from scipy.spatial import Delaunay\n",
    "CV = Delaunay(array(V)).vertices\n",
    "def test(tetra): return AND([v[-1]<0 for v in tetra])\n",
    "CV = [cell for cell in CV if test([V[v] for v in cell])]\n",
    "VIEW(STRUCT(MKPOLS((V,CV))))"
   ]
  },
  {
   "cell_type": "markdown",
   "metadata": {},
   "source": [
    "![10.PNG](files/Immagini/10.PNG)"
   ]
  },
  {
   "cell_type": "code",
   "execution_count": 20,
   "metadata": {},
   "outputs": [
    {
     "data": {
      "text/plain": [
       "<pyplasm.xgepy.Hpc; proxy of <Swig Object of type 'std::shared_ptr< Hpc > *' at 0x000000001481C0C0> >"
      ]
     },
     "execution_count": 20,
     "metadata": {},
     "output_type": "execute_result"
    }
   ],
   "source": [
    "def sphere1(p):\n",
    "    return [COS(p[0]),SIN(p[0])]\n",
    "def domain(n):\n",
    "    return INTERVALS(2*PI)(n)\n",
    "VIEW(MAP(sphere1)(domain(32)))\n",
    "def disk2D(p):\n",
    "    u,v = p\n",
    "    return [v*COS(u), v* SIN(u)]\n",
    "domain2D = PROD([INTERVALS(2*PI)(32),INTERVALS(1)(3)])\n",
    "VIEW(MAP(disk2D)(domain2D))\n",
    "VIEW(SKELETON(1)(MAP(disk2D)(domain2D)))"
   ]
  },
  {
   "cell_type": "markdown",
   "metadata": {},
   "source": [
    "![11.PNG](files/Immagini/11.PNG)"
   ]
  },
  {
   "cell_type": "code",
   "execution_count": null,
   "metadata": {},
   "outputs": [],
   "source": []
  }
 ],
 "metadata": {
  "kernelspec": {
   "display_name": "Python 2",
   "language": "python",
   "name": "python2"
  },
  "language_info": {
   "codemirror_mode": {
    "name": "ipython",
    "version": 2
   },
   "file_extension": ".py",
   "mimetype": "text/x-python",
   "name": "python",
   "nbconvert_exporter": "python",
   "pygments_lexer": "ipython2",
   "version": "2.7.12"
  }
 },
 "nbformat": 4,
 "nbformat_minor": 2
}

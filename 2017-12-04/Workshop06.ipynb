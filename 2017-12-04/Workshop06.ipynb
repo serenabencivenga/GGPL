{
 "cells": [
  {
   "cell_type": "code",
   "execution_count": 1,
   "metadata": {},
   "outputs": [
    {
     "name": "stdout",
     "output_type": "stream",
     "text": [
      "Evaluating fenvs.py..\n",
      "...fenvs.py imported in "
     ]
    },
    {
     "name": "stderr",
     "output_type": "stream",
     "text": [
      "c:\\programmi\\python27\\lib\\site-packages\\larlib\\larstruct.py:233: FutureWarning: comparison to `None` will result in an elementwise object comparison in the future.\n",
      "  self.body = [item for item in data if item != None]\n"
     ]
    },
    {
     "name": "stdout",
     "output_type": "stream",
     "text": [
      "0.0205706355483 seconds\n"
     ]
    }
   ],
   "source": [
    "from larlib import *"
   ]
  },
  {
   "cell_type": "markdown",
   "metadata": {},
   "source": [
    "%-- 1 cubito = 444 mm ----------------------------------------%\n",
    "DEF r0 = 24; %---cubiti; raggio interno del muro interno------%\n",
    "DEF r2 = 48; %---cubiti; raggio esterno del muro medio--------%\n",
    "DEF r3 = 72; %---cubiti; raggio esterno del muro esterno------%\n",
    "DEF r4 = 88; %---cubiti; raggio esterno scale esterne---------%\n",
    "\n",
    "DEF wsteps = 10;  %---cubiti; profondita' scale esterne-------%\n",
    "DEF nsteps = 10;  %---numero alzate/pedate scale esterne------%\n",
    "DEF wstep = wsteps/nsteps; %---cubiti; larghezza pedata-------%\n",
    "DEF hstep = 1/3; %---cubiti; altezza alzata-------------------%\n",
    "DEF hw4 = 29; %--cubiti; altezza all'imposta del muro esterno-%\n",
    "DEF hbasament = hstep*nsteps;"
   ]
  },
  {
   "cell_type": "code",
   "execution_count": 2,
   "metadata": {},
   "outputs": [],
   "source": [
    "r0=24.00\n",
    "r2 = 48.00\n",
    "r3 = 72.00\n",
    "r4 = 88.00\n",
    "wsteps = 10.00\n",
    "nsteps = 10.00\n",
    "wstep = wsteps/nsteps\n",
    "hstep = 1.00/3.00\n",
    "hw4 = 29.00\n",
    "hbasement = hstep*nsteps"
   ]
  },
  {
   "cell_type": "markdown",
   "metadata": {},
   "source": [
    "DEF cylMap = MAP:[S2 * sin ~ S1, S2 * cos ~ S1, S3];"
   ]
  },
  {
   "cell_type": "code",
   "execution_count": 3,
   "metadata": {},
   "outputs": [],
   "source": [
    "fx = lambda x: x[1] * math.cos(x[0])\n",
    "fy = lambda x : x[1] * math.sin(x[0])\n",
    "fz = lambda x : x[2]\n",
    "\n",
    "cylMap = MAP([fx,fy,fz])"
   ]
  },
  {
   "cell_type": "markdown",
   "metadata": {},
   "source": [
    "DEF vdom (h::IsRealPos) = ((EMBED:1 ~ Intervals:(PI*3/24)):3) * QUOTE:<h>;\n",
    "DEF hdom (w::IsRealPos) = (S:2:-1 ~ EMBED:1):(Intervals:(PI*3/24):3 * QUOTE:<w>);\n",
    "\n",
    "DEF steps (w,h::IsRealPos) (n::IsIntPos) = (STRUCT ~ CAT ~ #:n):\n",
    "  < vdom:h, T:3:h, hdom:w, T:2:(-:w) >;\n",
    "\n",
    "DEF hbasament = hstep*nsteps;\n",
    "DEF stair = (MKPOL ~ UKPOL):(steps:<wstep,hstep>:nsteps  \n",
    "              RIGHT (S:2:-1 ~ @2 ~ CUBOID):<PI/24,wsteps,hbasament>);\n",
    "DEF ramp  = cylMap:(T:2:r4:stair);\n",
    "DEF stairs = (STRUCT ~ ##:12):<ramp, R:<1,2>:(PI/6)>;"
   ]
  },
  {
   "cell_type": "code",
   "execution_count": 4,
   "metadata": {},
   "outputs": [],
   "source": [
    "def vdom (h):\n",
    "    return PROD([COMP([EMBED(1),INTERVALS(PI*3/24)])(3),QUOTE([h])])\n",
    "def hdom (w):\n",
    "    return COMP([S(2)(-1),EMBED(1)])(PROD([INTERVALS(PI*3/24)(3),QUOTE([w])]))\n",
    "def steps (w,h,n):\n",
    "    return COMP([STRUCT,CAT,N(n)])([vdom(h),T(3)(h),hdom(w),T(2)(-w)])\n",
    "hbasament = hstep * nsteps\n",
    "stair = RIGHT([COMP([MKPOL,UKPOL])(steps(wstep,hstep,nsteps)),COMP([S(2)(-1),SKEL_2,CUBOID])([PI/24,wsteps,hbasament])])\n",
    "ramp = cylMap(T(2)(r4)(stair))\n",
    "stairs = STRUCT(NN(12)([ramp,R([1,2])(PI/6)]))"
   ]
  },
  {
   "cell_type": "markdown",
   "metadata": {},
   "source": [
    "%-------------------------------------------------------------%\n",
    "%---Basamento-------------------------------------------------%\n",
    "%-------------------------------------------------------------%"
   ]
  },
  {
   "cell_type": "markdown",
   "metadata": {},
   "source": [
    "DEF basisSector = (cylMap ~ EMBED:1):\n",
    "    (Intervals:(2*PI/12):4 * Intervals:(r4 - (wstep*(nsteps - 1))):1);\n",
    "DEF basis = (STRUCT ~ ##:12):<basisSector, R:<1,2>:(2*PI/12)>;\n",
    "DEF basement = (R:<1,2>:(PI/-48) ~ STRUCT):< stairs, T:3:(hstep*nsteps), basis >;"
   ]
  },
  {
   "cell_type": "code",
   "execution_count": 5,
   "metadata": {},
   "outputs": [
    {
     "data": {
      "text/plain": [
       "<pyplasm.xgepy.Hpc; proxy of <Swig Object of type 'std::shared_ptr< Hpc > *' at 0x000000001445D450> >"
      ]
     },
     "execution_count": 5,
     "metadata": {},
     "output_type": "execute_result"
    }
   ],
   "source": [
    "basi = PROD([INTERVALS(2*PI/12)(4),INTERVALS(r4 - (wstep*(nsteps-1)))(1)])\n",
    "basisSector = COMP([cylMap,EMBED(1)])(basi)\n",
    "basis = COMP([STRUCT,NN(12)])([basisSector,R([1,2])(2*PI/12)])\n",
    "basement = COMP([R([1,2])(PI/-48),STRUCT])([stairs,T(3)(hstep*nsteps),basis])\n",
    "VIEW(basement)"
   ]
  },
  {
   "cell_type": "markdown",
   "metadata": {},
   "source": [
    "![Basamento_1.PNG](files/Immagini/Basamento_1.PNG)"
   ]
  },
  {
   "cell_type": "markdown",
   "metadata": {},
   "source": [
    "![Basamento_2.PNG](files/Immagini/Basamento_2.PNG)"
   ]
  },
  {
   "cell_type": "markdown",
   "metadata": {},
   "source": []
  },
  {
   "cell_type": "code",
   "execution_count": null,
   "metadata": {},
   "outputs": [],
   "source": []
  },
  {
   "cell_type": "code",
   "execution_count": 6,
   "metadata": {},
   "outputs": [],
   "source": [
    "fx = lambda x: x[1] * math.sin(x[0])\n",
    "fy = lambda x : x[1] * math.cos(x[0])\n",
    "fz = lambda x : x[2]\n",
    "\n",
    "cylMap = MAP([fx,fy,fz])"
   ]
  },
  {
   "cell_type": "markdown",
   "metadata": {},
   "source": [
    "%-------------------------------------------------------------%\n",
    "%---Muro esterno----------------------------------------------%\n",
    "%-------------------------------------------------------------%\n",
    "\n",
    "DEF ExtWall2Da = MKPOL:<<<0,0>,<7,0>,<7,5>,<0,8>,<7,3>,<9,4>,\n",
    "<10.5,1.5>,<10.5,0>,<11,1.5>,<11,3>>,<1..4,<2,8,7,6,5>,<6,7,9,10>>,\n",
    "<<1>,<2>,<3>>> & ((Q ~ #:12):1 * Q:8);\n",
    "DEF ExtWall2Db = MKPOL:<<<0.5,0>,<4,0>,<5,0>,<6,0>,<6,3>,<5.5,3.5>,\n",
    "  <5,3>,<4.5,3.5>,<4,3>,<2,4>,<0,3>,<0,1.5>,<0.5,1.5>>,\n",
    "  <<10,11,12,13>,<1,2,9,10,13>,<2,3,7,8,9>,<3,4,5,6,7>>,<1..4>> \n",
    "&  ((Q ~ #:6):1 * Q:4);\n",
    "DEF ExtWall2D = STRUCT:<ExtWall2Da, T:1:11, ExtWall2Db>;\n",
    "DEF sizxExtWall = SIZE:1:ExtWall2D;\n",
    "\n",
    "DEF ExtWall = R:<2,3>:(PI/2):(ExtWall2D * QUOTE:<1.5>);\n",
    "DEF CurvedExtWall = (cylMap ~ T:2:r3 ~ S:<1,3>:<PI/(4*sizxExtWall),hw4/8>):   ExtWall;\n",
    "DEF DoubleExtWall = STRUCT:<CurvedExtWall, S:1:-1, CurvedExtWall>;\n",
    "DEF FullExtWall = (STRUCT ~ ##:4):<DoubleExtWall, R:<1,2>:(PI/2)>;\n",
    "\n",
    "%\n",
    "STRUCT:<basement, T:3:hbasament, FullExtWall>;\n",
    "%"
   ]
  },
  {
   "cell_type": "code",
   "execution_count": 7,
   "metadata": {},
   "outputs": [
    {
     "data": {
      "text/plain": [
       "<pyplasm.xgepy.Hpc; proxy of <Swig Object of type 'std::shared_ptr< Hpc > *' at 0x000000001445DF00> >"
      ]
     },
     "execution_count": 7,
     "metadata": {},
     "output_type": "execute_result"
    }
   ],
   "source": [
    "ExtWall2Da = INTERSECTION([MKPOL([[[0,0],[7,0],[7,5],\n",
    "                                   [0,8],[7,3],[9,4],\n",
    "                                   [10.5,1.5],[10.5,0],\n",
    "                                   [11,1.5],[11,3]],[range(1,5),[2,8,7,6,5],[6,7,9,10]],[[1],[2],[3]]]),PROD([COMP([QUOTE,N(12)])(1),Q(8)]) ])\n",
    "ExtWall2Db = INTERSECTION ([\n",
    "    MKPOL([[[0.5,0],[4,0],[5,0],[6,0],[6,3],[5.5,3.5],[5,3],[4.5,3.5],[4,3],[2,4],[0,3],[0,1.5],[0.5,1.5]],[[10,11,12,13],[1,2,9,10,13],[2,3,7,8,9],[3,4,5,6,7]],range(1,5)]),PROD([COMP([QUOTE,N(6)])(1),Q(4)])\n",
    "])\n",
    "\n",
    "ExtWall2D = STRUCT([ExtWall2Da,T(1)(11),ExtWall2Db])\n",
    "sizxExtWall = SIZE(1)(ExtWall2D)\n",
    "ExtWall = R([2,3])(PI/2)(PROD([ExtWall2D,QUOTE([1,5])]))\n",
    "CurvedExtWall = COMP([cylMap,T(2)(r3),S([1,3])([PI/(4*sizxExtWall),hw4/8])])(ExtWall)\n",
    "DoubleExtWall = STRUCT([CurvedExtWall,S(1)(-1),CurvedExtWall])\n",
    "FullExtWall = COMP([STRUCT,NN(4)])([DoubleExtWall,R([1,2])(PI/2)])\n",
    "VIEW(FullExtWall)\n",
    "VIEW(STRUCT([basement,T(3)(hbasament),FullExtWall]))"
   ]
  },
  {
   "cell_type": "markdown",
   "metadata": {},
   "source": [
    "![Muro_esterno_1.PNG](files/Immagini/Muro_esterno_1.PNG)"
   ]
  },
  {
   "cell_type": "markdown",
   "metadata": {},
   "source": [
    "![Composizione_1.PNG](files/Immagini/:Composizione_1.PNG)"
   ]
  },
  {
   "cell_type": "code",
   "execution_count": null,
   "metadata": {},
   "outputs": [],
   "source": []
  },
  {
   "cell_type": "code",
   "execution_count": null,
   "metadata": {},
   "outputs": [],
   "source": []
  },
  {
   "cell_type": "markdown",
   "metadata": {},
   "source": []
  },
  {
   "cell_type": "markdown",
   "metadata": {},
   "source": [
    "%-------------------------------------------------------------%\n",
    "%---Colonne intermedie----------------------------------------%\n",
    "%-------------------------------------------------------------%\n",
    "\n",
    "DEF Column (w,h::IsRealPos) = basis TOP trunk TOP capitel\n",
    "WHERE\n",
    "  basis = CUBOID:<w,w,2*w/3>,\n",
    "  trunk = CYLINDER:<w/2*0.85, h - w>:8,\n",
    "  capitel = CUBOID:<w,w,w/3>\n",
    "END;\n",
    "DEF arcAngle = 2*PI/50.4;\n",
    "DEF wallAngle = -3.2*arcAngle/4;\n",
    "DEF RotCross = 3.2*arcAngle/4 + 2.5*arcAngle;"
   ]
  },
  {
   "cell_type": "code",
   "execution_count": 8,
   "metadata": {},
   "outputs": [],
   "source": [
    "def Column(w,h):\n",
    "    basis = CUBOID([w,w,2*w/3])\n",
    "    trunk = CYLINDER ([w/2*0.85, h - w])(8)\n",
    "    capitel = CUBOID([w,w,w/3])\n",
    "    return TOP([capitel,TOP([trunk,basis])])\n",
    "\n",
    "arcAngle = 2*PI/50.4\n",
    "wallAngle = -3.2*arcAngle/4\n",
    "RotCross = 3.2*arcAngle/4 + 2.5*arcAngle"
   ]
  },
  {
   "cell_type": "markdown",
   "metadata": {},
   "source": [
    "DEF MyColumn = (MKPOL ~ UKPOL ~ T:2:((r2 - 0.75)) ~ Column):<1.5,hCol>;\n",
    "DEF The4cols = (R:<1,2>:(arcAngle*0.4/3.2) ~ MKPOL ~ UKPOL ~ \n",
    "  STRUCT ~ ##:4):< R:<1,2>:(-:arcAngle), MyColumn >;\n",
    "DEF The5cols = (R:<1,2>:(arcAngle*0.4/3.2) ~ MKPOL ~ UKPOL ~ \n",
    "  STRUCT ~ ##:5):< R:<1,2>:(-:arcAngle), MyColumn >;\n",
    "DEF TheBotWal = (cylMap ~ MKPOL ~ UKPOL ~ T:2:(r2 - 0.75) ~ CUBOID):\n",
    "  < 3.2*arcAngle/4, 1.5, hCol >;\n",
    "DEF TheSecCols = STRUCT:< R:<1,2>:RotCross,\n",
    "  TheBotWal, R:<1,2>:wallAngle, \n",
    "  The4cols, R:<1,2>:(-5*arcAngle), \n",
    "  TheBotWal, R:<1,2>:wallAngle, \n",
    "  The5cols >;\n",
    "DEF TheMedColumns = (STRUCT ~ ##:4):<TheSecCols, R:<1,2>:(PI/-2)>;\n",
    "DEF hCol = 12 ;\n"
   ]
  },
  {
   "cell_type": "code",
   "execution_count": 9,
   "metadata": {},
   "outputs": [
    {
     "data": {
      "text/plain": [
       "<pyplasm.xgepy.Hpc; proxy of <Swig Object of type 'std::shared_ptr< Hpc > *' at 0x00000000145E12A0> >"
      ]
     },
     "execution_count": 9,
     "metadata": {},
     "output_type": "execute_result"
    }
   ],
   "source": [
    "hCol = 12\n",
    "def Column(argomenti):\n",
    "    w,h = argomenti\n",
    "    basis = CUBOID([w,w,2*w/3])\n",
    "    trunk = CYLINDER ([w/2*0.85, h - w])(8)\n",
    "    capitel = CUBOID([w,w,w/3])\n",
    "    return TOP([TOP([trunk,basis]),capitel])\n",
    "\n",
    "arcAngle = 2*PI/50.4\n",
    "wallAngle = -3.2*arcAngle/4\n",
    "RotCross = 3.2*arcAngle/4 + 2.5*arcAngle\n",
    "\n",
    "MyColumn  = COMP([MKPOL,UKPOL,T(2)(r2 - 0.75),Column])([1.5,hCol])\n",
    "The4cols = COMP([R([1, 2])(arcAngle*.4/3.2), MKPOL, UKPOL, STRUCT, NN(4)])([R([1, 2])(-arcAngle), MyColumn])\n",
    "The5cols = COMP([R([1,2])(arcAngle*0.4/3.2),MKPOL,UKPOL,STRUCT,NN(5)])([R([1,2])(-arcAngle),MyColumn])\n",
    "TheBotWal = COMP([cylMap,MKPOL,UKPOL,T(2)(r2-0.75),CUBOID])([3.2*arcAngle/4,1.5, hCol])\n",
    "TheSecCols = STRUCT([R([1,2])(RotCross),TheBotWal,R([1,2])(wallAngle),The4cols,R([1,2])(-5*arcAngle),TheBotWal,R([1,2])(wallAngle),The5cols])\n",
    "TheMedColumns = COMP([STRUCT,NN(4)])([TheSecCols,R([1,2])(PI/(-2))])\n",
    "\n",
    "VIEW(TheMedColumns)\n",
    "\n"
   ]
  },
  {
   "cell_type": "markdown",
   "metadata": {},
   "source": [
    "![Colonne_intermedie_1.PNG](files/Immagini/Colonne_intermedie_1.PNG)"
   ]
  },
  {
   "cell_type": "code",
   "execution_count": 10,
   "metadata": {},
   "outputs": [
    {
     "data": {
      "text/plain": [
       "<pyplasm.xgepy.Hpc; proxy of <Swig Object of type 'std::shared_ptr< Hpc > *' at 0x0000000014529F90> >"
      ]
     },
     "execution_count": 10,
     "metadata": {},
     "output_type": "execute_result"
    }
   ],
   "source": [
    "#%\n",
    "#STRUCT:<basement, T:3:hbasament, FullExtWall, TheMedColumns >;\n",
    "#%\n",
    "VIEW(STRUCT([basement,T(3)(hbasament),FullExtWall,TheMedColumns]))"
   ]
  },
  {
   "cell_type": "markdown",
   "metadata": {},
   "source": [
    "![Composizione_2.PNG](files/Immagini/Composizione_2.PNG)"
   ]
  },
  {
   "cell_type": "markdown",
   "metadata": {},
   "source": [
    "%-------------------------------------------------------------%\n",
    "%---Archi sulle colonne---------------------------------------%\n",
    "%-------------------------------------------------------------%\n",
    "\n",
    "DEF bottomArc (d::IsRealPos) = Bezier:S1:<<0,0>,<0,2*d/3>,<d,2*d/3>,<d,0>>;\n",
    "DEF topArc (d::IsRealPos) = Bezier:S1:<<0,2*d/3>,<d,2*d/3>>;\n",
    "DEF arc2D  (d::IsRealPos) = Bezier:S2:<bottomArc:d,topArc:d>;\n",
    "DEF arc3D  (d::IsRealPos)(w::IsRealPos) = (T:2:w ~ R:<2,3>:(PI/2)):\n",
    "  ( MAP:(CONS:(arc2D:d)):(Intervals:1:8 * Intervals:1:1) * QUOTE:<w> );\n",
    "DEF Interarc (d1,d2::IsReal)(w::IsRealPos)= CUBOID:<d1,w,2*d2/3>;\n",
    "DEF Xarc (d1,d2::IsRealPos) (w::IsRealPos) = \n",
    "Interarc:<d1,d2>:w RIGHT arc3D:d2:w RIGHT Interarc:<d1,d2>:w;"
   ]
  },
  {
   "cell_type": "code",
   "execution_count": null,
   "metadata": {},
   "outputs": [],
   "source": [
    "\n",
    "\n",
    "\n",
    "\n",
    "\n"
   ]
  },
  {
   "cell_type": "markdown",
   "metadata": {},
   "source": [
    "DEF SizeArc = SIZE:1:TheArc;\n",
    "DEF TheArc = Xarc:<0.4,3.2>:1.5;\n",
    "DEF HeigthArc = SIZE:3:CurvedArc;\n",
    "DEF CurvedArc = (cylMap ~ MKPOL ~ UKPOL ~ T:2:(r2 - 0.75) ~ S:<1,3>:<sx,sz>):TheArc\n",
    "WHERE\n",
    "  sx = (1/SizeArc)*arcAngle,\n",
    "  sz = sx * (r2 - 2)\n",
    "END;\n",
    "DEF The5arcs = (MKPOL ~ UKPOL ~ STRUCT ~ ##:5):< CurvedArc, R:<1,2>:(-:arcAngle) >;\n",
    "DEF The6arcs = (MKPOL ~ UKPOL ~ STRUCT ~ ##:6):< CurvedArc, R:<1,2>:(-:arcAngle) >;\n",
    "DEF TheMidWall = (cylMap ~ MKPOL ~ UKPOL ~ T:2:(r2 - 0.75) ~ CUBOID):\n",
    "  <3.2*arcAngle/4, 1.5, HeigthArc>;\n",
    "DEF TheSector = STRUCT:< R:<1,2>:RotCross,\n",
    "  TheMidWall, R:<1,2>:wallAngle, \n",
    "  The5arcs, R:<1,2>:(-5*arcAngle), \n",
    "  TheMidWall, R:<1,2>:wallAngle, \n",
    "  The6arcs >;\n",
    "DEF TheArcs = (STRUCT ~ ##:4):<TheSector, R:<1,2>:(PI/-2)>;\n",
    "DEF TheArcsCols = STRUCT:< TheMedColumns, T:3:hCol, TheArcs >;"
   ]
  },
  {
   "cell_type": "code",
   "execution_count": 11,
   "metadata": {},
   "outputs": [
    {
     "data": {
      "text/plain": [
       "<pyplasm.xgepy.Hpc; proxy of <Swig Object of type 'std::shared_ptr< Hpc > *' at 0x00000000145E1E40> >"
      ]
     },
     "execution_count": 11,
     "metadata": {},
     "output_type": "execute_result"
    }
   ],
   "source": [
    "def bottomArv(d):\n",
    "    return BEZIER(S1)([[0,0],[0,2*d/3],[d,2*d/3],[d,0]])\n",
    "\n",
    "def topArc (d) :\n",
    "    return BEZIER (S1)([[0,2*d/3],[d,2*d/3]])\n",
    "def arc2D (d) :\n",
    "    return BEZIER(S2)([bottomArv(d),topArc(d)])\n",
    "\n",
    "def arc3D (d) :\n",
    "    def arc3D1(w):\n",
    "        return COMP([T(2)(w),R([2,3])(PI/2)])(PROD([MAP(arc2D(d))(PROD([INTERVALS(1)(8),INTERVALS(1)(1)])),QUOTE([w])]))\n",
    "    return arc3D1\n",
    "\n",
    "def Interarc (d1,d2):\n",
    "    def Interarc1(w):\n",
    "        return CUBOID([d1,w,2*d2/3])\n",
    "    return Interarc1\n",
    "\n",
    "def Xarc(d1,d2):\n",
    "    def Xarc1(w):\n",
    "        return RIGHT([RIGHT([Interarc(d1,d2)(w),arc3D(d2)(w)]),Interarc(d1,d2)(w)])\n",
    "    return Xarc1\n",
    "\n",
    "def CurvedArc():\n",
    "    sx = (1/SizeArc)* arcAngle\n",
    "    sz = sx * (r2-2)\n",
    "    return COMP([cylMap,MKPOL,UKPOL,T(2)(r2 - 0.75),S([1,3])([sx,sz])])(TheArc)\n",
    "\n",
    "TheArc = Xarc(0.4,3.2)(1.5)\n",
    "SizeArc = SIZE(1)(TheArc)\n",
    "HeightArc = SIZE(3)(CurvedArc())\n",
    "The5arcs = COMP([MKPOL,UKPOL,STRUCT,NN(5)])([CurvedArc(),R([1,2])(-arcAngle)])\n",
    "The6arcs = COMP([MKPOL,UKPOL,STRUCT,NN(6)])([CurvedArc(),R([1,2])(-arcAngle)])\n",
    "TheMidWall = COMP([cylMap,MKPOL,UKPOL,T(2)(r2 - 0.75),CUBOID])([3.2*arcAngle/4,1.5,HeightArc])\n",
    "TheSector = STRUCT([R([1,2])(RotCross),TheMidWall,R([1,2])(wallAngle),The5arcs,R([1,2])(-(5*arcAngle)),TheMidWall,R([1,2])(wallAngle),The6arcs])\n",
    "TheArcs = COMP([STRUCT,NN(4)])([TheSector,R([1,2])(PI/-2)])\n",
    "TheArcsCols = STRUCT([TheMedColumns,T(3)(hCol),TheArcs])\n",
    "\n",
    "VIEW(TheArcsCols)\n",
    "        \n",
    "\n"
   ]
  },
  {
   "cell_type": "markdown",
   "metadata": {},
   "source": [
    "![Archi_sulle_colonne.PNG](files/Immagini/Archi_sulle_colonne.PNG)"
   ]
  },
  {
   "cell_type": "markdown",
   "metadata": {},
   "source": [
    "\n",
    "%\n",
    "STRUCT:<basement, T:3:hbasament, FullExtWall, TheArcsCols >;\n",
    "%"
   ]
  },
  {
   "cell_type": "code",
   "execution_count": 12,
   "metadata": {},
   "outputs": [
    {
     "data": {
      "text/plain": [
       "<pyplasm.xgepy.Hpc; proxy of <Swig Object of type 'std::shared_ptr< Hpc > *' at 0x0000000014529F60> >"
      ]
     },
     "execution_count": 12,
     "metadata": {},
     "output_type": "execute_result"
    }
   ],
   "source": [
    "VIEW(STRUCT([basement,T(3)(hbasament),FullExtWall,TheArcsCols]))"
   ]
  },
  {
   "cell_type": "markdown",
   "metadata": {},
   "source": [
    "![Composizione_3.PNG](files/Immagini/Composizione_3.PNG)"
   ]
  },
  {
   "cell_type": "markdown",
   "metadata": {},
   "source": [
    "DEF MedWall2D = MKPOL:<<<0,4>,<8,4>,<17,4>,<17,5>,<12.5,7.5>,<8,5>,<0,8>>,\n",
    "<<1,2,6,7>,<2,3,4,5,6>>,\n",
    "<<1>,<2>>> & (QUOTE:(#:17:1) * QUOTE:<8>);\n",
    "DEF sizxMedWall = SIZE:1:MedWall2D;\n",
    "\n",
    "DEF MedWall = R:<2,3>:(PI/2):(MedWall2D * QUOTE:<1.5>);\n",
    "DEF CurvedMedWall = (cylMap ~ MKPOL ~ UKPOL ~ \n",
    "    T:2:(r2+0.75) ~ S:<1,3>:<PI/(4*sizxMedWall),hw4/8>):MedWall;\n",
    "\n",
    "DEF DoubleMedWall = STRUCT:<CurvedMedWall, S:1:-1:CurvedMedWall>;\n",
    "DEF FullMedWall = (STRUCT ~ ##:4):<DoubleMedWall, R:<1,2>:(PI/2)>;\n",
    "DEF MedWallArcs = STRUCT:< FullMedWall, TheArcsCols >;"
   ]
  },
  {
   "cell_type": "code",
   "execution_count": 13,
   "metadata": {},
   "outputs": [],
   "source": [
    "MedWall2D = INTERSECTION([MKPOL([[[0,4],[8,4],[17,4],[17,5],[12.5,7.5],[8,5],[0,8]],[[1,2,6,7],[2,3,4,5,6]],[[1],[2]]]),PROD([COMP([QUOTE,N(17)])(1),QUOTE([8])])])\n",
    "\n",
    "sizxMedWall = SIZE(1)(MedWall2D)\n",
    "MedWall = R([2,3])(PI/2) (PROD([MedWall2D,QUOTE([1.5])]))\n",
    "CurvedMedWall = COMP([cylMap, MKPOL,UKPOL, T(2)(r2 + 0.75),S([1,3])([PI/(4*sizxMedWall),hw4/8])])(MedWall)\n",
    "DoubleMedWall = STRUCT([CurvedMedWall,S(1)(-1),CurvedMedWall])\n",
    "FullMedWall = COMP([STRUCT,NN(4)])([DoubleMedWall, R([1,2])(PI/2)])\n",
    "MedWallArcs = STRUCT([FullMedWall,TheArcsCols])"
   ]
  },
  {
   "cell_type": "markdown",
   "metadata": {},
   "source": [
    "%\n",
    "STRUCT:<basement, T:3:hbasament, FullExtWall, MedWallArcs >;\n",
    "%"
   ]
  },
  {
   "cell_type": "code",
   "execution_count": 14,
   "metadata": {},
   "outputs": [
    {
     "data": {
      "text/plain": [
       "<pyplasm.xgepy.Hpc; proxy of <Swig Object of type 'std::shared_ptr< Hpc > *' at 0x00000000145E1EA0> >"
      ]
     },
     "execution_count": 14,
     "metadata": {},
     "output_type": "execute_result"
    }
   ],
   "source": [
    "VIEW(STRUCT([basement,T(3)(hbasament),FullExtWall,MedWallArcs]))"
   ]
  },
  {
   "cell_type": "markdown",
   "metadata": {},
   "source": [
    "![Composizione_4.PNG](files/Immagini/Composizione_4.PNG)"
   ]
  },
  {
   "cell_type": "markdown",
   "metadata": {},
   "source": [
    "%-------------------------------------------------------------%\n",
    "%---Muri laterali della croce---------------------------------%\n",
    "%-------------------------------------------------------------%\n",
    "\n",
    "\n",
    "DEF CrossWall = (T:1:-1 ~ R:<1,2>:(0.2*arcAngle) ~ \n",
    "  S:3:(hw4/8) ~ CUBOID):<1.5,r3 - r2,5>;\n",
    "DEF SingleWall =  (R:<1,2>:(2.5*arcAngle) ~ T:2:r2):CrossWall;\n",
    "DEF DoubleWall =  STRUCT:< SingleWall, S:1:-1, SingleWall >;\n",
    "DEF CrossWalls = (STRUCT ~ ##:4):<DoubleWall, R:<1,2>:(PI/2)>;\n",
    "\n",
    "%\n",
    "STRUCT:<basement, T:3:hbasament, FullExtWall, MedWallArcs, CrossWalls >;\n",
    "%"
   ]
  },
  {
   "cell_type": "code",
   "execution_count": 15,
   "metadata": {},
   "outputs": [
    {
     "data": {
      "text/plain": [
       "<pyplasm.xgepy.Hpc; proxy of <Swig Object of type 'std::shared_ptr< Hpc > *' at 0x00000000145F4840> >"
      ]
     },
     "execution_count": 15,
     "metadata": {},
     "output_type": "execute_result"
    }
   ],
   "source": [
    "CrossWall = COMP([T(1)(-1),R([1,2])(0.2*arcAngle),S(3)(hw4/8),CUBOID])([1.5,r3-r2,5])\n",
    "SingleWall = COMP([R([1,2])(2.5*arcAngle),T(2)(r2)])(CrossWall)\n",
    "DoubleWall = STRUCT([SingleWall,S(1)(-1),SingleWall])\n",
    "CrossWalls = COMP([STRUCT,NN(4)])([DoubleWall,R([1,2])(PI/2)])\n",
    "VIEW(STRUCT([basement,T(3)(hbasament),FullExtWall, MedWallArcs,CrossWalls]))"
   ]
  },
  {
   "cell_type": "markdown",
   "metadata": {},
   "source": [
    "![Composizione_5.PNG](files/Immagini/Composizione_5.PNG)"
   ]
  },
  {
   "cell_type": "markdown",
   "metadata": {},
   "source": [
    "%-------------------------------------------------------------%\n",
    "%---Tetto sulla croce-----------------------------------------%\n",
    "%-------------------------------------------------------------%\n",
    "\n",
    "DEF HalfTetto = MKPOL:<<<0,r2,8>,<8,r2,5>,<8,r3,5>,<0,r3,8>>,<1..4>,<<1>>>;\n",
    "DEF CurvedHalfTetto = (cylMap ~ S:<1,3>:<2.5*arcAngle/8,hw4/8>):HalfTetto;\n",
    "DEF DoubleHalfTetto = STRUCT:<CurvedHalfTetto, S:1:-1:CurvedHalfTetto>;\n",
    "DEF FullTetto = (STRUCT ~ ##:4):<DoubleHalfTetto, R:<1,2>:(PI/-2)>;\n",
    "\n",
    "%\n",
    "STRUCT:<basement, T:3:hbasament, FullExtWall, MedWallArcs, \n",
    "        CrossWalls, FullTetto >;\n",
    "%"
   ]
  },
  {
   "cell_type": "code",
   "execution_count": 16,
   "metadata": {},
   "outputs": [
    {
     "data": {
      "text/plain": [
       "<pyplasm.xgepy.Hpc; proxy of <Swig Object of type 'std::shared_ptr< Hpc > *' at 0x00000000145F4B10> >"
      ]
     },
     "execution_count": 16,
     "metadata": {},
     "output_type": "execute_result"
    }
   ],
   "source": [
    "HalfTetto = MKPOL([[[0,r2,8],[8,r2,5],[8,r3,5],[0,r3,8]],[range(1,5)],[[1]]])\n",
    "CurvedHalfTetto = COMP([cylMap,S([1,3])([2.5*arcAngle/8,hw4/8])])(HalfTetto)\n",
    "DoubleHalfTetto = STRUCT([CurvedHalfTetto,S(1)(-1)(CurvedHalfTetto)])\n",
    "FullTetto = COMP([STRUCT,NN(4)])([DoubleHalfTetto,R([1,2])(PI/-2)])\n",
    "VIEW(STRUCT([basement,T(3)(hbasament),FullExtWall,MedWallArcs,CrossWalls,FullTetto]))"
   ]
  },
  {
   "cell_type": "markdown",
   "metadata": {},
   "source": [
    "![Composizione_6.PNG](files/Immagini/Composizione_6.PNG)"
   ]
  },
  {
   "cell_type": "markdown",
   "metadata": {},
   "source": [
    "%-------------------------------------------------------------%\n",
    "%---Muro con Triplice apertura--------------------------------%\n",
    "%-------------------------------------------------------------%\n",
    "\n",
    "DEF CourtWall (d1,d2::IsRealPos) (n1,n2::IsIntPos) = \n",
    "  LeftWall OP TripleHole OP RightWall\n",
    "WHERE\n",
    "  op = ALIGN:<<1,MAX,MIN>,<2,MIN,MIN>>,\n",
    "  LeftWall = ((QUOTE ~ #:n1):(d1/n1)) * CUBOID:<1,h>,\n",
    "  RightWall = ((QUOTE ~ #:n2):(d2/n2)) * CUBOID:<1,h>,\n",
    "  h = SIZE:3:TripleHole,\n",
    "  TripleHole = STRUCT:<column:<w,2>, T:1:(2+w), column:<w,2>> \n",
    "    TOP Xarc:<2,2>:1,\n",
    "  w = 0.7\n",
    "END;\n",
    "%\n",
    "CourtWall:<6,6>:<3,3>\n",
    "%\n"
   ]
  },
  {
   "cell_type": "code",
   "execution_count": 17,
   "metadata": {},
   "outputs": [
    {
     "data": {
      "text/plain": [
       "<pyplasm.xgepy.Hpc; proxy of <Swig Object of type 'std::shared_ptr< Hpc > *' at 0x00000000145F4F60> >"
      ]
     },
     "execution_count": 17,
     "metadata": {},
     "output_type": "execute_result"
    }
   ],
   "source": [
    "def CourtWall(d1,d2):\n",
    "    def CourtWall1(n1,n2):\n",
    "        w = 0.7\n",
    "        TripleHole = TOP([STRUCT([Column([w,2]),T(1)(2+w),Column([w,2])]),Xarc(2,2)(1)])\n",
    "        h = SIZE(3)(TripleHole)\n",
    "        op = ALIGN([[1,MAX,MIN],[2,MIN,MIN]])\n",
    "        LeftWall = PROD([COMP([QUOTE,N(n1)])(d1/n1),CUBOID([1,h])])\n",
    "        RightWall = PROD([COMP([QUOTE,N(n2)])(d2/n2),CUBOID([1,h])])\n",
    "        return op([LeftWall,op([TripleHole,RightWall])])\n",
    "        #return LeftWall OP TripleHole OP RightWall\n",
    "    return CourtWall1\n",
    "\n",
    "VIEW(CourtWall(6,6)(3,3))"
   ]
  },
  {
   "cell_type": "markdown",
   "metadata": {},
   "source": [
    "![Muro_con_Triplice_apertura.PNG](files/Immagini/Muro_con_Triplice_apertura.PNG)"
   ]
  },
  {
   "cell_type": "markdown",
   "metadata": {},
   "source": [
    "%-------------------------------------------------------------%\n",
    "%---Muro inferiore Cortile interno----------------------------%\n",
    "%-------------------------------------------------------------%\n",
    "\n",
    "DEF MyCourtWall = CourtWall:<12,12>:<9,9>;\n",
    "DEF sizxCourtWall = SIZE:1:MyCourtWall;\n",
    "DEF CurvedCourtWall = (optimize ~ \n",
    "    R:<1,2>:(-2.5*arcAngle) ~ mapping ~ T:2:((r3+r2)/2)): MyCourtWall;\n",
    "DEF mapping = (cylMap ~ S:<1,3>:<(7.25*PI/24)*(1/sizxCourtWall),hw4/8>);\n",
    "DEF CrossCourtWall = (STRUCT ~ ##:4):<CurvedCourtWall, R:<1,2>:(PI/2)>;\n",
    "%\n",
    "STRUCT:<FullTetto, CrossWalls, CrossCourtWall >;\n",
    "STRUCT:<basement, T:3:hbasament, FullExtWall, FullTetto, CrossCourtWall,\n",
    "        CrossWalls, MedWallArcs, TheMedColumns>;\n",
    "%"
   ]
  },
  {
   "cell_type": "code",
   "execution_count": 18,
   "metadata": {},
   "outputs": [
    {
     "data": {
      "text/plain": [
       "<pyplasm.xgepy.Hpc; proxy of <Swig Object of type 'std::shared_ptr< Hpc > *' at 0x00000000145F4FC0> >"
      ]
     },
     "execution_count": 18,
     "metadata": {},
     "output_type": "execute_result"
    }
   ],
   "source": [
    "MyCourtWall = CourtWall(12,12)(9,9)\n",
    "sizxCourtWall = SIZE(1)(MyCourtWall)\n",
    "mapping = COMP([cylMap,S([1,3])([(7.25*PI/24)*(1/sizxCourtWall),hw4/8])])\n",
    "\n",
    "CurvedCourtWall = COMP([OPTIMIZE,R([1,2])(-2.5*arcAngle),mapping,T(2)((r2+r2)/2)])(MyCourtWall)\n",
    "CrossCourtWall = COMP([STRUCT,NN(4)])([CurvedCourtWall,R([1,2])(PI/2)])\n",
    "VIEW(STRUCT([FullTetto,CrossWalls,CrossCourtWall]))\n",
    "VIEW(STRUCT([basement,T(3)(hbasament),FullExtWall,FullTetto,CrossCourtWall,CrossWalls,MedWallArcs,TheMedColumns]))"
   ]
  },
  {
   "cell_type": "markdown",
   "metadata": {},
   "source": [
    "![Muro_inferiore_Cortile_interno.PNG](files/Immagini/Muro_inferiore_Cortile_interno.PNG)"
   ]
  },
  {
   "cell_type": "markdown",
   "metadata": {},
   "source": [
    "![Composizione_7.PNG](files/Immagini/Composizione_7.PNG)"
   ]
  },
  {
   "cell_type": "markdown",
   "metadata": {},
   "source": []
  },
  {
   "cell_type": "markdown",
   "metadata": {},
   "source": [
    "\n",
    "%-------------------------------------------------------------%\n",
    "%---Coronamento Muro Cortile interno--------------------------%\n",
    "%-------------------------------------------------------------%\n",
    "\n",
    "\n",
    "\n",
    "DEF TopCourtWall2D = MKPOL:<<<0,3.333>,<10,3.333>,<10,4.333>,<5,6.333>,<0,4.333>>,\n",
    "    <1..5>,<<1>>> & (QUOTE:(#:10:1) * QUOTE:<8>);\n",
    "DEF TopCourtWall = R:<2,3>:(PI/2):(TopCourtWall2D * QUOTE:<1>);\n",
    "DEF MyTopCourtWall = TopCourtWall RIGHT TopCourtWall RIGHT TopCourtWall; \n",
    "DEF CurvedTopCourtWall = (\n",
    "    R:<1,2>:(-2.5*arcAngle) ~ mapping ~ T:2:((r3+r2+2)/2)): MyTopCourtWall;\n",
    "DEF FullTopCourtWall = (STRUCT ~ ##:4):<CurvedTopCourtWall, R:<1,2>:(PI/2)>;\n",
    "%\n",
    "STRUCT:<FullTetto, CrossWalls, CrossCourtWall, FullTopCourtWall >;\n",
    "\n",
    "STRUCT:<basement, T:3:hbasament, FullExtWall, FullTetto, CrossCourtWall,\n",
    "        CrossWalls, MedWallArcs, TheMedColumns, FullTopCourtWall>;\n",
    "%"
   ]
  },
  {
   "cell_type": "code",
   "execution_count": 19,
   "metadata": {},
   "outputs": [
    {
     "data": {
      "text/plain": [
       "<pyplasm.xgepy.Hpc; proxy of <Swig Object of type 'std::shared_ptr< Hpc > *' at 0x0000000014517030> >"
      ]
     },
     "execution_count": 19,
     "metadata": {},
     "output_type": "execute_result"
    }
   ],
   "source": [
    "TopCourtWall2D = INTERSECTION([MKPOL([[[0,3.333],[10,3.333],[10,4.333],[5,6.333],[0,4.333]],[range(1,6)],[[1]]]),PROD([COMP([QUOTE,N(10)])(1),QUOTE([8])])])\n",
    "TopCourtWall = R([2,3])(PI/2)(PROD([TopCourtWall2D,QUOTE([1])]))\n",
    "MyTopCourtWall = RIGHT([TopCourtWall,RIGHT([TopCourtWall,TopCourtWall])])\n",
    "CurvedTopCourtWall = COMP([R([1,2])(-2.5*arcAngle),mapping,T(2)((r3+r2+2)/2)])(MyTopCourtWall)\n",
    "FullTopCourtWall = COMP([STRUCT,NN(4)])([CurvedTopCourtWall,R([1,2])(PI/2)])\n",
    "VIEW(STRUCT([FullTetto,CrossWalls,CrossCourtWall,FullTopCourtWall]))\n",
    "VIEW(STRUCT([basement,T(3)(hbasament),FullExtWall,FullTetto,CrossCourtWall,CrossWalls,MedWallArcs,TheMedColumns,FullTopCourtWall]))"
   ]
  },
  {
   "cell_type": "markdown",
   "metadata": {},
   "source": [
    "![Conoramento_Muro_Cortile_interno.PNG](files/Immagini/Conoramento_Muro_Cortile_interno.PNG)"
   ]
  },
  {
   "cell_type": "markdown",
   "metadata": {},
   "source": [
    "![Composizione_8.PNG](files/Immagini/Composizione_8.PNG)"
   ]
  },
  {
   "cell_type": "code",
   "execution_count": null,
   "metadata": {},
   "outputs": [],
   "source": []
  },
  {
   "cell_type": "markdown",
   "metadata": {},
   "source": [
    "%-------------------------------------------------------------%\n",
    "%---Tetto su Cortile interno----------------------------------%\n",
    "%-------------------------------------------------------------%\n",
    "\n",
    "DEF RotWall = 2.5*arcAngle;\n",
    "DEF CourTetto = MKPOL:<<<0,(r3+r2+2)/2,3.333>,<10,(r3+r2+2)/2,3.333>,\n",
    "    <10,r2,4.333>,<0,r2,4.333>,\n",
    "    <0,(r3+r2+2)/2,3.433>,<10,(r3+r2+2)/2,3.433>,\n",
    "    <10,r2,4.433>,<0,r2,4.433> >, <1..8>,<<1>>> \n",
    "& \n",
    "   (QUOTE:(#:10:1) * QUOTE:<(r3+r2+2)/2> * QUOTE:<5>);\n",
    "\n",
    "DEF MyCourTetto = CourTetto RIGHT CourTetto RIGHT CourTetto; \n",
    "DEF CurvedCourTetto = (R:<1,2>:(-:RotWall) ~ mapping): MyCourTetto;\n",
    "DEF FullCourTetto = (STRUCT ~ ##:4):<CurvedCourTetto, R:<1,2>:(PI/2)>;\n",
    "\n",
    "%\n",
    "STRUCT:<FullTetto, CrossWalls, CrossCourtWall, FullTopCourtWall,\n",
    "        FullCourTetto >;\n",
    "STRUCT:<basement, T:3:hbasament, FullExtWall, FullTetto, CrossCourtWall,\n",
    "        CrossWalls, MedWallArcs, TheMedColumns, FullTopCourtWall, FullCourTetto>;\n",
    "%\n"
   ]
  },
  {
   "cell_type": "code",
   "execution_count": 20,
   "metadata": {},
   "outputs": [
    {
     "data": {
      "text/plain": [
       "<pyplasm.xgepy.Hpc; proxy of <Swig Object of type 'std::shared_ptr< Hpc > *' at 0x00000000145173C0> >"
      ]
     },
     "execution_count": 20,
     "metadata": {},
     "output_type": "execute_result"
    }
   ],
   "source": [
    "RotWall = 2.5 * arcAngle\n",
    "CourTetto = INTERSECTION([MKPOL([[[0,(r3+r2+2)/2,3.333],[10,(r3+r2+2)/2,3.333],[10,r2,4.333],[0,r2,4.333],[0,(r3+r2+2)/2,3.433],[10,(r3+r2+2)/2,3.433],[10,r2,4.433],[0,r2,4.433]],[range(1,9)],[[1]]]),\n",
    "PROD([COMP([QUOTE,N(10)])(1),PROD([QUOTE([(r3+r2+2)/2]),QUOTE([5])])])])\n",
    "MyCourTetto = RIGHT([CourTetto,RIGHT([CourTetto,CourTetto])])\n",
    "CurvedCourTetto = COMP ([R([1,2])(-(RotWall)),mapping])(MyCourTetto)\n",
    "FullCourTetto = COMP([STRUCT,NN(4)])([CurvedCourTetto,R([1,2])(PI/2)])\n",
    "VIEW(STRUCT([FullTetto,CrossWalls,CrossCourtWall,FullTopCourtWall,FullCourTetto]))\n",
    "VIEW(STRUCT([basement,T(3)(hbasament),FullExtWall,FullTetto,CrossCourtWall,CrossWalls,MedWallArcs,TheMedColumns,FullTopCourtWall,FullCourTetto]))"
   ]
  },
  {
   "cell_type": "markdown",
   "metadata": {},
   "source": [
    "![Tetto_su_Cortile_interno.PNG](files/Immagini/Tetto_su_Cortile_interno.PNG)"
   ]
  },
  {
   "cell_type": "markdown",
   "metadata": {},
   "source": [
    "![Composizione_9.PNG](files/Immagini/Composizione_9.PNG)"
   ]
  },
  {
   "cell_type": "markdown",
   "metadata": {},
   "source": [
    "%-------------------------------------------------------------%\n",
    "%---Colonne muro interno--------------------------------------%\n",
    "%-------------------------------------------------------------%\n",
    "\n",
    "DEF Radial22Obj (Obj::IsPol) = \n",
    "  STRUCT:< The20Obj, R:<1,2>:((20*PI)/11), The2Obj >\n",
    "WHERE\n",
    "  The4Obj = (STRUCT ~ ##:4):< Obj, R:<1,2>:(PI/11) >,\n",
    "  The2Obj  = (STRUCT ~ ##:2):< Obj, R:<1,2>:(PI/11) >,\n",
    "  The20Obj = (STRUCT ~ ##:5):< The4Obj, R:<1,2>:((4*PI)/11) >\n",
    "END;\n",
    "\n",
    "DEF InternalCol = (MKPOL ~ UKPOL ~ T:2:((r0 - 2)) ~ Column):<1.5,hCol>;\n",
    "DEF The22Columns = Radial22Obj:InternalCol;\n"
   ]
  },
  {
   "cell_type": "code",
   "execution_count": 21,
   "metadata": {},
   "outputs": [],
   "source": [
    "def Radial22Obj(Obj):\n",
    "    The4Obj = COMP([STRUCT,NN(4)])([Obj,R([1,2])(PI/11)])\n",
    "    The2Obj = COMP([STRUCT,NN(2)])([Obj,R([1,2])(PI/11)])\n",
    "    The20Obj = COMP([STRUCT,NN(5)])([The4Obj,R([1,2])((4*PI)/11)])\n",
    "    return STRUCT([The20Obj,R([1,2])((20*PI)/11),The2Obj])\n",
    "\n",
    "InternalCol = COMP([MKPOL,UKPOL,T(2)((r0-2)),Column])([1.5,hCol])\n",
    "The22Columns = Radial22Obj(InternalCol)"
   ]
  },
  {
   "cell_type": "markdown",
   "metadata": {},
   "source": [
    "%-------------------------------------------------------------%\n",
    "%---Travi muro interno----------------------------------------%\n",
    "%-------------------------------------------------------------%\n",
    "\n",
    "DEF Beam = Q:<-0.5,1.5,2,1.5> * Q:<2.2> * Q:1.5;\n",
    "DEF CurvedBeam = (cylMap ~ T:<2,3>:<(r0 - 2),hcol> ~ S:1:(PI/(11*5)) ):Beam;\n",
    "DEF The22Beams = Radial22Obj:CurvedBeam;\n",
    "\n",
    "%\n",
    "STRUCT:< The22Columns, The22Beams >;\n",
    "\n",
    "STRUCT:<basement, T:3:hbasament, FullExtWall, FullTetto, CrossCourtWall,\n",
    "        CrossWalls, MedWallArcs, TheMedColumns, FullTopCourtWall, \n",
    "        FullCourTetto, The22Columns, The22Beams >;\n",
    "%\n"
   ]
  },
  {
   "cell_type": "code",
   "execution_count": 22,
   "metadata": {},
   "outputs": [
    {
     "data": {
      "text/plain": [
       "<pyplasm.xgepy.Hpc; proxy of <Swig Object of type 'std::shared_ptr< Hpc > *' at 0x00000000145177E0> >"
      ]
     },
     "execution_count": 22,
     "metadata": {},
     "output_type": "execute_result"
    }
   ],
   "source": [
    "Beam = PROD([QUOTE([-0.5,1.5,2,1.5]),PROD([QUOTE([2.2]),QUOTE([1.5])])])\n",
    "CurvedBeam = COMP([cylMap,T([2,3])([(r0 - 2),hCol]),S(1)(PI/(11*5))])(Beam)\n",
    "The22Beams = Radial22Obj(CurvedBeam)\n",
    "\n",
    "\n",
    "VIEW(STRUCT([The22Columns,The22Beams]))\n",
    "VIEW(STRUCT([basement,T(3)(hbasament),FullExtWall,FullTetto,CrossCourtWall,CrossWalls,MedWallArcs,TheMedColumns,FullTopCourtWall,FullCourTetto,The22Columns,The22Beams]))"
   ]
  },
  {
   "cell_type": "markdown",
   "metadata": {},
   "source": [
    "![Travi_muro_interno.PNG](files/Immagini/Travi_muro_interno.PNG)"
   ]
  },
  {
   "cell_type": "markdown",
   "metadata": {},
   "source": [
    "![Composizione_10.PNG](files/Immagini/Composizione_10.PNG)"
   ]
  },
  {
   "cell_type": "markdown",
   "metadata": {},
   "source": []
  },
  {
   "cell_type": "markdown",
   "metadata": {},
   "source": [
    "%-------------------------------------------------------------%\n",
    "%---Muro interno superiore------------------------------------%\n",
    "%-------------------------------------------------------------%\n",
    "\n",
    "DEF Hwall = STRUCT:<\n",
    "%  QUOTE:<-0.5,1.5,-2,1.5> * QUOTE:<-0.3,1.4> * QUOTE:<2.5*hCol>,\n",
    "  QUOTE:<-2.0,2> * QUOTE:<-0.3,1.4> * QUOTE:<1.5*hCol, -0.5*hcol, 0.5*hcol>\n",
    "%  QUOTE:<-0.5,1.75,-1.5,1.75> * QUOTE:<-0.3,1.4> * QUOTE:<2.5*hCol>,\n",
    "  QUOTE:<-2.25,1.5> * QUOTE:<-0.3,1.4> * QUOTE:<1.5*hCol, -0.5*hcol, 0.5*hcol>\n",
    ">;\n",
    "DEF CurvedHwall = (cylMap ~ T:<2,3>:<(r0 - 2),hcol> ~ S:1:(PI/(11*5)) ):Hwall;\n",
    "DEF The22Hwall = Radial22Obj:CurvedHwall;\n",
    "%\n",
    "STRUCT:< The22Columns, The22Beams, The22Hwall >;\n",
    "\n",
    "STRUCT:<basement, T:3:hbasament, FullExtWall, FullTetto, CrossCourtWall,\n",
    "        CrossWalls, MedWallArcs, TheMedColumns, FullTopCourtWall, \n",
    "        FullCourTetto, The22Columns, The22Beams, The22Hwall >;\n",
    "%"
   ]
  },
  {
   "cell_type": "code",
   "execution_count": 23,
   "metadata": {},
   "outputs": [],
   "source": [
    "#Hwall = STRUCT([\n",
    "     #PROD([QUOTE([-0.5,1.5,-2,1.5]),PROD([QUOTE([-0.3,1.4]),PROD([QUOTE([2.5*hCol]),PROD([QUOTE([-2,0.2]),PROD([QUOTE([-0.3,1.4]),PROD([QUOTE([1.5*hCol,-0.5*hCol,0.5*hCol]),\n",
    "    #PROD([QUOTE([-0.5,1.75,-1.5,1.75]),PROD([QUOTE([-0.3,1.4]),PROD([QUOTE([2.5*hCol]),PROD([QUOTE([-2.25,1.5]),PROD([QUOTE([-0.3,1.4]),QUOTE([1.5*hCol,-0.5*hCol,0.5*hCol])])])])])])\n",
    "#])])])])])\n",
    "#])])\n",
    "prova = INSR(PROD)([QUOTE([-2.0,2.0]),QUOTE([-0.3,1.4]),QUOTE([1.5*hCol,-0.5*hCol,0.5*hCol])])\n",
    "prova1 = INSR(PROD)([QUOTE([-2.25,1.5]),QUOTE([-0.3,1.4]),QUOTE([1.5*hCol, -0.5*hCol , 0.5 * hCol])])\n",
    "prova2 = INSR(PROD)([QUOTE([-0.5,1.5,-2,1.5]), QUOTE([-0.3,1.4]), QUOTE([2.5*hCol])])\n"
   ]
  },
  {
   "cell_type": "code",
   "execution_count": 24,
   "metadata": {},
   "outputs": [],
   "source": [
    "Hwall = STRUCT([prova,prova1,prova2])\n"
   ]
  },
  {
   "cell_type": "code",
   "execution_count": 25,
   "metadata": {},
   "outputs": [
    {
     "data": {
      "text/plain": [
       "<pyplasm.xgepy.Hpc; proxy of <Swig Object of type 'std::shared_ptr< Hpc > *' at 0x0000000014517840> >"
      ]
     },
     "execution_count": 25,
     "metadata": {},
     "output_type": "execute_result"
    }
   ],
   "source": [
    "\n",
    "CurvedHwall = COMP([cylMap,T([2,3])([(r0 - 2),hCol]),S(1)(PI/(11*5))])(Hwall)\n",
    "The22Hwall = Radial22Obj(CurvedHwall)\n",
    "VIEW(STRUCT([The22Columns,The22Beams,The22Hwall]))\n",
    "VIEW(STRUCT([basement,T(3)(hbasament),FullExtWall,FullTetto,CrossCourtWall,CrossWalls,MedWallArcs,MedWallArcs,TheMedColumns,FullTopCourtWall,FullCourTetto,The22Columns,The22Beams,The22Hwall]))"
   ]
  },
  {
   "cell_type": "markdown",
   "metadata": {},
   "source": [
    "![Muro_interno_superiore.PNG](files/Immagini/Muro_interno_superiore.PNG)"
   ]
  },
  {
   "cell_type": "markdown",
   "metadata": {},
   "source": [
    "![Composizione_11.PNG](files/Immagini/Composizione_11.PNG)"
   ]
  },
  {
   "cell_type": "code",
   "execution_count": null,
   "metadata": {},
   "outputs": [],
   "source": []
  },
  {
   "cell_type": "code",
   "execution_count": null,
   "metadata": {},
   "outputs": [],
   "source": []
  },
  {
   "cell_type": "code",
   "execution_count": null,
   "metadata": {},
   "outputs": [],
   "source": []
  },
  {
   "cell_type": "markdown",
   "metadata": {},
   "source": [
    "# %-------------------------------------------------------------%\n",
    "%---Coronamento superiore muro interno -----------------------%\n",
    "%-------------------------------------------------------------%\n",
    "\n",
    "DEF myArc = MAP:[SIN ~ S1, COS ~ S1]:(QUOTE:(#:5:(PI/10)));\n",
    "DEF Vertex = MKPOL:<<<0,0>>,<<1>>,<<1>>>;\n",
    "DEF Sector = JOIN:<myArc, Vertex>;\n",
    "DEF Triangle = S:1:-1:(SIMPLEX:2);\n",
    "DEF SectorTriangle2D = STRUCT:<T:1:0.05, Sector, T:1:2, Triangle>;\n",
    "DEF DoubleSect = STRUCT:< SectorTriangle2D, S:1:-1:SectorTriangle2D>;\n",
    "DEF Sect2D = S:1:(2/2.05):DoubleSect;\n",
    "DEF Sect3D = R:<2,3>:(PI/2):(Sect2D * QUOTE:<0.8>);\n",
    "DEF CurvedSect = (cylMap ~ T:2:(r0 %- 2%) ~ S:<1,3>:<(2*PI)/(11*4),3> ):Sect3D;\n",
    "DEF Frieze = T:3:(3.5*hcol):CurvedSect;\n",
    "DEF Radial11Obj (Obj::IsPol) = \n",
    "  STRUCT:< The10Obj, R:<1,2>:((20*PI)/11), Obj >\n",
    "WHERE\n",
    "  The2Obj = (STRUCT ~ ##:2):< Obj, R:<1,2>:((2*PI)/11) >,\n",
    "  The10Obj = (STRUCT ~ ##:5):< The2Obj, R:<1,2>:((4*PI)/11) >\n",
    "END;\n",
    "DEF The11Frieze = Radial11Obj:Frieze;\n",
    "\n",
    "%\n",
    "The11Frieze;\n",
    "STRUCT:<basement, T:3:hbasament, FullExtWall, FullTetto, CrossCourtWall,\n",
    "        CrossWalls, MedWallArcs, TheMedColumns, FullTopCourtWall, \n",
    "        FullCourTetto, The22Columns, The22Beams, The22Hwall, The11Frieze >;\n",
    "%"
   ]
  },
  {
   "cell_type": "code",
   "execution_count": 26,
   "metadata": {},
   "outputs": [
    {
     "data": {
      "text/plain": [
       "<pyplasm.xgepy.Hpc; proxy of <Swig Object of type 'std::shared_ptr< Hpc > *' at 0x00000000145178D0> >"
      ]
     },
     "execution_count": 26,
     "metadata": {},
     "output_type": "execute_result"
    }
   ],
   "source": [
    "funz_x = lambda x : math.sin(x[0])\n",
    "funz_y = lambda x : math.cos(x[0])\n",
    "myArc = MAP([funz_x,funz_y])(COMP([QUOTE,N(5)])(PI/10))\n",
    "Vertex = MKPOL([[[0,0]],[[1]],[[1]]])\n",
    "Sector = JOIN([myArc,Vertex])\n",
    "Triangle = S(1)(-1)((SIMPLEX(2)))\n",
    "SectorTriangle2D = STRUCT([T(1)(0.05),Sector,T(1)(2),Triangle])\n",
    "DoubleSect = STRUCT([SectorTriangle2D,S(1)(-1)(SectorTriangle2D)])\n",
    "Sect2D = S(1)(2/2.05)(DoubleSect)\n",
    "Sect3D = R([2,3])(PI/2)(PROD([Sect2D,QUOTE([0.8])]))\n",
    "CurvedSect = COMP([cylMap, T(2)(r0),S([1,3])([(2*PI)/(11*4),3])])(Sect3D)\n",
    "Frieze = T(3)(3.5*hCol)(CurvedSect)\n",
    "def Radial11Obj(Obj):\n",
    "    The2Obj = COMP([STRUCT,NN(2)])([Obj,R([1,2])((2*PI)/11)])\n",
    "    The10Obj = COMP([STRUCT,NN(5)])([The2Obj,R([1,2])((4*PI)/11)])\n",
    "    return STRUCT([The10Obj,R([1,2])((20*PI)/11),Obj])\n",
    "\n",
    "The11Frieze = Radial11Obj(Frieze)\n",
    "VIEW(The11Frieze)\n",
    "VIEW(STRUCT([basement,T(3)(hbasament),FullExtWall,FullTetto,CrossCourtWall,\n",
    "            CrossWalls,MedWallArcs,TheMedColumns,FullTopCourtWall,\n",
    "            FullCourTetto,The22Columns,The22Beams,The22Hwall,The11Frieze]))"
   ]
  },
  {
   "cell_type": "markdown",
   "metadata": {},
   "source": [
    "![Coronamento_superiore_muro_interno.PNG](files/Immagini/Coronamento_superiore_muro_interno.PNG)"
   ]
  },
  {
   "cell_type": "markdown",
   "metadata": {},
   "source": [
    "![Composizione_12.PNG](files/Immagini/Composizione_12.PNG)"
   ]
  },
  {
   "cell_type": "markdown",
   "metadata": {},
   "source": [
    "%-------------------------------------------------------------%\n",
    "%---Traliccio Tetto interno-----------------------------------%\n",
    "%-------------------------------------------------------------%\n",
    "\n",
    "DEF Trellis (H,L::IsRealPos) = (R:<2,3>:(PI/2) ~ EMBED:1 ~ MKPOL):\n",
    "  <<<0,0>,<L/3,0>,<2*L/3,0>,<L,0>,<2*L/3,H/3>,<L/3,2*H/3>,<0,H>>,\n",
    "   <<1,2>,<2,3>,<3,4>,<4,5>,<5,6>,<6,7>,<7,1>,<1,6>,<6,2>,<2,5>,<5,3>>,\n",
    "   <1..11> > ;\n",
    "DEF Radial (n::IsIntPos)(obj::IsPol) = (STRUCT ~ ##:3):\n",
    "   <(STRUCT ~ ##:(n/3)):< obj, R:<1,2>:(2*PI/n) >, R:<1,2>:(2*PI/3)>;\n",
    "\n",
    "DEF TrellisTop3D = (T:2:-0.25 ~ S:2:0.5 ~ OffSet:<1,1,1> ~ Trellis):<hcol,r0 - 1>;\n",
    "DEF TheTopTrellis = T:3:(3.5*hcol):TrellisTop3D;\n",
    "DEF TopTrellis = Radial:12:TheTopTrellis;\n",
    "%\n",
    "STRUCT:< The11Frieze, TopTrellis >;\n",
    "\n",
    "STRUCT:<basement, T:3:hbasament, FullExtWall, FullTetto, CrossCourtWall,\n",
    "        CrossWalls, MedWallArcs, TheMedColumns, FullTopCourtWall, \n",
    "        FullCourTetto, The22Columns, The22Beams, The22Hwall, \n",
    "        The11Frieze, TopTrellis >;\n",
    "%\n"
   ]
  },
  {
   "cell_type": "code",
   "execution_count": 27,
   "metadata": {},
   "outputs": [
    {
     "data": {
      "text/plain": [
       "<pyplasm.xgepy.Hpc; proxy of <Swig Object of type 'std::shared_ptr< Hpc > *' at 0x000000001464DA80> >"
      ]
     },
     "execution_count": 27,
     "metadata": {},
     "output_type": "execute_result"
    }
   ],
   "source": [
    "def Trellis(argomenti):\n",
    "    H,L  = argomenti\n",
    "    return COMP([R([2,3])(PI/2),EMBED(1),MKPOL])([[[0,0],[L/3,0],[2*L/3,0],[L,0],[2*L/3,H/3],[L/3,2*H/3],[0,H]],[[1,2],[2,3],[3,4],[4,5],[5,6],[6,7],[7,1],[1,6],[6,2],[2,5],[5,3]],[range(1,12)]])\n",
    "def Radial (n):\n",
    "    def Radial1(obj):\n",
    "        return COMP([STRUCT,NN(3)])(COMP([STRUCT,NN(n/3)])(obj,R([1,2])(2*PI/n)))(R([1,2])(2*PI/3))\n",
    "    return Radial11Obj\n",
    "TrellisTop3D = COMP([T(2)(-0.25),S(2)(0.5),OFFSET([1,1,1]),Trellis])([hCol,r0 -1])\n",
    "TheTopTrellis = T(3)(3.5*hCol)(TrellisTop3D)\n",
    "TopTrellis = Radial(12)(TheTopTrellis)\n",
    "VIEW(STRUCT([The11Frieze,TopTrellis]))\n",
    "VIEW(STRUCT([basement,T(3)(hbasament),FullExtWall,FullTetto,CrossCourtWall,\n",
    "            CrossWalls,MedWallArcs,TheMedColumns,FullTopCourtWall,\n",
    "            FullCourTetto,The22Columns,The22Beams,The22Hwall,\n",
    "            The11Frieze,TopTrellis]))"
   ]
  },
  {
   "cell_type": "markdown",
   "metadata": {},
   "source": [
    "![Traliccio_Tetto_interno.PNG](files/Immagini/Traliccio_Tetto_interno.PNG)"
   ]
  },
  {
   "cell_type": "markdown",
   "metadata": {},
   "source": [
    "![Composizione_13.PNG](files/Immagini/Composizione_13.PNG)"
   ]
  },
  {
   "cell_type": "markdown",
   "metadata": {},
   "source": [
    "%-------------------------------------------------------------%\n",
    "%---Traliccio Tetto intermedio--------------------------------%\n",
    "%-------------------------------------------------------------%\n",
    "\n",
    "DEF TrellisMed3D = (T:2:-0.25 ~ S:2:0.5 ~ OffSet:<1,1,1> ~ Trellis):<hcol,r2 - r0>;\n",
    "DEF TheMedTrellis = T:3:(hcol+3):TrellisMed3D;\n",
    "DEF MedTrellis = Radial:24:(T:1:r0:TheMedTrellis);\n",
    "DEF DoubleMedTrellis = STRUCT:<MedTrellis, R:<1,2>:(PI/24), MedTrellis>;"
   ]
  },
  {
   "cell_type": "code",
   "execution_count": 28,
   "metadata": {},
   "outputs": [],
   "source": [
    "TrellisMed3D = COMP([T(2)(-0.25),S(2)(0.5),OFFSET([1,1,1]),Trellis])([hCol,r2-r0])\n",
    "TheMedTrellis = T(3)(hCol+3)(TrellisMed3D)"
   ]
  },
  {
   "cell_type": "code",
   "execution_count": 29,
   "metadata": {},
   "outputs": [],
   "source": [
    "MedTrellis = Radial(24)(T(1)(r0)(TheMedTrellis))\n",
    "DoubleMedTrellis = STRUCT([MedTrellis, R([1,2])(PI/24),MedTrellis])"
   ]
  },
  {
   "cell_type": "markdown",
   "metadata": {},
   "source": [
    "%---------------------------------------------------------------------\n",
    "DEF out = (CenteredCameras ~ STRUCT):\n",
    "  <basement, T:3:hbasament, FullExtWall, FullTetto, CrossCourtWall,\n",
    "        CrossWalls, MedWallArcs, TheMedColumns, FullTopCourtWall, \n",
    "        FullCourTetto, The22Columns, The22Beams, The22Hwall, \n",
    "        The11Frieze, TopTrellis , DoubleMedTrellis >;\n",
    "---------------------------------------------------------------------%\n",
    "\n",
    "DEF out = STRUCT:\n",
    "  <basement, T:3:hbasament, FullExtWall, FullTetto, CrossCourtWall,\n",
    "        CrossWalls, MedWallArcs, TheMedColumns, FullTopCourtWall, \n",
    "        FullCourTetto, The22Columns, The22Beams, The22Hwall, \n",
    "The11Frieze, TopTrellis , DoubleMedTrellis >;"
   ]
  },
  {
   "cell_type": "code",
   "execution_count": 30,
   "metadata": {},
   "outputs": [],
   "source": [
    "out = STRUCT([basement,T(3)(hbasament),FullExtWall,FullTetto,CrossCourtWall,\n",
    "                                      CrossWalls,MedWallArcs,TheMedColumns,FullTopCourtWall,\n",
    "                                      FullCourTetto,The22Columns,The22Beams,The22Hwall,\n",
    "                                      The11Frieze,TopTrellis,DoubleMedTrellis])"
   ]
  },
  {
   "cell_type": "code",
   "execution_count": 31,
   "metadata": {},
   "outputs": [
    {
     "data": {
      "text/plain": [
       "<pyplasm.xgepy.Hpc; proxy of <Swig Object of type 'std::shared_ptr< Hpc > *' at 0x0000000014517720> >"
      ]
     },
     "execution_count": 31,
     "metadata": {},
     "output_type": "execute_result"
    }
   ],
   "source": [
    "VIEW(out)"
   ]
  },
  {
   "cell_type": "markdown",
   "metadata": {},
   "source": [
    "![Composizione_finale.PNG](files/Immagini/Composizione_finale.PNG)"
   ]
  },
  {
   "cell_type": "code",
   "execution_count": null,
   "metadata": {},
   "outputs": [],
   "source": []
  },
  {
   "cell_type": "code",
   "execution_count": null,
   "metadata": {},
   "outputs": [],
   "source": []
  },
  {
   "cell_type": "code",
   "execution_count": null,
   "metadata": {},
   "outputs": [],
   "source": []
  }
 ],
 "metadata": {
  "kernelspec": {
   "display_name": "Python 2",
   "language": "python",
   "name": "python2"
  },
  "language_info": {
   "codemirror_mode": {
    "name": "ipython",
    "version": 2
   },
   "file_extension": ".py",
   "mimetype": "text/x-python",
   "name": "python",
   "nbconvert_exporter": "python",
   "pygments_lexer": "ipython2",
   "version": "2.7.12"
  }
 },
 "nbformat": 4,
 "nbformat_minor": 2
}

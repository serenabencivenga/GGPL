{
 "cells": [
  {
   "cell_type": "code",
   "execution_count": 1,
   "metadata": {},
   "outputs": [],
   "source": [
    "import csv\n",
    "import math"
   ]
  },
  {
   "cell_type": "code",
   "execution_count": 2,
   "metadata": {},
   "outputs": [
    {
     "name": "stdout",
     "output_type": "stream",
     "text": [
      "Evaluating fenvs.py..\n",
      "...fenvs.py imported in 0.0237458257924 seconds\n"
     ]
    },
    {
     "name": "stderr",
     "output_type": "stream",
     "text": [
      "c:\\programmi\\python27\\lib\\site-packages\\larlib\\larstruct.py:233: FutureWarning: comparison to `None` will result in an elementwise object comparison in the future.\n",
      "  self.body = [item for item in data if item != None]\n"
     ]
    }
   ],
   "source": [
    "from larlib import *\n",
    "from pyplasm import *"
   ]
  },
  {
   "cell_type": "code",
   "execution_count": 3,
   "metadata": {},
   "outputs": [],
   "source": [
    "def Grafo():\n",
    "    with open(\"Planimetria_Modificata.lines\",\"rb\") as file :\n",
    "\n",
    "\n",
    "        reader = csv.reader(file, delimiter=\",\")\n",
    "\n",
    "\n",
    "        keys = {}\n",
    "\n",
    "        nodi = []\n",
    "\n",
    "        archi = []\n",
    "\n",
    "\n",
    "        i = 0\n",
    "\n",
    "\n",
    "        for row in reader:\n",
    "\n",
    "            row0 = round(float(row[0]) / 10) * 10\n",
    "\n",
    "            row1 = round(float(row[1]) / 10) * 10\n",
    "\n",
    "            row2 = round(float(row[2]) / 10) * 10\n",
    "\n",
    "            row3 = round(float(row[3]) / 10) * 10\n",
    "\n",
    "\n",
    "            if not (row0, row1) in keys.keys():\n",
    "\n",
    "                keys[(row0, row1)] = i\n",
    "\n",
    "                nodi.append((row0, row1))\n",
    "\n",
    "                i = i + 1\n",
    "\n",
    "\n",
    "            if not (row2, row3) in keys.keys():\n",
    "\n",
    "                keys[(row2, row3)] = i\n",
    "\n",
    "                nodi.append((row2, row3))\n",
    "\n",
    "                i = i + 1\n",
    "\n",
    "\n",
    "            archi.append((keys[(row0, row1)], (keys[(row2, row3)])))\n",
    "\n",
    "\n",
    "    return (nodi, archi)"
   ]
  },
  {
   "cell_type": "code",
   "execution_count": 4,
   "metadata": {},
   "outputs": [
    {
     "data": {
      "text/plain": [
       "<pyplasm.xgepy.Hpc; proxy of <Swig Object of type 'std::shared_ptr< Hpc > *' at 0x0000000016C93510> >"
      ]
     },
     "execution_count": 4,
     "metadata": {},
     "output_type": "execute_result"
    }
   ],
   "source": [
    "VIEW(STRUCT(MKPOLS(Grafo())))"
   ]
  },
  {
   "cell_type": "markdown",
   "metadata": {},
   "source": [
    "![Cartina1.PNG](files/Immagini/Cartina1.PNG)"
   ]
  },
  {
   "cell_type": "code",
   "execution_count": null,
   "metadata": {},
   "outputs": [],
   "source": []
  }
 ],
 "metadata": {
  "kernelspec": {
   "display_name": "Python 2",
   "language": "python",
   "name": "python2"
  },
  "language_info": {
   "codemirror_mode": {
    "name": "ipython",
    "version": 2
   },
   "file_extension": ".py",
   "mimetype": "text/x-python",
   "name": "python",
   "nbconvert_exporter": "python",
   "pygments_lexer": "ipython2",
   "version": "2.7.12"
  }
 },
 "nbformat": 4,
 "nbformat_minor": 2
}

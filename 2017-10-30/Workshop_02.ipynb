{
 "cells": [
  {
   "cell_type": "markdown",
   "metadata": {},
   "source": [
    "# PROGETTAZIONE DI MODELLI MOBILI IKEA"
   ]
  },
  {
   "cell_type": "markdown",
   "metadata": {},
   "source": [
    "#Per la progettazione dei mobili sono state utilizzate le trasformazioni 3D :\n",
    "- Traslazione\n",
    "- Rotazione\n",
    "- Operazione di scalamento"
   ]
  },
  {
   "cell_type": "code",
   "execution_count": 1,
   "metadata": {},
   "outputs": [],
   "source": [
    "#Importo la libreria larlib"
   ]
  },
  {
   "cell_type": "code",
   "execution_count": 2,
   "metadata": {},
   "outputs": [
    {
     "name": "stdout",
     "output_type": "stream",
     "text": [
      "Evaluating fenvs.py..\n",
      "...fenvs.py imported in 0.021272458329 seconds\n"
     ]
    },
    {
     "name": "stderr",
     "output_type": "stream",
     "text": [
      "c:\\programmi\\python27\\lib\\site-packages\\larlib\\larstruct.py:233: FutureWarning: comparison to `None` will result in an elementwise object comparison in the future.\n",
      "  self.body = [item for item in data if item != None]\n"
     ]
    }
   ],
   "source": [
    "from larlib import *"
   ]
  },
  {
   "cell_type": "markdown",
   "metadata": {},
   "source": [
    "Progettazione della libreria KALLAX shelves\n"
   ]
  },
  {
   "cell_type": "markdown",
   "metadata": {},
   "source": [
    "Misure prodotto : \n",
    "- Larghezza : 77 cm\n",
    "- Profondità : 39 cm\n",
    "- Altezza : 147 cm\n",
    "- Carico massimo/ripiano : 13 kg"
   ]
  },
  {
   "cell_type": "code",
   "execution_count": 3,
   "metadata": {},
   "outputs": [],
   "source": [
    "#Progettazione parete laterale"
   ]
  },
  {
   "cell_type": "code",
   "execution_count": 4,
   "metadata": {},
   "outputs": [],
   "source": [
    "latoverticale = S ([1 ,2 ,3]) ([ 0.04,1.47 ,0.39]) ( CUBOID ([1 ,1 ,1]) )\n",
    "lativerticali= STRUCT (NN(2)([latoverticale,T(1)(0.77)]))"
   ]
  },
  {
   "cell_type": "code",
   "execution_count": 5,
   "metadata": {},
   "outputs": [],
   "source": [
    "#Progettazione parte superiore"
   ]
  },
  {
   "cell_type": "code",
   "execution_count": 6,
   "metadata": {},
   "outputs": [],
   "source": [
    "latoorizzontale = S([1,2,3])([0.77,0.04,0.39])(CUBOID([1,1,1]))\n",
    "latiorizzontali = STRUCT ( NN (2) ([ latoorizzontale , T(2) (1.43) ]) )"
   ]
  },
  {
   "cell_type": "code",
   "execution_count": 7,
   "metadata": {},
   "outputs": [],
   "source": [
    "#Composizione"
   ]
  },
  {
   "cell_type": "code",
   "execution_count": 8,
   "metadata": {},
   "outputs": [],
   "source": [
    "MOBILE = STRUCT([COLOR([0.9,0.7,0.6])(lativerticali),  COLOR([0.9,0.7,0.6])(latiorizzontali)])"
   ]
  },
  {
   "cell_type": "code",
   "execution_count": 9,
   "metadata": {},
   "outputs": [],
   "source": [
    "#Progettazione dei ripiani"
   ]
  },
  {
   "cell_type": "code",
   "execution_count": 10,
   "metadata": {},
   "outputs": [],
   "source": [
    "ripiano = S([1,2,3])([0.77,0.03,0.39])(CUBOID([1,1,1]))\n",
    "ripiani = STRUCT(NN(4)([ripiano, T(2)(0.3675)]))"
   ]
  },
  {
   "cell_type": "code",
   "execution_count": 11,
   "metadata": {},
   "outputs": [],
   "source": [
    "#Parete centrale "
   ]
  },
  {
   "cell_type": "code",
   "execution_count": 12,
   "metadata": {},
   "outputs": [],
   "source": [
    "ripianocentrale = T (1)(12.5) ( CUBOID ([1 ,1 ,1]))\n",
    "ripianoc = S([1,2,3])([0.03,1.47,0.39])(ripianocentrale)"
   ]
  },
  {
   "cell_type": "code",
   "execution_count": 13,
   "metadata": {},
   "outputs": [],
   "source": [
    "#Composizione ripiani"
   ]
  },
  {
   "cell_type": "code",
   "execution_count": 14,
   "metadata": {},
   "outputs": [],
   "source": [
    "ripianicompleti = STRUCT([  COLOR([0.9,0.7,0.6])(ripianoc),  COLOR([0.9,0.7,0.6]) (ripiani)])"
   ]
  },
  {
   "cell_type": "code",
   "execution_count": 15,
   "metadata": {},
   "outputs": [],
   "source": [
    "#Composizione finale del mobile completo"
   ]
  },
  {
   "cell_type": "code",
   "execution_count": 16,
   "metadata": {},
   "outputs": [],
   "source": [
    "MOBILEFINITO = STRUCT([  COLOR([0.9,0.7,0.6])(MOBILE),  COLOR([0.9,0.7,0.6])(ripianicompleti)])"
   ]
  },
  {
   "cell_type": "code",
   "execution_count": 17,
   "metadata": {},
   "outputs": [
    {
     "data": {
      "text/plain": [
       "<pyplasm.xgepy.Hpc; proxy of <Swig Object of type 'std::shared_ptr< Hpc > *' at 0x0000000014834420> >"
      ]
     },
     "execution_count": 17,
     "metadata": {},
     "output_type": "execute_result"
    }
   ],
   "source": [
    "VIEW(MOBILEFINITO)"
   ]
  },
  {
   "cell_type": "markdown",
   "metadata": {},
   "source": [
    "https://github.com/serenabencivenga/ggpl/blob/master/2017-10-30/Immagini/BILLY%20libreria%20con%20ante.PNG"
   ]
  },
  {
   "attachments": {},
   "cell_type": "markdown",
   "metadata": {},
   "source": [
    "![KALLAX%20shelves.PNG](files/Immagini/KALLAX%20shelves.PNG)"
   ]
  },
  {
   "cell_type": "markdown",
   "metadata": {},
   "source": [
    "Progettazione scaffale KALLAX"
   ]
  },
  {
   "cell_type": "markdown",
   "metadata": {},
   "source": [
    "Misure del prodotto\n",
    "- Larghezza : 77 cm\n",
    "- Profondità : 39 cm\n",
    "- Altezza : 42 cm\n",
    "- Carico massimo/ripiano : 13 kg"
   ]
  },
  {
   "cell_type": "code",
   "execution_count": 18,
   "metadata": {},
   "outputs": [],
   "source": [
    "#Progettazione ante laterali"
   ]
  },
  {
   "cell_type": "code",
   "execution_count": 19,
   "metadata": {},
   "outputs": [],
   "source": [
    "latoverticale2 = S ([1 ,2 ,3]) ([ 0.03,0.42 ,0.39]) ( CUBOID ([1 ,1 ,1]) )\n",
    "lativerticali2= STRUCT (NN(2)([latoverticale2,T(1)(0.74)]))"
   ]
  },
  {
   "cell_type": "code",
   "execution_count": 20,
   "metadata": {},
   "outputs": [],
   "source": [
    "#Progettazione ante orizzontali"
   ]
  },
  {
   "cell_type": "code",
   "execution_count": 21,
   "metadata": {},
   "outputs": [],
   "source": [
    "latoorizzontale2 = S([1,2,3])([0.77,0.03,0.39])(CUBOID([1,1,1]))\n",
    "latiorizzontali2 = STRUCT ( NN (2) ([ latoorizzontale2 , T(2) (0.42) ]) )\n"
   ]
  },
  {
   "cell_type": "code",
   "execution_count": 22,
   "metadata": {},
   "outputs": [],
   "source": [
    "#Costruzione base del mobile"
   ]
  },
  {
   "cell_type": "code",
   "execution_count": 23,
   "metadata": {},
   "outputs": [],
   "source": [
    "mobile2 = STRUCT([  COLOR([0.9,0.7,0.6])(lativerticali2),  COLOR([0.9,0.7,0.6])(latiorizzontali2)])"
   ]
  },
  {
   "cell_type": "code",
   "execution_count": 24,
   "metadata": {},
   "outputs": [],
   "source": [
    "#Anta separatrice "
   ]
  },
  {
   "cell_type": "code",
   "execution_count": 25,
   "metadata": {},
   "outputs": [],
   "source": [
    "separatore = S ([1,2,3])([0.02,0.42,0.39])(CUBOID([1,1,1]))\n",
    "separatoremobile = STRUCT (NN(2)([separatore,T(1)(0.385)]))"
   ]
  },
  {
   "cell_type": "code",
   "execution_count": 26,
   "metadata": {},
   "outputs": [],
   "source": [
    "#Mobile completo"
   ]
  },
  {
   "cell_type": "code",
   "execution_count": 27,
   "metadata": {},
   "outputs": [],
   "source": [
    "mobilecompleto2 = STRUCT([  COLOR([0.9,0.7,0.6])(mobile2),  COLOR([0.9,0.7,0.6])(separatoremobile)])"
   ]
  },
  {
   "cell_type": "code",
   "execution_count": 28,
   "metadata": {},
   "outputs": [
    {
     "data": {
      "text/plain": [
       "<pyplasm.xgepy.Hpc; proxy of <Swig Object of type 'std::shared_ptr< Hpc > *' at 0x0000000014847210> >"
      ]
     },
     "execution_count": 28,
     "metadata": {},
     "output_type": "execute_result"
    }
   ],
   "source": [
    "VIEW(mobilecompleto2)"
   ]
  },
  {
   "attachments": {},
   "cell_type": "markdown",
   "metadata": {},
   "source": [
    "![Scaffale%20KALLAX.PNG](files/Immagini/Scaffale%20KALLAX.PNG)"
   ]
  },
  {
   "cell_type": "markdown",
   "metadata": {},
   "source": [
    "Progetto Scaffale KALLAX"
   ]
  },
  {
   "cell_type": "markdown",
   "metadata": {},
   "source": [
    "Misure del prodotto\n",
    "- Larghezza : 42 cm\n",
    "- Profondità : 39 cm\n",
    "- Altezza : 42 cm\n",
    "- Carico massimo/ripiano : 13 kg"
   ]
  },
  {
   "cell_type": "code",
   "execution_count": 29,
   "metadata": {},
   "outputs": [],
   "source": [
    "#Progettazione pareti"
   ]
  },
  {
   "cell_type": "code",
   "execution_count": 30,
   "metadata": {},
   "outputs": [],
   "source": [
    "PP=S ([1 ,2 ,3]) ([0.42 ,0.03 ,0.39]) ( CUBOID ([1 ,1 ,1]) )\n"
   ]
  },
  {
   "cell_type": "code",
   "execution_count": 31,
   "metadata": {},
   "outputs": [],
   "source": [
    "#Lato verticale"
   ]
  },
  {
   "cell_type": "code",
   "execution_count": 32,
   "metadata": {},
   "outputs": [],
   "source": [
    "lativerticali = STRUCT ( NN (2) ([ PP , T(2) (0.42) ]) )"
   ]
  },
  {
   "cell_type": "code",
   "execution_count": 33,
   "metadata": {},
   "outputs": [],
   "source": [
    "#Lato orizzontale"
   ]
  },
  {
   "cell_type": "code",
   "execution_count": 34,
   "metadata": {},
   "outputs": [],
   "source": [
    "latiorizzontali = S ([1 ,2 ,3]) ([0.03 ,0.42 ,0.39]) ( CUBOID ([1 ,1 ,1]) )"
   ]
  },
  {
   "cell_type": "code",
   "execution_count": 35,
   "metadata": {},
   "outputs": [],
   "source": [
    "#Composizione del mobile finale"
   ]
  },
  {
   "cell_type": "code",
   "execution_count": 36,
   "metadata": {},
   "outputs": [
    {
     "data": {
      "text/plain": [
       "<pyplasm.xgepy.Hpc; proxy of <Swig Object of type 'std::shared_ptr< Hpc > *' at 0x0000000014847A80> >"
      ]
     },
     "execution_count": 36,
     "metadata": {},
     "output_type": "execute_result"
    }
   ],
   "source": [
    "INS= STRUCT([COLOR([0.9,0.7,0.6]),(latiorizzontali),COLOR([0.9,0.7,0.6])(lativerticali)])\n",
    "nuovacomponentelaterale = STRUCT ( NN (2) ([ latiorizzontali , T(1) (0.39) ]) )\n",
    "mobilefinale=STRUCT([COLOR([0.9,0.7,0.6])(nuovacomponentelaterale),COLOR([0.9,0.7,0.6])(INS)])\n",
    "VIEW(mobilefinale)\n"
   ]
  },
  {
   "attachments": {},
   "cell_type": "markdown",
   "metadata": {},
   "source": [
    "![Scaffale%20KALLAX%202.PNG](files/Immagini/Scaffale%20KALLAX%202.PNG)"
   ]
  },
  {
   "cell_type": "markdown",
   "metadata": {},
   "source": [
    "Progettazione BILLY libreria con ante"
   ]
  },
  {
   "cell_type": "markdown",
   "metadata": {},
   "source": [
    "Misure del prodotto: \n",
    "- Larghezza : 80 cm\n",
    "- Profondità : 30 cm\n",
    "- Altezza : 202 cm\n",
    "- Carico massimo/ripiano : 30 kg"
   ]
  },
  {
   "cell_type": "code",
   "execution_count": 37,
   "metadata": {},
   "outputs": [
    {
     "data": {
      "text/plain": [
       "<pyplasm.xgepy.Hpc; proxy of <Swig Object of type 'std::shared_ptr< Hpc > *' at 0x00000000148E4A50> >"
      ]
     },
     "execution_count": 37,
     "metadata": {},
     "output_type": "execute_result"
    }
   ],
   "source": [
    "base = S([1,2,3])([0.80,0.05,0.39])(CUBOID([1,1,1]))\n",
    "base2 = S([1,2,3])([0.01,2.02,0.39])(CUBOID([1,1,1]))\n",
    "rbase2 = STRUCT(NN(2)([base2, T(1)(0.80)]))\n",
    "basefinale = STRUCT([base,rbase2])\n",
    "latoverticale = S ([1 ,2 ,3]) ([ 0.04,2.02 ,0.39]) ( CUBOID ([1 ,1 ,1]) )\n",
    "lativerticali= STRUCT (NN(2)([latoverticale,T(1)(0.75)]))\n",
    "composizione_ante = STRUCT([basefinale,lativerticali])\n",
    "latoorizzontale = S([1,2,3])([0.80,0.05,0.39])(CUBOID([1,1,1]))\n",
    "ripianiprincipali = STRUCT(NN(3)([latoorizzontale,T(2)(1)]))\n",
    "rp = STRUCT([composizione_ante,ripianiprincipali])\n",
    "separatore = STRUCT(NN(2)([latoverticale,T(1)(0.38)]))\n",
    "separatore1 = STRUCT(NN(2)([latoverticale,T(1)(0.43)]))\n",
    "rp2 = STRUCT([rp,separatore,separatore1])\n",
    "antaposteriore = S([1,2,3])([0.80,2.02,0.01])(CUBOID([1,1,1]))\n",
    "ap = T([3])([0.39])(antaposteriore)\n",
    "rp3 = STRUCT ([rp2,ap])\n",
    "ripianipiccoli = S([1,2,3])([0.80,0.02,0.39])(CUBOID([1,1,1]))\n",
    "rpp = STRUCT(NN(6)([ripianipiccoli,T(2)(0.336)]))\n",
    "rp4 = STRUCT([ COLOR([0.9,0.7,0.6])(rpp), COLOR([0.9,0.7,0.6])(rp3)])\n",
    "pomellos = T([1,2])([0.385,1.005]) (CUBOID([0.04,0.02,0.02]))\n",
    "pomellod = T([1,2])([0.435,1.005]) (CUBOID([0.04,0.02,0.02]))\n",
    "rp5 = STRUCT([rp4, pomellos, pomellod])\n",
    "VIEW(rp4)\n",
    "VIEW(rp5)"
   ]
  },
  {
   "attachments": {},
   "cell_type": "markdown",
   "metadata": {},
   "source": [
    "![BILLY%20libreria%20con%20ante.PNG](files/Immagini/BILLY%20libreria%20con%20ante.PNG)"
   ]
  },
  {
   "cell_type": "code",
   "execution_count": 38,
   "metadata": {},
   "outputs": [],
   "source": [
    "# Realizzazione di una stanza con l'utilizzo \"della libreria KALLAX shelves\" e con la composizione di 3 \"Scaffale KALLAX\""
   ]
  },
  {
   "cell_type": "code",
   "execution_count": 39,
   "metadata": {},
   "outputs": [],
   "source": [
    "Parete_laterale_1 = CUBOID([2,2,0.1])\n",
    "Parete_laterale_1 = STRUCT([ COLOR([0,0,0.4]),Parete_laterale_1])"
   ]
  },
  {
   "cell_type": "code",
   "execution_count": 40,
   "metadata": {},
   "outputs": [],
   "source": [
    "Parete_laterale_2 = CUBOID([0.1,2,2])\n",
    "Parete_laterale_2 = STRUCT([COLOR([0,0,0.4]),Parete_laterale_2])\n",
    "Pavimento = CUBOID([2,0.1,2])\n",
    "Pavimento = TEXTURE('\\windows\\system32\\Github\\Pav.jpg')(Pavimento)"
   ]
  },
  {
   "cell_type": "code",
   "execution_count": 41,
   "metadata": {},
   "outputs": [],
   "source": [
    "Mobile = MOBILEFINITO\n",
    "Mobile = TEXTURE('\\windows\\system32\\Github\\Mobile.jpg')(Mobile)\n",
    "Mobile = T([1,2,3])([0.1,0.1,0.1])(Mobile)\n"
   ]
  },
  {
   "cell_type": "code",
   "execution_count": 42,
   "metadata": {},
   "outputs": [],
   "source": [
    "Parete_arredata = STRUCT([Parete_laterale_1,Parete_laterale_2,Mobile,Pavimento])\n"
   ]
  },
  {
   "cell_type": "code",
   "execution_count": 43,
   "metadata": {},
   "outputs": [],
   "source": [
    "mobilefinale1 = T([1,2,3])([1.5,1.5,0.01])(mobilefinale)\n",
    "mobilefinale1 = TEXTURE('\\windows\\system32\\Github\\Mobile.jpg')(mobilefinale1)"
   ]
  },
  {
   "cell_type": "code",
   "execution_count": 44,
   "metadata": {},
   "outputs": [],
   "source": [
    "Parete_arredata = STRUCT([Parete_arredata,mobilefinale1])"
   ]
  },
  {
   "cell_type": "code",
   "execution_count": 45,
   "metadata": {},
   "outputs": [],
   "source": [
    "mobilefinale2 = T([1,2,3])([1.07,1.07,0.01])(mobilefinale)\n",
    "mobilefinale2 = TEXTURE('\\windows\\system32\\Github\\Mobile.jpg')(mobilefinale2)"
   ]
  },
  {
   "cell_type": "code",
   "execution_count": 46,
   "metadata": {},
   "outputs": [],
   "source": [
    "Parete_arredata = STRUCT ([Parete_arredata,mobilefinale2])"
   ]
  },
  {
   "cell_type": "code",
   "execution_count": null,
   "metadata": {},
   "outputs": [],
   "source": []
  },
  {
   "cell_type": "code",
   "execution_count": 47,
   "metadata": {},
   "outputs": [],
   "source": [
    "mobilefinale3 = T([1,2,3])([1.5,0.65,0.01])(mobilefinale)\n",
    "mobilefinale3 = TEXTURE('\\windows\\system32\\Github\\Mobile.jpg')(mobilefinale3)\n",
    "Parete_arredata = STRUCT ([Parete_arredata,mobilefinale3])\n"
   ]
  },
  {
   "cell_type": "code",
   "execution_count": 48,
   "metadata": {},
   "outputs": [],
   "source": [
    "def Dipinto ( ):\n",
    "    return TEXTURE('\\windows\\system32\\Github\\Dipinto.jpg')(CUBOID([0.7,0.7,0.01]))\n",
    "\n",
    "\n",
    "Dipinto = Dipinto()\n",
    "Dipinto = R([1,3])(PI/2)(Dipinto)\n",
    "Dipinto = T([1,2,3])([0.2,1,1])(Dipinto)\n"
   ]
  },
  {
   "cell_type": "code",
   "execution_count": 49,
   "metadata": {},
   "outputs": [
    {
     "data": {
      "text/plain": [
       "<pyplasm.xgepy.Hpc; proxy of <Swig Object of type 'std::shared_ptr< Hpc > *' at 0x00000000148EBE70> >"
      ]
     },
     "execution_count": 49,
     "metadata": {},
     "output_type": "execute_result"
    }
   ],
   "source": [
    "VIEW(Dipinto)"
   ]
  },
  {
   "attachments": {},
   "cell_type": "markdown",
   "metadata": {},
   "source": [
    "![Dipinto.PNG](files/Immagini/Dipinto.PNG)"
   ]
  },
  {
   "cell_type": "code",
   "execution_count": 51,
   "metadata": {},
   "outputs": [
    {
     "data": {
      "text/plain": [
       "<pyplasm.xgepy.Hpc; proxy of <Swig Object of type 'std::shared_ptr< Hpc > *' at 0x00000000148EBEA0> >"
      ]
     },
     "execution_count": 51,
     "metadata": {},
     "output_type": "execute_result"
    }
   ],
   "source": [
    "VIEW(STRUCT([Parete_arredata,Dipinto]))"
   ]
  },
  {
   "attachments": {},
   "cell_type": "markdown",
   "metadata": {},
   "source": [
    "![Stanza.PNG](files/Immagini/Stanza.PNG)"
   ]
  },
  {
   "attachments": {},
   "cell_type": "markdown",
   "metadata": {},
   "source": [
    "![Stanza_1.PNG](files/Immagini/Stanza_1.PNG)"
   ]
  },
  {
   "cell_type": "code",
   "execution_count": null,
   "metadata": {},
   "outputs": [],
   "source": []
  },
  {
   "cell_type": "code",
   "execution_count": null,
   "metadata": {},
   "outputs": [],
   "source": []
  },
  {
   "cell_type": "code",
   "execution_count": null,
   "metadata": {},
   "outputs": [],
   "source": []
  },
  {
   "cell_type": "code",
   "execution_count": null,
   "metadata": {},
   "outputs": [],
   "source": []
  },
  {
   "cell_type": "code",
   "execution_count": null,
   "metadata": {},
   "outputs": [],
   "source": []
  }
 ],
 "metadata": {
  "kernelspec": {
   "display_name": "Python 2",
   "language": "python",
   "name": "python2"
  },
  "language_info": {
   "codemirror_mode": {
    "name": "ipython",
    "version": 2
   },
   "file_extension": ".py",
   "mimetype": "text/x-python",
   "name": "python",
   "nbconvert_exporter": "python",
   "pygments_lexer": "ipython2",
   "version": "2.7.12"
  }
 },
 "nbformat": 4,
 "nbformat_minor": 2
}
